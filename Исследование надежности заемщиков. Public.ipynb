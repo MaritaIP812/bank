{
 "cells": [
  {
   "cell_type": "markdown",
   "id": "3defcf88",
   "metadata": {},
   "source": [
    "# Исследование надежности заемщиков.\n",
    "**Цель исследования** — нужно разобраться, влияет ли семейное положение и количество детей клиента на факт погашения кредита в срок.\n",
    "\n",
    "**Ход исследования**. \n",
    "Входные данные от банка — статистика о платёжеспособности клиентов из файла `data.csv `.\n",
    "\n",
    "Результаты исследования будут учтены при построении модели *кредитного скоринга* — специальной системы, которая оценивает способность потенциального заёмщика вернуть кредит банку.\n",
    "\n",
    "Исследование пройдёт в три этапа:\n",
    " 1. Обзор данных.\n",
    " 2. Предобработка данных.\n",
    " 3. Ответы на вопросы исследования. Вывод."
   ]
  },
  {
   "cell_type": "markdown",
   "id": "ce77bf2b",
   "metadata": {},
   "source": [
    "### Шаг 1. Обзор данных"
   ]
  },
  {
   "cell_type": "markdown",
   "id": "56303b81",
   "metadata": {},
   "source": [
    "Основной инструмент аналитика — pandas. Импортируем эту библиотеку."
   ]
  },
  {
   "cell_type": "code",
   "execution_count": 1,
   "id": "b751d9e6",
   "metadata": {},
   "outputs": [],
   "source": [
    "import pandas as pd"
   ]
  },
  {
   "cell_type": "markdown",
   "id": "c54430b7",
   "metadata": {},
   "source": [
    "Прочитаем файл `data.csv` из папки `/datasets` и сохраним его в переменной `data`:"
   ]
  },
  {
   "cell_type": "code",
   "execution_count": 2,
   "id": "576f4ed8",
   "metadata": {},
   "outputs": [],
   "source": [
    "data = pd.read_csv('/datasets/data.csv')"
   ]
  },
  {
   "cell_type": "markdown",
   "id": "f49def73",
   "metadata": {},
   "source": [
    "Выведем на экран первые 10-20 строк таблицы:"
   ]
  },
  {
   "cell_type": "code",
   "execution_count": 3,
   "id": "f62f9595",
   "metadata": {},
   "outputs": [
    {
     "data": {
      "text/html": [
       "<div>\n",
       "<style scoped>\n",
       "    .dataframe tbody tr th:only-of-type {\n",
       "        vertical-align: middle;\n",
       "    }\n",
       "\n",
       "    .dataframe tbody tr th {\n",
       "        vertical-align: top;\n",
       "    }\n",
       "\n",
       "    .dataframe thead th {\n",
       "        text-align: right;\n",
       "    }\n",
       "</style>\n",
       "<table border=\"1\" class=\"dataframe\">\n",
       "  <thead>\n",
       "    <tr style=\"text-align: right;\">\n",
       "      <th></th>\n",
       "      <th>children</th>\n",
       "      <th>days_employed</th>\n",
       "      <th>dob_years</th>\n",
       "      <th>education</th>\n",
       "      <th>education_id</th>\n",
       "      <th>family_status</th>\n",
       "      <th>family_status_id</th>\n",
       "      <th>gender</th>\n",
       "      <th>income_type</th>\n",
       "      <th>debt</th>\n",
       "      <th>total_income</th>\n",
       "      <th>purpose</th>\n",
       "    </tr>\n",
       "  </thead>\n",
       "  <tbody>\n",
       "    <tr>\n",
       "      <th>0</th>\n",
       "      <td>1</td>\n",
       "      <td>-8437.673028</td>\n",
       "      <td>42</td>\n",
       "      <td>высшее</td>\n",
       "      <td>0</td>\n",
       "      <td>женат / замужем</td>\n",
       "      <td>0</td>\n",
       "      <td>F</td>\n",
       "      <td>сотрудник</td>\n",
       "      <td>0</td>\n",
       "      <td>253875.639453</td>\n",
       "      <td>покупка жилья</td>\n",
       "    </tr>\n",
       "    <tr>\n",
       "      <th>1</th>\n",
       "      <td>1</td>\n",
       "      <td>-4024.803754</td>\n",
       "      <td>36</td>\n",
       "      <td>среднее</td>\n",
       "      <td>1</td>\n",
       "      <td>женат / замужем</td>\n",
       "      <td>0</td>\n",
       "      <td>F</td>\n",
       "      <td>сотрудник</td>\n",
       "      <td>0</td>\n",
       "      <td>112080.014102</td>\n",
       "      <td>приобретение автомобиля</td>\n",
       "    </tr>\n",
       "    <tr>\n",
       "      <th>2</th>\n",
       "      <td>0</td>\n",
       "      <td>-5623.422610</td>\n",
       "      <td>33</td>\n",
       "      <td>Среднее</td>\n",
       "      <td>1</td>\n",
       "      <td>женат / замужем</td>\n",
       "      <td>0</td>\n",
       "      <td>M</td>\n",
       "      <td>сотрудник</td>\n",
       "      <td>0</td>\n",
       "      <td>145885.952297</td>\n",
       "      <td>покупка жилья</td>\n",
       "    </tr>\n",
       "    <tr>\n",
       "      <th>3</th>\n",
       "      <td>3</td>\n",
       "      <td>-4124.747207</td>\n",
       "      <td>32</td>\n",
       "      <td>среднее</td>\n",
       "      <td>1</td>\n",
       "      <td>женат / замужем</td>\n",
       "      <td>0</td>\n",
       "      <td>M</td>\n",
       "      <td>сотрудник</td>\n",
       "      <td>0</td>\n",
       "      <td>267628.550329</td>\n",
       "      <td>дополнительное образование</td>\n",
       "    </tr>\n",
       "    <tr>\n",
       "      <th>4</th>\n",
       "      <td>0</td>\n",
       "      <td>340266.072047</td>\n",
       "      <td>53</td>\n",
       "      <td>среднее</td>\n",
       "      <td>1</td>\n",
       "      <td>гражданский брак</td>\n",
       "      <td>1</td>\n",
       "      <td>F</td>\n",
       "      <td>пенсионер</td>\n",
       "      <td>0</td>\n",
       "      <td>158616.077870</td>\n",
       "      <td>сыграть свадьбу</td>\n",
       "    </tr>\n",
       "    <tr>\n",
       "      <th>5</th>\n",
       "      <td>0</td>\n",
       "      <td>-926.185831</td>\n",
       "      <td>27</td>\n",
       "      <td>высшее</td>\n",
       "      <td>0</td>\n",
       "      <td>гражданский брак</td>\n",
       "      <td>1</td>\n",
       "      <td>M</td>\n",
       "      <td>компаньон</td>\n",
       "      <td>0</td>\n",
       "      <td>255763.565419</td>\n",
       "      <td>покупка жилья</td>\n",
       "    </tr>\n",
       "    <tr>\n",
       "      <th>6</th>\n",
       "      <td>0</td>\n",
       "      <td>-2879.202052</td>\n",
       "      <td>43</td>\n",
       "      <td>высшее</td>\n",
       "      <td>0</td>\n",
       "      <td>женат / замужем</td>\n",
       "      <td>0</td>\n",
       "      <td>F</td>\n",
       "      <td>компаньон</td>\n",
       "      <td>0</td>\n",
       "      <td>240525.971920</td>\n",
       "      <td>операции с жильем</td>\n",
       "    </tr>\n",
       "    <tr>\n",
       "      <th>7</th>\n",
       "      <td>0</td>\n",
       "      <td>-152.779569</td>\n",
       "      <td>50</td>\n",
       "      <td>СРЕДНЕЕ</td>\n",
       "      <td>1</td>\n",
       "      <td>женат / замужем</td>\n",
       "      <td>0</td>\n",
       "      <td>M</td>\n",
       "      <td>сотрудник</td>\n",
       "      <td>0</td>\n",
       "      <td>135823.934197</td>\n",
       "      <td>образование</td>\n",
       "    </tr>\n",
       "    <tr>\n",
       "      <th>8</th>\n",
       "      <td>2</td>\n",
       "      <td>-6929.865299</td>\n",
       "      <td>35</td>\n",
       "      <td>ВЫСШЕЕ</td>\n",
       "      <td>0</td>\n",
       "      <td>гражданский брак</td>\n",
       "      <td>1</td>\n",
       "      <td>F</td>\n",
       "      <td>сотрудник</td>\n",
       "      <td>0</td>\n",
       "      <td>95856.832424</td>\n",
       "      <td>на проведение свадьбы</td>\n",
       "    </tr>\n",
       "    <tr>\n",
       "      <th>9</th>\n",
       "      <td>0</td>\n",
       "      <td>-2188.756445</td>\n",
       "      <td>41</td>\n",
       "      <td>среднее</td>\n",
       "      <td>1</td>\n",
       "      <td>женат / замужем</td>\n",
       "      <td>0</td>\n",
       "      <td>M</td>\n",
       "      <td>сотрудник</td>\n",
       "      <td>0</td>\n",
       "      <td>144425.938277</td>\n",
       "      <td>покупка жилья для семьи</td>\n",
       "    </tr>\n",
       "    <tr>\n",
       "      <th>10</th>\n",
       "      <td>2</td>\n",
       "      <td>-4171.483647</td>\n",
       "      <td>36</td>\n",
       "      <td>высшее</td>\n",
       "      <td>0</td>\n",
       "      <td>женат / замужем</td>\n",
       "      <td>0</td>\n",
       "      <td>M</td>\n",
       "      <td>компаньон</td>\n",
       "      <td>0</td>\n",
       "      <td>113943.491460</td>\n",
       "      <td>покупка недвижимости</td>\n",
       "    </tr>\n",
       "    <tr>\n",
       "      <th>11</th>\n",
       "      <td>0</td>\n",
       "      <td>-792.701887</td>\n",
       "      <td>40</td>\n",
       "      <td>среднее</td>\n",
       "      <td>1</td>\n",
       "      <td>женат / замужем</td>\n",
       "      <td>0</td>\n",
       "      <td>F</td>\n",
       "      <td>сотрудник</td>\n",
       "      <td>0</td>\n",
       "      <td>77069.234271</td>\n",
       "      <td>покупка коммерческой недвижимости</td>\n",
       "    </tr>\n",
       "    <tr>\n",
       "      <th>12</th>\n",
       "      <td>0</td>\n",
       "      <td>NaN</td>\n",
       "      <td>65</td>\n",
       "      <td>среднее</td>\n",
       "      <td>1</td>\n",
       "      <td>гражданский брак</td>\n",
       "      <td>1</td>\n",
       "      <td>M</td>\n",
       "      <td>пенсионер</td>\n",
       "      <td>0</td>\n",
       "      <td>NaN</td>\n",
       "      <td>сыграть свадьбу</td>\n",
       "    </tr>\n",
       "    <tr>\n",
       "      <th>13</th>\n",
       "      <td>0</td>\n",
       "      <td>-1846.641941</td>\n",
       "      <td>54</td>\n",
       "      <td>неоконченное высшее</td>\n",
       "      <td>2</td>\n",
       "      <td>женат / замужем</td>\n",
       "      <td>0</td>\n",
       "      <td>F</td>\n",
       "      <td>сотрудник</td>\n",
       "      <td>0</td>\n",
       "      <td>130458.228857</td>\n",
       "      <td>приобретение автомобиля</td>\n",
       "    </tr>\n",
       "    <tr>\n",
       "      <th>14</th>\n",
       "      <td>0</td>\n",
       "      <td>-1844.956182</td>\n",
       "      <td>56</td>\n",
       "      <td>высшее</td>\n",
       "      <td>0</td>\n",
       "      <td>гражданский брак</td>\n",
       "      <td>1</td>\n",
       "      <td>F</td>\n",
       "      <td>компаньон</td>\n",
       "      <td>1</td>\n",
       "      <td>165127.911772</td>\n",
       "      <td>покупка жилой недвижимости</td>\n",
       "    </tr>\n",
       "    <tr>\n",
       "      <th>15</th>\n",
       "      <td>1</td>\n",
       "      <td>-972.364419</td>\n",
       "      <td>26</td>\n",
       "      <td>среднее</td>\n",
       "      <td>1</td>\n",
       "      <td>женат / замужем</td>\n",
       "      <td>0</td>\n",
       "      <td>F</td>\n",
       "      <td>сотрудник</td>\n",
       "      <td>0</td>\n",
       "      <td>116820.904450</td>\n",
       "      <td>строительство собственной недвижимости</td>\n",
       "    </tr>\n",
       "    <tr>\n",
       "      <th>16</th>\n",
       "      <td>0</td>\n",
       "      <td>-1719.934226</td>\n",
       "      <td>35</td>\n",
       "      <td>среднее</td>\n",
       "      <td>1</td>\n",
       "      <td>женат / замужем</td>\n",
       "      <td>0</td>\n",
       "      <td>F</td>\n",
       "      <td>сотрудник</td>\n",
       "      <td>0</td>\n",
       "      <td>289202.704229</td>\n",
       "      <td>недвижимость</td>\n",
       "    </tr>\n",
       "    <tr>\n",
       "      <th>17</th>\n",
       "      <td>0</td>\n",
       "      <td>-2369.999720</td>\n",
       "      <td>33</td>\n",
       "      <td>высшее</td>\n",
       "      <td>0</td>\n",
       "      <td>гражданский брак</td>\n",
       "      <td>1</td>\n",
       "      <td>M</td>\n",
       "      <td>сотрудник</td>\n",
       "      <td>0</td>\n",
       "      <td>90410.586745</td>\n",
       "      <td>строительство недвижимости</td>\n",
       "    </tr>\n",
       "    <tr>\n",
       "      <th>18</th>\n",
       "      <td>0</td>\n",
       "      <td>400281.136913</td>\n",
       "      <td>53</td>\n",
       "      <td>среднее</td>\n",
       "      <td>1</td>\n",
       "      <td>вдовец / вдова</td>\n",
       "      <td>2</td>\n",
       "      <td>F</td>\n",
       "      <td>пенсионер</td>\n",
       "      <td>0</td>\n",
       "      <td>56823.777243</td>\n",
       "      <td>на покупку подержанного автомобиля</td>\n",
       "    </tr>\n",
       "    <tr>\n",
       "      <th>19</th>\n",
       "      <td>0</td>\n",
       "      <td>-10038.818549</td>\n",
       "      <td>48</td>\n",
       "      <td>СРЕДНЕЕ</td>\n",
       "      <td>1</td>\n",
       "      <td>в разводе</td>\n",
       "      <td>3</td>\n",
       "      <td>F</td>\n",
       "      <td>сотрудник</td>\n",
       "      <td>0</td>\n",
       "      <td>242831.107982</td>\n",
       "      <td>на покупку своего автомобиля</td>\n",
       "    </tr>\n",
       "  </tbody>\n",
       "</table>\n",
       "</div>"
      ],
      "text/plain": [
       "    children  days_employed  dob_years            education  education_id  \\\n",
       "0          1   -8437.673028         42               высшее             0   \n",
       "1          1   -4024.803754         36              среднее             1   \n",
       "2          0   -5623.422610         33              Среднее             1   \n",
       "3          3   -4124.747207         32              среднее             1   \n",
       "4          0  340266.072047         53              среднее             1   \n",
       "5          0    -926.185831         27               высшее             0   \n",
       "6          0   -2879.202052         43               высшее             0   \n",
       "7          0    -152.779569         50              СРЕДНЕЕ             1   \n",
       "8          2   -6929.865299         35               ВЫСШЕЕ             0   \n",
       "9          0   -2188.756445         41              среднее             1   \n",
       "10         2   -4171.483647         36               высшее             0   \n",
       "11         0    -792.701887         40              среднее             1   \n",
       "12         0            NaN         65              среднее             1   \n",
       "13         0   -1846.641941         54  неоконченное высшее             2   \n",
       "14         0   -1844.956182         56               высшее             0   \n",
       "15         1    -972.364419         26              среднее             1   \n",
       "16         0   -1719.934226         35              среднее             1   \n",
       "17         0   -2369.999720         33               высшее             0   \n",
       "18         0  400281.136913         53              среднее             1   \n",
       "19         0  -10038.818549         48              СРЕДНЕЕ             1   \n",
       "\n",
       "       family_status  family_status_id gender income_type  debt  \\\n",
       "0    женат / замужем                 0      F   сотрудник     0   \n",
       "1    женат / замужем                 0      F   сотрудник     0   \n",
       "2    женат / замужем                 0      M   сотрудник     0   \n",
       "3    женат / замужем                 0      M   сотрудник     0   \n",
       "4   гражданский брак                 1      F   пенсионер     0   \n",
       "5   гражданский брак                 1      M   компаньон     0   \n",
       "6    женат / замужем                 0      F   компаньон     0   \n",
       "7    женат / замужем                 0      M   сотрудник     0   \n",
       "8   гражданский брак                 1      F   сотрудник     0   \n",
       "9    женат / замужем                 0      M   сотрудник     0   \n",
       "10   женат / замужем                 0      M   компаньон     0   \n",
       "11   женат / замужем                 0      F   сотрудник     0   \n",
       "12  гражданский брак                 1      M   пенсионер     0   \n",
       "13   женат / замужем                 0      F   сотрудник     0   \n",
       "14  гражданский брак                 1      F   компаньон     1   \n",
       "15   женат / замужем                 0      F   сотрудник     0   \n",
       "16   женат / замужем                 0      F   сотрудник     0   \n",
       "17  гражданский брак                 1      M   сотрудник     0   \n",
       "18    вдовец / вдова                 2      F   пенсионер     0   \n",
       "19         в разводе                 3      F   сотрудник     0   \n",
       "\n",
       "     total_income                                 purpose  \n",
       "0   253875.639453                           покупка жилья  \n",
       "1   112080.014102                 приобретение автомобиля  \n",
       "2   145885.952297                           покупка жилья  \n",
       "3   267628.550329              дополнительное образование  \n",
       "4   158616.077870                         сыграть свадьбу  \n",
       "5   255763.565419                           покупка жилья  \n",
       "6   240525.971920                       операции с жильем  \n",
       "7   135823.934197                             образование  \n",
       "8    95856.832424                   на проведение свадьбы  \n",
       "9   144425.938277                 покупка жилья для семьи  \n",
       "10  113943.491460                    покупка недвижимости  \n",
       "11   77069.234271       покупка коммерческой недвижимости  \n",
       "12            NaN                         сыграть свадьбу  \n",
       "13  130458.228857                 приобретение автомобиля  \n",
       "14  165127.911772              покупка жилой недвижимости  \n",
       "15  116820.904450  строительство собственной недвижимости  \n",
       "16  289202.704229                            недвижимость  \n",
       "17   90410.586745              строительство недвижимости  \n",
       "18   56823.777243      на покупку подержанного автомобиля  \n",
       "19  242831.107982            на покупку своего автомобиля  "
      ]
     },
     "execution_count": 3,
     "metadata": {},
     "output_type": "execute_result"
    }
   ],
   "source": [
    "data.head(20) # получение первых 20 строк таблицы, чтобы увидеть пропущенные значение, например в 12 строке"
   ]
  },
  {
   "cell_type": "markdown",
   "id": "a553545c",
   "metadata": {},
   "source": [
    "Получим общую информацию о таблице:"
   ]
  },
  {
   "cell_type": "code",
   "execution_count": 4,
   "id": "7eca4611",
   "metadata": {},
   "outputs": [
    {
     "name": "stdout",
     "output_type": "stream",
     "text": [
      "<class 'pandas.core.frame.DataFrame'>\n",
      "RangeIndex: 21525 entries, 0 to 21524\n",
      "Data columns (total 12 columns):\n",
      " #   Column            Non-Null Count  Dtype  \n",
      "---  ------            --------------  -----  \n",
      " 0   children          21525 non-null  int64  \n",
      " 1   days_employed     19351 non-null  float64\n",
      " 2   dob_years         21525 non-null  int64  \n",
      " 3   education         21525 non-null  object \n",
      " 4   education_id      21525 non-null  int64  \n",
      " 5   family_status     21525 non-null  object \n",
      " 6   family_status_id  21525 non-null  int64  \n",
      " 7   gender            21525 non-null  object \n",
      " 8   income_type       21525 non-null  object \n",
      " 9   debt              21525 non-null  int64  \n",
      " 10  total_income      19351 non-null  float64\n",
      " 11  purpose           21525 non-null  object \n",
      "dtypes: float64(2), int64(5), object(5)\n",
      "memory usage: 2.0+ MB\n"
     ]
    }
   ],
   "source": [
    "data.info()"
   ]
  },
  {
   "cell_type": "markdown",
   "id": "c5533036",
   "metadata": {},
   "source": [
    "В таблице 12 столбцов. Тип данных: 5 — `object`, 5 столбцов целочисленные значения тип - `int64`, 2 столбца вещественные - float64.\n",
    "\n",
    "Согласно документации к данным:\n",
    "* `children` — количество детей в семье\n",
    "* `days_employed` — общий трудовой стаж в днях\n",
    "* `dob_years` — возраст клиента в годах\n",
    "* `education` — уровень образования клиента\n",
    "* `education_id` — идентификатор уровня образования\n",
    "* `family_status` — семейное положение\n",
    "* `family_status_id` — идентификатор семейного положения\n",
    "* `gender` — пол клиента\n",
    "* `income_type` — тип занятости\n",
    "* `debt` — имел ли задолженность по возврату кредитов\n",
    "* `total_income` — ежемесячный доход\n",
    "* `purpose` — цель получения кредита\n",
    "\n",
    "В названиях колонок соблюден стиль.\n",
    "\n",
    "Количество значений в столбцах различается. Это относится к столбцам `days_employed ` и  `total_income`. Значит, в данных есть пропущенные значения. При чём прослеживается **закономерность**: если нет данных об общем трудовом стаже, то и нет данных о ежемесячном доходе. С типами данных все в порядке, за исключением неудобного формата для `total_income`, округлим и переведем в int. Значения `days_employed ` ещё и часто отрицательные, *предварительно, эти данные для анализа нам не нужны*. Также есть проблемы с регистром в `education`."
   ]
  },
  {
   "cell_type": "markdown",
   "id": "bb178280",
   "metadata": {},
   "source": [
    "### Шаг 2.1 Заполнение пропусков"
   ]
  },
  {
   "cell_type": "code",
   "execution_count": 5,
   "id": "b1d3c34f",
   "metadata": {},
   "outputs": [
    {
     "data": {
      "text/html": [
       "<div>\n",
       "<style scoped>\n",
       "    .dataframe tbody tr th:only-of-type {\n",
       "        vertical-align: middle;\n",
       "    }\n",
       "\n",
       "    .dataframe tbody tr th {\n",
       "        vertical-align: top;\n",
       "    }\n",
       "\n",
       "    .dataframe thead th {\n",
       "        text-align: right;\n",
       "    }\n",
       "</style>\n",
       "<table border=\"1\" class=\"dataframe\">\n",
       "  <thead>\n",
       "    <tr style=\"text-align: right;\">\n",
       "      <th></th>\n",
       "      <th>children</th>\n",
       "      <th>days_employed</th>\n",
       "      <th>dob_years</th>\n",
       "      <th>education</th>\n",
       "      <th>education_id</th>\n",
       "      <th>family_status</th>\n",
       "      <th>family_status_id</th>\n",
       "      <th>gender</th>\n",
       "      <th>income_type</th>\n",
       "      <th>debt</th>\n",
       "      <th>total_income</th>\n",
       "      <th>purpose</th>\n",
       "    </tr>\n",
       "  </thead>\n",
       "  <tbody>\n",
       "    <tr>\n",
       "      <th>12</th>\n",
       "      <td>0</td>\n",
       "      <td>NaN</td>\n",
       "      <td>65</td>\n",
       "      <td>среднее</td>\n",
       "      <td>1</td>\n",
       "      <td>гражданский брак</td>\n",
       "      <td>1</td>\n",
       "      <td>M</td>\n",
       "      <td>пенсионер</td>\n",
       "      <td>0</td>\n",
       "      <td>NaN</td>\n",
       "      <td>сыграть свадьбу</td>\n",
       "    </tr>\n",
       "    <tr>\n",
       "      <th>26</th>\n",
       "      <td>0</td>\n",
       "      <td>NaN</td>\n",
       "      <td>41</td>\n",
       "      <td>среднее</td>\n",
       "      <td>1</td>\n",
       "      <td>женат / замужем</td>\n",
       "      <td>0</td>\n",
       "      <td>M</td>\n",
       "      <td>госслужащий</td>\n",
       "      <td>0</td>\n",
       "      <td>NaN</td>\n",
       "      <td>образование</td>\n",
       "    </tr>\n",
       "    <tr>\n",
       "      <th>29</th>\n",
       "      <td>0</td>\n",
       "      <td>NaN</td>\n",
       "      <td>63</td>\n",
       "      <td>среднее</td>\n",
       "      <td>1</td>\n",
       "      <td>Не женат / не замужем</td>\n",
       "      <td>4</td>\n",
       "      <td>F</td>\n",
       "      <td>пенсионер</td>\n",
       "      <td>0</td>\n",
       "      <td>NaN</td>\n",
       "      <td>строительство жилой недвижимости</td>\n",
       "    </tr>\n",
       "    <tr>\n",
       "      <th>41</th>\n",
       "      <td>0</td>\n",
       "      <td>NaN</td>\n",
       "      <td>50</td>\n",
       "      <td>среднее</td>\n",
       "      <td>1</td>\n",
       "      <td>женат / замужем</td>\n",
       "      <td>0</td>\n",
       "      <td>F</td>\n",
       "      <td>госслужащий</td>\n",
       "      <td>0</td>\n",
       "      <td>NaN</td>\n",
       "      <td>сделка с подержанным автомобилем</td>\n",
       "    </tr>\n",
       "    <tr>\n",
       "      <th>55</th>\n",
       "      <td>0</td>\n",
       "      <td>NaN</td>\n",
       "      <td>54</td>\n",
       "      <td>среднее</td>\n",
       "      <td>1</td>\n",
       "      <td>гражданский брак</td>\n",
       "      <td>1</td>\n",
       "      <td>F</td>\n",
       "      <td>пенсионер</td>\n",
       "      <td>1</td>\n",
       "      <td>NaN</td>\n",
       "      <td>сыграть свадьбу</td>\n",
       "    </tr>\n",
       "    <tr>\n",
       "      <th>65</th>\n",
       "      <td>0</td>\n",
       "      <td>NaN</td>\n",
       "      <td>21</td>\n",
       "      <td>среднее</td>\n",
       "      <td>1</td>\n",
       "      <td>Не женат / не замужем</td>\n",
       "      <td>4</td>\n",
       "      <td>M</td>\n",
       "      <td>компаньон</td>\n",
       "      <td>0</td>\n",
       "      <td>NaN</td>\n",
       "      <td>операции с коммерческой недвижимостью</td>\n",
       "    </tr>\n",
       "    <tr>\n",
       "      <th>67</th>\n",
       "      <td>0</td>\n",
       "      <td>NaN</td>\n",
       "      <td>52</td>\n",
       "      <td>высшее</td>\n",
       "      <td>0</td>\n",
       "      <td>женат / замужем</td>\n",
       "      <td>0</td>\n",
       "      <td>F</td>\n",
       "      <td>пенсионер</td>\n",
       "      <td>0</td>\n",
       "      <td>NaN</td>\n",
       "      <td>покупка жилья для семьи</td>\n",
       "    </tr>\n",
       "    <tr>\n",
       "      <th>72</th>\n",
       "      <td>1</td>\n",
       "      <td>NaN</td>\n",
       "      <td>32</td>\n",
       "      <td>высшее</td>\n",
       "      <td>0</td>\n",
       "      <td>женат / замужем</td>\n",
       "      <td>0</td>\n",
       "      <td>M</td>\n",
       "      <td>госслужащий</td>\n",
       "      <td>0</td>\n",
       "      <td>NaN</td>\n",
       "      <td>операции с коммерческой недвижимостью</td>\n",
       "    </tr>\n",
       "    <tr>\n",
       "      <th>82</th>\n",
       "      <td>2</td>\n",
       "      <td>NaN</td>\n",
       "      <td>50</td>\n",
       "      <td>высшее</td>\n",
       "      <td>0</td>\n",
       "      <td>женат / замужем</td>\n",
       "      <td>0</td>\n",
       "      <td>F</td>\n",
       "      <td>сотрудник</td>\n",
       "      <td>0</td>\n",
       "      <td>NaN</td>\n",
       "      <td>жилье</td>\n",
       "    </tr>\n",
       "    <tr>\n",
       "      <th>83</th>\n",
       "      <td>0</td>\n",
       "      <td>NaN</td>\n",
       "      <td>52</td>\n",
       "      <td>среднее</td>\n",
       "      <td>1</td>\n",
       "      <td>женат / замужем</td>\n",
       "      <td>0</td>\n",
       "      <td>M</td>\n",
       "      <td>сотрудник</td>\n",
       "      <td>0</td>\n",
       "      <td>NaN</td>\n",
       "      <td>жилье</td>\n",
       "    </tr>\n",
       "  </tbody>\n",
       "</table>\n",
       "</div>"
      ],
      "text/plain": [
       "    children  days_employed  dob_years education  education_id  \\\n",
       "12         0            NaN         65   среднее             1   \n",
       "26         0            NaN         41   среднее             1   \n",
       "29         0            NaN         63   среднее             1   \n",
       "41         0            NaN         50   среднее             1   \n",
       "55         0            NaN         54   среднее             1   \n",
       "65         0            NaN         21   среднее             1   \n",
       "67         0            NaN         52    высшее             0   \n",
       "72         1            NaN         32    высшее             0   \n",
       "82         2            NaN         50    высшее             0   \n",
       "83         0            NaN         52   среднее             1   \n",
       "\n",
       "            family_status  family_status_id gender  income_type  debt  \\\n",
       "12       гражданский брак                 1      M    пенсионер     0   \n",
       "26        женат / замужем                 0      M  госслужащий     0   \n",
       "29  Не женат / не замужем                 4      F    пенсионер     0   \n",
       "41        женат / замужем                 0      F  госслужащий     0   \n",
       "55       гражданский брак                 1      F    пенсионер     1   \n",
       "65  Не женат / не замужем                 4      M    компаньон     0   \n",
       "67        женат / замужем                 0      F    пенсионер     0   \n",
       "72        женат / замужем                 0      M  госслужащий     0   \n",
       "82        женат / замужем                 0      F    сотрудник     0   \n",
       "83        женат / замужем                 0      M    сотрудник     0   \n",
       "\n",
       "    total_income                                purpose  \n",
       "12           NaN                        сыграть свадьбу  \n",
       "26           NaN                            образование  \n",
       "29           NaN       строительство жилой недвижимости  \n",
       "41           NaN       сделка с подержанным автомобилем  \n",
       "55           NaN                        сыграть свадьбу  \n",
       "65           NaN  операции с коммерческой недвижимостью  \n",
       "67           NaN                покупка жилья для семьи  \n",
       "72           NaN  операции с коммерческой недвижимостью  \n",
       "82           NaN                                  жилье  \n",
       "83           NaN                                  жилье  "
      ]
     },
     "execution_count": 5,
     "metadata": {},
     "output_type": "execute_result"
    }
   ],
   "source": [
    "data[data['days_employed'].isna()].head(10) # метод isna выявим пропуски. закономерность прослеживается"
   ]
  },
  {
   "cell_type": "code",
   "execution_count": 6,
   "id": "26a5ad1e",
   "metadata": {},
   "outputs": [
    {
     "data": {
      "text/plain": [
       "children               0\n",
       "days_employed       2174\n",
       "dob_years              0\n",
       "education              0\n",
       "education_id           0\n",
       "family_status          0\n",
       "family_status_id       0\n",
       "gender                 0\n",
       "income_type            0\n",
       "debt                   0\n",
       "total_income        2174\n",
       "purpose                0\n",
       "dtype: int64"
      ]
     },
     "execution_count": 6,
     "metadata": {},
     "output_type": "execute_result"
    }
   ],
   "source": [
    "data.isna().sum() # посчитаем пропущенные значения "
   ]
  },
  {
   "cell_type": "code",
   "execution_count": 7,
   "id": "6e4876f4",
   "metadata": {},
   "outputs": [
    {
     "data": {
      "text/plain": [
       "'Доля пропущенных значений в каждом из столбцов с пропусками: 10%'"
      ]
     },
     "execution_count": 7,
     "metadata": {},
     "output_type": "execute_result"
    }
   ],
   "source": [
    "'Доля пропущенных значений в каждом из столбцов с пропусками: {:.0%}'.format(len(data[data['days_employed'].isna()])/data.shape[0])  "
   ]
  },
  {
   "cell_type": "markdown",
   "id": "8ab0a8d9",
   "metadata": {},
   "source": [
    "Выяснили, что доля пропущенных значений в столбцах составляет 10%. Это большой показатель. Возможная причина наличия пропусков - нежелание заполнять информацию о своих ежемесячных доходах и трудовом стаже в анкетировании для банка. Или у людей нет подтвержденного дохода и стажа (работа в черную и тд). Заменим пропуски медианными значениями, которые лучше показывают ситуацию в выборке, если есть оторванные от основной массы лидеры."
   ]
  },
  {
   "cell_type": "code",
   "execution_count": 8,
   "id": "15189191",
   "metadata": {},
   "outputs": [
    {
     "data": {
      "text/plain": [
       "income_type\n",
       "безработный        131339.751676\n",
       "в декрете           53829.130729\n",
       "госслужащий        150447.935283\n",
       "компаньон          172357.950966\n",
       "пенсионер          118514.486412\n",
       "предприниматель    499163.144947\n",
       "сотрудник          142594.396847\n",
       "студент             98201.625314\n",
       "Name: total_income, dtype: float64"
      ]
     },
     "metadata": {},
     "output_type": "display_data"
    }
   ],
   "source": [
    "income_grouped_median = data.groupby('income_type')['total_income'].median()   #посчитаем медиану дохода по типу занятости\n",
    "display(income_grouped_median) #значения более или менее логичные"
   ]
  },
  {
   "cell_type": "code",
   "execution_count": 9,
   "id": "a84d62f0",
   "metadata": {},
   "outputs": [],
   "source": [
    "def bygroup(data, row): # функция заменяет NaN в row на медианное значение этого столбца у соответствующего income_type\n",
    "    unique_inc_type = data['income_type'].unique()\n",
    "    for type in unique_inc_type:\n",
    "        data.loc[data['income_type'] == type, row] = data.loc[data['income_type'] == type, row].fillna(data[data['income_type'] == type]['total_income'].median())\n",
    "    return data"
   ]
  },
  {
   "cell_type": "code",
   "execution_count": 10,
   "id": "8f8338bb",
   "metadata": {},
   "outputs": [],
   "source": [
    "data = bygroup(data, 'total_income')\n",
    "# снова вызываем метод и подтверждаем замену пропусков"
   ]
  },
  {
   "cell_type": "code",
   "execution_count": 11,
   "id": "b5694da9",
   "metadata": {},
   "outputs": [
    {
     "name": "stdout",
     "output_type": "stream",
     "text": [
      "<class 'pandas.core.frame.DataFrame'>\n",
      "RangeIndex: 21525 entries, 0 to 21524\n",
      "Data columns (total 12 columns):\n",
      " #   Column            Non-Null Count  Dtype  \n",
      "---  ------            --------------  -----  \n",
      " 0   children          21525 non-null  int64  \n",
      " 1   days_employed     19351 non-null  float64\n",
      " 2   dob_years         21525 non-null  int64  \n",
      " 3   education         21525 non-null  object \n",
      " 4   education_id      21525 non-null  int64  \n",
      " 5   family_status     21525 non-null  object \n",
      " 6   family_status_id  21525 non-null  int64  \n",
      " 7   gender            21525 non-null  object \n",
      " 8   income_type       21525 non-null  object \n",
      " 9   debt              21525 non-null  int64  \n",
      " 10  total_income      21525 non-null  float64\n",
      " 11  purpose           21525 non-null  object \n",
      "dtypes: float64(2), int64(5), object(5)\n",
      "memory usage: 2.0+ MB\n"
     ]
    }
   ],
   "source": [
    "data.info() # проверяем "
   ]
  },
  {
   "cell_type": "code",
   "execution_count": 12,
   "id": "0f7b648c",
   "metadata": {},
   "outputs": [
    {
     "data": {
      "text/html": [
       "<div>\n",
       "<style scoped>\n",
       "    .dataframe tbody tr th:only-of-type {\n",
       "        vertical-align: middle;\n",
       "    }\n",
       "\n",
       "    .dataframe tbody tr th {\n",
       "        vertical-align: top;\n",
       "    }\n",
       "\n",
       "    .dataframe thead th {\n",
       "        text-align: right;\n",
       "    }\n",
       "</style>\n",
       "<table border=\"1\" class=\"dataframe\">\n",
       "  <thead>\n",
       "    <tr style=\"text-align: right;\">\n",
       "      <th></th>\n",
       "      <th>children</th>\n",
       "      <th>days_employed</th>\n",
       "      <th>dob_years</th>\n",
       "      <th>education</th>\n",
       "      <th>education_id</th>\n",
       "      <th>family_status</th>\n",
       "      <th>family_status_id</th>\n",
       "      <th>gender</th>\n",
       "      <th>income_type</th>\n",
       "      <th>debt</th>\n",
       "      <th>total_income</th>\n",
       "      <th>purpose</th>\n",
       "    </tr>\n",
       "  </thead>\n",
       "  <tbody>\n",
       "    <tr>\n",
       "      <th>0</th>\n",
       "      <td>1</td>\n",
       "      <td>-8437.673028</td>\n",
       "      <td>42</td>\n",
       "      <td>высшее</td>\n",
       "      <td>0</td>\n",
       "      <td>женат / замужем</td>\n",
       "      <td>0</td>\n",
       "      <td>F</td>\n",
       "      <td>сотрудник</td>\n",
       "      <td>0</td>\n",
       "      <td>253875.639453</td>\n",
       "      <td>покупка жилья</td>\n",
       "    </tr>\n",
       "    <tr>\n",
       "      <th>1</th>\n",
       "      <td>1</td>\n",
       "      <td>-4024.803754</td>\n",
       "      <td>36</td>\n",
       "      <td>среднее</td>\n",
       "      <td>1</td>\n",
       "      <td>женат / замужем</td>\n",
       "      <td>0</td>\n",
       "      <td>F</td>\n",
       "      <td>сотрудник</td>\n",
       "      <td>0</td>\n",
       "      <td>112080.014102</td>\n",
       "      <td>приобретение автомобиля</td>\n",
       "    </tr>\n",
       "    <tr>\n",
       "      <th>2</th>\n",
       "      <td>0</td>\n",
       "      <td>-5623.422610</td>\n",
       "      <td>33</td>\n",
       "      <td>Среднее</td>\n",
       "      <td>1</td>\n",
       "      <td>женат / замужем</td>\n",
       "      <td>0</td>\n",
       "      <td>M</td>\n",
       "      <td>сотрудник</td>\n",
       "      <td>0</td>\n",
       "      <td>145885.952297</td>\n",
       "      <td>покупка жилья</td>\n",
       "    </tr>\n",
       "    <tr>\n",
       "      <th>3</th>\n",
       "      <td>3</td>\n",
       "      <td>-4124.747207</td>\n",
       "      <td>32</td>\n",
       "      <td>среднее</td>\n",
       "      <td>1</td>\n",
       "      <td>женат / замужем</td>\n",
       "      <td>0</td>\n",
       "      <td>M</td>\n",
       "      <td>сотрудник</td>\n",
       "      <td>0</td>\n",
       "      <td>267628.550329</td>\n",
       "      <td>дополнительное образование</td>\n",
       "    </tr>\n",
       "    <tr>\n",
       "      <th>4</th>\n",
       "      <td>0</td>\n",
       "      <td>340266.072047</td>\n",
       "      <td>53</td>\n",
       "      <td>среднее</td>\n",
       "      <td>1</td>\n",
       "      <td>гражданский брак</td>\n",
       "      <td>1</td>\n",
       "      <td>F</td>\n",
       "      <td>пенсионер</td>\n",
       "      <td>0</td>\n",
       "      <td>158616.077870</td>\n",
       "      <td>сыграть свадьбу</td>\n",
       "    </tr>\n",
       "    <tr>\n",
       "      <th>5</th>\n",
       "      <td>0</td>\n",
       "      <td>-926.185831</td>\n",
       "      <td>27</td>\n",
       "      <td>высшее</td>\n",
       "      <td>0</td>\n",
       "      <td>гражданский брак</td>\n",
       "      <td>1</td>\n",
       "      <td>M</td>\n",
       "      <td>компаньон</td>\n",
       "      <td>0</td>\n",
       "      <td>255763.565419</td>\n",
       "      <td>покупка жилья</td>\n",
       "    </tr>\n",
       "    <tr>\n",
       "      <th>6</th>\n",
       "      <td>0</td>\n",
       "      <td>-2879.202052</td>\n",
       "      <td>43</td>\n",
       "      <td>высшее</td>\n",
       "      <td>0</td>\n",
       "      <td>женат / замужем</td>\n",
       "      <td>0</td>\n",
       "      <td>F</td>\n",
       "      <td>компаньон</td>\n",
       "      <td>0</td>\n",
       "      <td>240525.971920</td>\n",
       "      <td>операции с жильем</td>\n",
       "    </tr>\n",
       "    <tr>\n",
       "      <th>7</th>\n",
       "      <td>0</td>\n",
       "      <td>-152.779569</td>\n",
       "      <td>50</td>\n",
       "      <td>СРЕДНЕЕ</td>\n",
       "      <td>1</td>\n",
       "      <td>женат / замужем</td>\n",
       "      <td>0</td>\n",
       "      <td>M</td>\n",
       "      <td>сотрудник</td>\n",
       "      <td>0</td>\n",
       "      <td>135823.934197</td>\n",
       "      <td>образование</td>\n",
       "    </tr>\n",
       "    <tr>\n",
       "      <th>8</th>\n",
       "      <td>2</td>\n",
       "      <td>-6929.865299</td>\n",
       "      <td>35</td>\n",
       "      <td>ВЫСШЕЕ</td>\n",
       "      <td>0</td>\n",
       "      <td>гражданский брак</td>\n",
       "      <td>1</td>\n",
       "      <td>F</td>\n",
       "      <td>сотрудник</td>\n",
       "      <td>0</td>\n",
       "      <td>95856.832424</td>\n",
       "      <td>на проведение свадьбы</td>\n",
       "    </tr>\n",
       "    <tr>\n",
       "      <th>9</th>\n",
       "      <td>0</td>\n",
       "      <td>-2188.756445</td>\n",
       "      <td>41</td>\n",
       "      <td>среднее</td>\n",
       "      <td>1</td>\n",
       "      <td>женат / замужем</td>\n",
       "      <td>0</td>\n",
       "      <td>M</td>\n",
       "      <td>сотрудник</td>\n",
       "      <td>0</td>\n",
       "      <td>144425.938277</td>\n",
       "      <td>покупка жилья для семьи</td>\n",
       "    </tr>\n",
       "    <tr>\n",
       "      <th>10</th>\n",
       "      <td>2</td>\n",
       "      <td>-4171.483647</td>\n",
       "      <td>36</td>\n",
       "      <td>высшее</td>\n",
       "      <td>0</td>\n",
       "      <td>женат / замужем</td>\n",
       "      <td>0</td>\n",
       "      <td>M</td>\n",
       "      <td>компаньон</td>\n",
       "      <td>0</td>\n",
       "      <td>113943.491460</td>\n",
       "      <td>покупка недвижимости</td>\n",
       "    </tr>\n",
       "    <tr>\n",
       "      <th>11</th>\n",
       "      <td>0</td>\n",
       "      <td>-792.701887</td>\n",
       "      <td>40</td>\n",
       "      <td>среднее</td>\n",
       "      <td>1</td>\n",
       "      <td>женат / замужем</td>\n",
       "      <td>0</td>\n",
       "      <td>F</td>\n",
       "      <td>сотрудник</td>\n",
       "      <td>0</td>\n",
       "      <td>77069.234271</td>\n",
       "      <td>покупка коммерческой недвижимости</td>\n",
       "    </tr>\n",
       "    <tr>\n",
       "      <th>12</th>\n",
       "      <td>0</td>\n",
       "      <td>NaN</td>\n",
       "      <td>65</td>\n",
       "      <td>среднее</td>\n",
       "      <td>1</td>\n",
       "      <td>гражданский брак</td>\n",
       "      <td>1</td>\n",
       "      <td>M</td>\n",
       "      <td>пенсионер</td>\n",
       "      <td>0</td>\n",
       "      <td>118514.486412</td>\n",
       "      <td>сыграть свадьбу</td>\n",
       "    </tr>\n",
       "    <tr>\n",
       "      <th>13</th>\n",
       "      <td>0</td>\n",
       "      <td>-1846.641941</td>\n",
       "      <td>54</td>\n",
       "      <td>неоконченное высшее</td>\n",
       "      <td>2</td>\n",
       "      <td>женат / замужем</td>\n",
       "      <td>0</td>\n",
       "      <td>F</td>\n",
       "      <td>сотрудник</td>\n",
       "      <td>0</td>\n",
       "      <td>130458.228857</td>\n",
       "      <td>приобретение автомобиля</td>\n",
       "    </tr>\n",
       "    <tr>\n",
       "      <th>14</th>\n",
       "      <td>0</td>\n",
       "      <td>-1844.956182</td>\n",
       "      <td>56</td>\n",
       "      <td>высшее</td>\n",
       "      <td>0</td>\n",
       "      <td>гражданский брак</td>\n",
       "      <td>1</td>\n",
       "      <td>F</td>\n",
       "      <td>компаньон</td>\n",
       "      <td>1</td>\n",
       "      <td>165127.911772</td>\n",
       "      <td>покупка жилой недвижимости</td>\n",
       "    </tr>\n",
       "  </tbody>\n",
       "</table>\n",
       "</div>"
      ],
      "text/plain": [
       "    children  days_employed  dob_years            education  education_id  \\\n",
       "0          1   -8437.673028         42               высшее             0   \n",
       "1          1   -4024.803754         36              среднее             1   \n",
       "2          0   -5623.422610         33              Среднее             1   \n",
       "3          3   -4124.747207         32              среднее             1   \n",
       "4          0  340266.072047         53              среднее             1   \n",
       "5          0    -926.185831         27               высшее             0   \n",
       "6          0   -2879.202052         43               высшее             0   \n",
       "7          0    -152.779569         50              СРЕДНЕЕ             1   \n",
       "8          2   -6929.865299         35               ВЫСШЕЕ             0   \n",
       "9          0   -2188.756445         41              среднее             1   \n",
       "10         2   -4171.483647         36               высшее             0   \n",
       "11         0    -792.701887         40              среднее             1   \n",
       "12         0            NaN         65              среднее             1   \n",
       "13         0   -1846.641941         54  неоконченное высшее             2   \n",
       "14         0   -1844.956182         56               высшее             0   \n",
       "\n",
       "       family_status  family_status_id gender income_type  debt  \\\n",
       "0    женат / замужем                 0      F   сотрудник     0   \n",
       "1    женат / замужем                 0      F   сотрудник     0   \n",
       "2    женат / замужем                 0      M   сотрудник     0   \n",
       "3    женат / замужем                 0      M   сотрудник     0   \n",
       "4   гражданский брак                 1      F   пенсионер     0   \n",
       "5   гражданский брак                 1      M   компаньон     0   \n",
       "6    женат / замужем                 0      F   компаньон     0   \n",
       "7    женат / замужем                 0      M   сотрудник     0   \n",
       "8   гражданский брак                 1      F   сотрудник     0   \n",
       "9    женат / замужем                 0      M   сотрудник     0   \n",
       "10   женат / замужем                 0      M   компаньон     0   \n",
       "11   женат / замужем                 0      F   сотрудник     0   \n",
       "12  гражданский брак                 1      M   пенсионер     0   \n",
       "13   женат / замужем                 0      F   сотрудник     0   \n",
       "14  гражданский брак                 1      F   компаньон     1   \n",
       "\n",
       "     total_income                            purpose  \n",
       "0   253875.639453                      покупка жилья  \n",
       "1   112080.014102            приобретение автомобиля  \n",
       "2   145885.952297                      покупка жилья  \n",
       "3   267628.550329         дополнительное образование  \n",
       "4   158616.077870                    сыграть свадьбу  \n",
       "5   255763.565419                      покупка жилья  \n",
       "6   240525.971920                  операции с жильем  \n",
       "7   135823.934197                        образование  \n",
       "8    95856.832424              на проведение свадьбы  \n",
       "9   144425.938277            покупка жилья для семьи  \n",
       "10  113943.491460               покупка недвижимости  \n",
       "11   77069.234271  покупка коммерческой недвижимости  \n",
       "12  118514.486412                    сыграть свадьбу  \n",
       "13  130458.228857            приобретение автомобиля  \n",
       "14  165127.911772         покупка жилой недвижимости  "
      ]
     },
     "execution_count": 12,
     "metadata": {},
     "output_type": "execute_result"
    }
   ],
   "source": [
    "data.head(15) # проверяем"
   ]
  },
  {
   "cell_type": "code",
   "execution_count": 13,
   "id": "9e1dce28",
   "metadata": {},
   "outputs": [],
   "source": [
    "# столбец с днями трудового стажа сожержит странную информацию \n",
    "# даже при переводе ее в дни, получается, что трудовой стаж может быть больше возраста\n",
    "# значения отрицательные\n",
    "# для наших целей данный столбец не нужен, а значит его можно удалить\n",
    "#del data['days_employed']"
   ]
  },
  {
   "cell_type": "markdown",
   "id": "7e14252d",
   "metadata": {},
   "source": [
    "`days_employed` присутствуют слишком большие значения (возможно это стаж в часах, а не днях) и много отрицательных (возможно минус это тире) - оба вида недопустимы. **Скорее всего нужно запросить у источника дополнительную информацию (возможно ошибка при выгрузке), после внести исправления и проанализировать закономерности в некорректных значениях.** \n",
    "\n",
    "Но на данный момент преобразуем, чтобы не отвлекал, так как при выполнении поставленной задачи, эта информация не пригодится. "
   ]
  },
  {
   "cell_type": "code",
   "execution_count": 14,
   "id": "aac07288",
   "metadata": {},
   "outputs": [],
   "source": [
    "data['days_employed'] = data['days_employed'].apply(abs) # избавляемся от отрицательных значений"
   ]
  },
  {
   "cell_type": "markdown",
   "id": "78e9731b",
   "metadata": {},
   "source": [
    "Для замены пропусков медианными значениями используем transform."
   ]
  },
  {
   "cell_type": "code",
   "execution_count": 15,
   "id": "187eca84",
   "metadata": {},
   "outputs": [],
   "source": [
    "data['days_employed'] = data['days_employed'].fillna(data.groupby('dob_years')['days_employed'].transform(\"median\"))"
   ]
  },
  {
   "cell_type": "code",
   "execution_count": 16,
   "id": "93631e78",
   "metadata": {},
   "outputs": [
    {
     "name": "stdout",
     "output_type": "stream",
     "text": [
      "<class 'pandas.core.frame.DataFrame'>\n",
      "RangeIndex: 21525 entries, 0 to 21524\n",
      "Data columns (total 12 columns):\n",
      " #   Column            Non-Null Count  Dtype  \n",
      "---  ------            --------------  -----  \n",
      " 0   children          21525 non-null  int64  \n",
      " 1   days_employed     21525 non-null  float64\n",
      " 2   dob_years         21525 non-null  int64  \n",
      " 3   education         21525 non-null  object \n",
      " 4   education_id      21525 non-null  int64  \n",
      " 5   family_status     21525 non-null  object \n",
      " 6   family_status_id  21525 non-null  int64  \n",
      " 7   gender            21525 non-null  object \n",
      " 8   income_type       21525 non-null  object \n",
      " 9   debt              21525 non-null  int64  \n",
      " 10  total_income      21525 non-null  float64\n",
      " 11  purpose           21525 non-null  object \n",
      "dtypes: float64(2), int64(5), object(5)\n",
      "memory usage: 2.0+ MB\n"
     ]
    }
   ],
   "source": [
    "data.info() # проверяем"
   ]
  },
  {
   "cell_type": "markdown",
   "id": "68b7ac8d",
   "metadata": {},
   "source": [
    "### Шаг 2.2 Проверка данных на аномалии и исправления."
   ]
  },
  {
   "cell_type": "code",
   "execution_count": 17,
   "id": "6d5ef47f",
   "metadata": {},
   "outputs": [],
   "source": [
    "data['dob_years'] = data['dob_years'].astype('int') #приведём к целому значению\n"
   ]
  },
  {
   "cell_type": "code",
   "execution_count": 18,
   "id": "945e2463",
   "metadata": {},
   "outputs": [],
   "source": [
    "data['children'] = data['children'].abs() # выяснилось у кого-то отрицательное количество детей, скорее всего просто ошибка в знаке\n"
   ]
  },
  {
   "cell_type": "code",
   "execution_count": 19,
   "id": "bacb424e",
   "metadata": {},
   "outputs": [],
   "source": [
    "data['education'] = data['education'].str.lower() # исправляем проблемы с регистром\n",
    "data['family_status'] = data['family_status'].str.lower()\n",
    "data['purpose'] = data['purpose'].str.lower()"
   ]
  },
  {
   "cell_type": "code",
   "execution_count": 20,
   "id": "c74986d4",
   "metadata": {},
   "outputs": [
    {
     "data": {
      "text/html": [
       "<div>\n",
       "<style scoped>\n",
       "    .dataframe tbody tr th:only-of-type {\n",
       "        vertical-align: middle;\n",
       "    }\n",
       "\n",
       "    .dataframe tbody tr th {\n",
       "        vertical-align: top;\n",
       "    }\n",
       "\n",
       "    .dataframe thead th {\n",
       "        text-align: right;\n",
       "    }\n",
       "</style>\n",
       "<table border=\"1\" class=\"dataframe\">\n",
       "  <thead>\n",
       "    <tr style=\"text-align: right;\">\n",
       "      <th></th>\n",
       "      <th>children</th>\n",
       "      <th>days_employed</th>\n",
       "      <th>dob_years</th>\n",
       "      <th>education</th>\n",
       "      <th>education_id</th>\n",
       "      <th>family_status</th>\n",
       "      <th>family_status_id</th>\n",
       "      <th>gender</th>\n",
       "      <th>income_type</th>\n",
       "      <th>debt</th>\n",
       "      <th>total_income</th>\n",
       "      <th>purpose</th>\n",
       "    </tr>\n",
       "  </thead>\n",
       "  <tbody>\n",
       "    <tr>\n",
       "      <th>0</th>\n",
       "      <td>1</td>\n",
       "      <td>8437.673028</td>\n",
       "      <td>42</td>\n",
       "      <td>высшее</td>\n",
       "      <td>0</td>\n",
       "      <td>женат / замужем</td>\n",
       "      <td>0</td>\n",
       "      <td>F</td>\n",
       "      <td>сотрудник</td>\n",
       "      <td>0</td>\n",
       "      <td>253875.639453</td>\n",
       "      <td>покупка жилья</td>\n",
       "    </tr>\n",
       "    <tr>\n",
       "      <th>1</th>\n",
       "      <td>1</td>\n",
       "      <td>4024.803754</td>\n",
       "      <td>36</td>\n",
       "      <td>среднее</td>\n",
       "      <td>1</td>\n",
       "      <td>женат / замужем</td>\n",
       "      <td>0</td>\n",
       "      <td>F</td>\n",
       "      <td>сотрудник</td>\n",
       "      <td>0</td>\n",
       "      <td>112080.014102</td>\n",
       "      <td>приобретение автомобиля</td>\n",
       "    </tr>\n",
       "    <tr>\n",
       "      <th>2</th>\n",
       "      <td>0</td>\n",
       "      <td>5623.422610</td>\n",
       "      <td>33</td>\n",
       "      <td>среднее</td>\n",
       "      <td>1</td>\n",
       "      <td>женат / замужем</td>\n",
       "      <td>0</td>\n",
       "      <td>M</td>\n",
       "      <td>сотрудник</td>\n",
       "      <td>0</td>\n",
       "      <td>145885.952297</td>\n",
       "      <td>покупка жилья</td>\n",
       "    </tr>\n",
       "    <tr>\n",
       "      <th>3</th>\n",
       "      <td>3</td>\n",
       "      <td>4124.747207</td>\n",
       "      <td>32</td>\n",
       "      <td>среднее</td>\n",
       "      <td>1</td>\n",
       "      <td>женат / замужем</td>\n",
       "      <td>0</td>\n",
       "      <td>M</td>\n",
       "      <td>сотрудник</td>\n",
       "      <td>0</td>\n",
       "      <td>267628.550329</td>\n",
       "      <td>дополнительное образование</td>\n",
       "    </tr>\n",
       "    <tr>\n",
       "      <th>4</th>\n",
       "      <td>0</td>\n",
       "      <td>340266.072047</td>\n",
       "      <td>53</td>\n",
       "      <td>среднее</td>\n",
       "      <td>1</td>\n",
       "      <td>гражданский брак</td>\n",
       "      <td>1</td>\n",
       "      <td>F</td>\n",
       "      <td>пенсионер</td>\n",
       "      <td>0</td>\n",
       "      <td>158616.077870</td>\n",
       "      <td>сыграть свадьбу</td>\n",
       "    </tr>\n",
       "  </tbody>\n",
       "</table>\n",
       "</div>"
      ],
      "text/plain": [
       "   children  days_employed  dob_years education  education_id  \\\n",
       "0         1    8437.673028         42    высшее             0   \n",
       "1         1    4024.803754         36   среднее             1   \n",
       "2         0    5623.422610         33   среднее             1   \n",
       "3         3    4124.747207         32   среднее             1   \n",
       "4         0  340266.072047         53   среднее             1   \n",
       "\n",
       "      family_status  family_status_id gender income_type  debt   total_income  \\\n",
       "0   женат / замужем                 0      F   сотрудник     0  253875.639453   \n",
       "1   женат / замужем                 0      F   сотрудник     0  112080.014102   \n",
       "2   женат / замужем                 0      M   сотрудник     0  145885.952297   \n",
       "3   женат / замужем                 0      M   сотрудник     0  267628.550329   \n",
       "4  гражданский брак                 1      F   пенсионер     0  158616.077870   \n",
       "\n",
       "                      purpose  \n",
       "0               покупка жилья  \n",
       "1     приобретение автомобиля  \n",
       "2               покупка жилья  \n",
       "3  дополнительное образование  \n",
       "4             сыграть свадьбу  "
      ]
     },
     "execution_count": 20,
     "metadata": {},
     "output_type": "execute_result"
    }
   ],
   "source": [
    "data.head() #проверяем"
   ]
  },
  {
   "cell_type": "markdown",
   "id": "2584b35d",
   "metadata": {},
   "source": [
    "### Шаг 2.3. Изменение типов данных."
   ]
  },
  {
   "cell_type": "code",
   "execution_count": 21,
   "id": "262e4a69",
   "metadata": {},
   "outputs": [],
   "source": [
    "data['total_income'] = data['total_income'].astype('int') # заменим тип total_income на int, т.к. точность до копеек не нужна"
   ]
  },
  {
   "cell_type": "code",
   "execution_count": 22,
   "id": "4c451a17",
   "metadata": {},
   "outputs": [
    {
     "data": {
      "text/html": [
       "<div>\n",
       "<style scoped>\n",
       "    .dataframe tbody tr th:only-of-type {\n",
       "        vertical-align: middle;\n",
       "    }\n",
       "\n",
       "    .dataframe tbody tr th {\n",
       "        vertical-align: top;\n",
       "    }\n",
       "\n",
       "    .dataframe thead th {\n",
       "        text-align: right;\n",
       "    }\n",
       "</style>\n",
       "<table border=\"1\" class=\"dataframe\">\n",
       "  <thead>\n",
       "    <tr style=\"text-align: right;\">\n",
       "      <th></th>\n",
       "      <th>children</th>\n",
       "      <th>days_employed</th>\n",
       "      <th>dob_years</th>\n",
       "      <th>education</th>\n",
       "      <th>education_id</th>\n",
       "      <th>family_status</th>\n",
       "      <th>family_status_id</th>\n",
       "      <th>gender</th>\n",
       "      <th>income_type</th>\n",
       "      <th>debt</th>\n",
       "      <th>total_income</th>\n",
       "      <th>purpose</th>\n",
       "    </tr>\n",
       "  </thead>\n",
       "  <tbody>\n",
       "    <tr>\n",
       "      <th>0</th>\n",
       "      <td>1</td>\n",
       "      <td>8437.673028</td>\n",
       "      <td>42</td>\n",
       "      <td>высшее</td>\n",
       "      <td>0</td>\n",
       "      <td>женат / замужем</td>\n",
       "      <td>0</td>\n",
       "      <td>F</td>\n",
       "      <td>сотрудник</td>\n",
       "      <td>0</td>\n",
       "      <td>253875</td>\n",
       "      <td>покупка жилья</td>\n",
       "    </tr>\n",
       "    <tr>\n",
       "      <th>1</th>\n",
       "      <td>1</td>\n",
       "      <td>4024.803754</td>\n",
       "      <td>36</td>\n",
       "      <td>среднее</td>\n",
       "      <td>1</td>\n",
       "      <td>женат / замужем</td>\n",
       "      <td>0</td>\n",
       "      <td>F</td>\n",
       "      <td>сотрудник</td>\n",
       "      <td>0</td>\n",
       "      <td>112080</td>\n",
       "      <td>приобретение автомобиля</td>\n",
       "    </tr>\n",
       "    <tr>\n",
       "      <th>2</th>\n",
       "      <td>0</td>\n",
       "      <td>5623.422610</td>\n",
       "      <td>33</td>\n",
       "      <td>среднее</td>\n",
       "      <td>1</td>\n",
       "      <td>женат / замужем</td>\n",
       "      <td>0</td>\n",
       "      <td>M</td>\n",
       "      <td>сотрудник</td>\n",
       "      <td>0</td>\n",
       "      <td>145885</td>\n",
       "      <td>покупка жилья</td>\n",
       "    </tr>\n",
       "    <tr>\n",
       "      <th>3</th>\n",
       "      <td>3</td>\n",
       "      <td>4124.747207</td>\n",
       "      <td>32</td>\n",
       "      <td>среднее</td>\n",
       "      <td>1</td>\n",
       "      <td>женат / замужем</td>\n",
       "      <td>0</td>\n",
       "      <td>M</td>\n",
       "      <td>сотрудник</td>\n",
       "      <td>0</td>\n",
       "      <td>267628</td>\n",
       "      <td>дополнительное образование</td>\n",
       "    </tr>\n",
       "    <tr>\n",
       "      <th>4</th>\n",
       "      <td>0</td>\n",
       "      <td>340266.072047</td>\n",
       "      <td>53</td>\n",
       "      <td>среднее</td>\n",
       "      <td>1</td>\n",
       "      <td>гражданский брак</td>\n",
       "      <td>1</td>\n",
       "      <td>F</td>\n",
       "      <td>пенсионер</td>\n",
       "      <td>0</td>\n",
       "      <td>158616</td>\n",
       "      <td>сыграть свадьбу</td>\n",
       "    </tr>\n",
       "  </tbody>\n",
       "</table>\n",
       "</div>"
      ],
      "text/plain": [
       "   children  days_employed  dob_years education  education_id  \\\n",
       "0         1    8437.673028         42    высшее             0   \n",
       "1         1    4024.803754         36   среднее             1   \n",
       "2         0    5623.422610         33   среднее             1   \n",
       "3         3    4124.747207         32   среднее             1   \n",
       "4         0  340266.072047         53   среднее             1   \n",
       "\n",
       "      family_status  family_status_id gender income_type  debt  total_income  \\\n",
       "0   женат / замужем                 0      F   сотрудник     0        253875   \n",
       "1   женат / замужем                 0      F   сотрудник     0        112080   \n",
       "2   женат / замужем                 0      M   сотрудник     0        145885   \n",
       "3   женат / замужем                 0      M   сотрудник     0        267628   \n",
       "4  гражданский брак                 1      F   пенсионер     0        158616   \n",
       "\n",
       "                      purpose  \n",
       "0               покупка жилья  \n",
       "1     приобретение автомобиля  \n",
       "2               покупка жилья  \n",
       "3  дополнительное образование  \n",
       "4             сыграть свадьбу  "
      ]
     },
     "execution_count": 22,
     "metadata": {},
     "output_type": "execute_result"
    }
   ],
   "source": [
    "data.head() #проверяем"
   ]
  },
  {
   "cell_type": "markdown",
   "id": "176682df",
   "metadata": {},
   "source": [
    "### Шаг 2.4. Удаление дубликатов."
   ]
  },
  {
   "cell_type": "markdown",
   "id": "a21b0800",
   "metadata": {},
   "source": [
    "Посмотрим есть ли дубликаты в таблице методом duplicated - ищет одинаковые повторяющиеся значения"
   ]
  },
  {
   "cell_type": "code",
   "execution_count": 23,
   "id": "8fd68eb0",
   "metadata": {},
   "outputs": [
    {
     "data": {
      "text/plain": [
       "71"
      ]
     },
     "execution_count": 23,
     "metadata": {},
     "output_type": "execute_result"
    }
   ],
   "source": [
    "data.duplicated().sum() #общее количество дубликатов"
   ]
  },
  {
   "cell_type": "code",
   "execution_count": 24,
   "id": "2b2e556a",
   "metadata": {},
   "outputs": [
    {
     "data": {
      "text/plain": [
       "0"
      ]
     },
     "execution_count": 24,
     "metadata": {},
     "output_type": "execute_result"
    }
   ],
   "source": [
    "data = data.drop_duplicates().reset_index(drop=True) #удаляем и восстанавливаем нумерацию\n",
    "data.duplicated().sum() #проверяем"
   ]
  },
  {
   "cell_type": "markdown",
   "id": "b9d2b983",
   "metadata": {},
   "source": [
    "**Дополнительно поизучав данные на уровне подсчета уникальных значений (value_counts()) для каждого столбца, был выявлен еще ряд проблем:**\n",
    "* `children` - содержит значение 20. От отрицательного мы избавились (возможно это была опечатка или отсутствие детей, но так как многие находятся\\находились в браке остановимся на первом варианте). 20 - скорее опечатка (случайно нажали 0, печатая 2)\n",
    "* `gender` - содержит пол XNA (только в 1 ячейке). Большинство в данных женщины, поэтому заменим на F.\n",
    "* `purpose` - содержит опечатку - ремонт жильЮ (пока не знаю важно ли это, но исправим)."
   ]
  },
  {
   "cell_type": "code",
   "execution_count": 25,
   "id": "fb944021",
   "metadata": {},
   "outputs": [
    {
     "data": {
      "text/plain": [
       "0"
      ]
     },
     "execution_count": 25,
     "metadata": {},
     "output_type": "execute_result"
    }
   ],
   "source": [
    "# исправим опечатку в purpose\n",
    "data.loc[data['purpose'] == 'ремонт жилью', 'purpose'] = 'ремонт жилья'\n",
    "# проверяем\n",
    "data.loc[data['purpose'] == 'ремонт жилью']['purpose'].count()"
   ]
  },
  {
   "cell_type": "code",
   "execution_count": 26,
   "id": "b211cf11",
   "metadata": {},
   "outputs": [],
   "source": [
    "# исправим значение пола\n",
    "#data.loc[data['gender'] == 'XNA', 'gender'] = 'F'\n",
    "# проверяем\n",
    "#data.loc[data['gender'] == 'XNA']['gender'].count()"
   ]
  },
  {
   "cell_type": "code",
   "execution_count": 27,
   "id": "ae46ca3b",
   "metadata": {},
   "outputs": [
    {
     "data": {
      "text/plain": [
       "0"
      ]
     },
     "execution_count": 27,
     "metadata": {},
     "output_type": "execute_result"
    }
   ],
   "source": [
    "# исправим значения 20 для возраста согласно предположению\n",
    "data.loc[data['children'] == 20, 'children'] = 2\n",
    "# проверяем\n",
    "data.loc[data['children'] == 20]['children'].count()"
   ]
  },
  {
   "cell_type": "markdown",
   "id": "3012820b",
   "metadata": {},
   "source": [
    "### Шаг 2.5. Формирование дополнительных датафреймов словарей, декомпозиция исходного датафрейма."
   ]
  },
  {
   "cell_type": "code",
   "execution_count": 28,
   "id": "aaf81524",
   "metadata": {},
   "outputs": [
    {
     "data": {
      "text/html": [
       "<div>\n",
       "<style scoped>\n",
       "    .dataframe tbody tr th:only-of-type {\n",
       "        vertical-align: middle;\n",
       "    }\n",
       "\n",
       "    .dataframe tbody tr th {\n",
       "        vertical-align: top;\n",
       "    }\n",
       "\n",
       "    .dataframe thead th {\n",
       "        text-align: right;\n",
       "    }\n",
       "</style>\n",
       "<table border=\"1\" class=\"dataframe\">\n",
       "  <thead>\n",
       "    <tr style=\"text-align: right;\">\n",
       "      <th></th>\n",
       "      <th>education</th>\n",
       "      <th>education_id</th>\n",
       "    </tr>\n",
       "  </thead>\n",
       "  <tbody>\n",
       "    <tr>\n",
       "      <th>0</th>\n",
       "      <td>высшее</td>\n",
       "      <td>0</td>\n",
       "    </tr>\n",
       "    <tr>\n",
       "      <th>1</th>\n",
       "      <td>среднее</td>\n",
       "      <td>1</td>\n",
       "    </tr>\n",
       "    <tr>\n",
       "      <th>2</th>\n",
       "      <td>неоконченное высшее</td>\n",
       "      <td>2</td>\n",
       "    </tr>\n",
       "    <tr>\n",
       "      <th>3</th>\n",
       "      <td>начальное</td>\n",
       "      <td>3</td>\n",
       "    </tr>\n",
       "    <tr>\n",
       "      <th>4</th>\n",
       "      <td>ученая степень</td>\n",
       "      <td>4</td>\n",
       "    </tr>\n",
       "  </tbody>\n",
       "</table>\n",
       "</div>"
      ],
      "text/plain": [
       "             education  education_id\n",
       "0               высшее             0\n",
       "1              среднее             1\n",
       "2  неоконченное высшее             2\n",
       "3            начальное             3\n",
       "4       ученая степень             4"
      ]
     },
     "execution_count": 28,
     "metadata": {},
     "output_type": "execute_result"
    }
   ],
   "source": [
    "education_dict = data[['education', 'education_id']] # выделим словарь для education\n",
    "education_dict = education_dict.drop_duplicates().reset_index(drop=True) # удалим дубликаты из словаря\n",
    "education_dict.head()"
   ]
  },
  {
   "cell_type": "code",
   "execution_count": 29,
   "id": "9d8d4479",
   "metadata": {
    "scrolled": true
   },
   "outputs": [
    {
     "data": {
      "text/html": [
       "<div>\n",
       "<style scoped>\n",
       "    .dataframe tbody tr th:only-of-type {\n",
       "        vertical-align: middle;\n",
       "    }\n",
       "\n",
       "    .dataframe tbody tr th {\n",
       "        vertical-align: top;\n",
       "    }\n",
       "\n",
       "    .dataframe thead th {\n",
       "        text-align: right;\n",
       "    }\n",
       "</style>\n",
       "<table border=\"1\" class=\"dataframe\">\n",
       "  <thead>\n",
       "    <tr style=\"text-align: right;\">\n",
       "      <th></th>\n",
       "      <th>family_status</th>\n",
       "      <th>family_status_id</th>\n",
       "    </tr>\n",
       "  </thead>\n",
       "  <tbody>\n",
       "    <tr>\n",
       "      <th>0</th>\n",
       "      <td>женат / замужем</td>\n",
       "      <td>0</td>\n",
       "    </tr>\n",
       "    <tr>\n",
       "      <th>1</th>\n",
       "      <td>гражданский брак</td>\n",
       "      <td>1</td>\n",
       "    </tr>\n",
       "    <tr>\n",
       "      <th>2</th>\n",
       "      <td>вдовец / вдова</td>\n",
       "      <td>2</td>\n",
       "    </tr>\n",
       "    <tr>\n",
       "      <th>3</th>\n",
       "      <td>в разводе</td>\n",
       "      <td>3</td>\n",
       "    </tr>\n",
       "    <tr>\n",
       "      <th>4</th>\n",
       "      <td>не женат / не замужем</td>\n",
       "      <td>4</td>\n",
       "    </tr>\n",
       "  </tbody>\n",
       "</table>\n",
       "</div>"
      ],
      "text/plain": [
       "           family_status  family_status_id\n",
       "0        женат / замужем                 0\n",
       "1       гражданский брак                 1\n",
       "2         вдовец / вдова                 2\n",
       "3              в разводе                 3\n",
       "4  не женат / не замужем                 4"
      ]
     },
     "execution_count": 29,
     "metadata": {},
     "output_type": "execute_result"
    }
   ],
   "source": [
    "family_status_dict = data[['family_status', 'family_status_id']] # выделим словарь для family_status\n",
    "family_status_dict = family_status_dict.drop_duplicates().reset_index(drop=True) # удалим дубликаты из словаря\n",
    "family_status_dict.head()"
   ]
  },
  {
   "cell_type": "code",
   "execution_count": 30,
   "id": "135c2a29",
   "metadata": {},
   "outputs": [],
   "source": [
    "data = data.drop(data.columns[[2, 4]], axis=1) #удаляем несколько столбцов из таблицы, используем функцию drop(), обращаясь к определенным столбцам, параметр axis=1 - двигаемся слева направо"
   ]
  },
  {
   "cell_type": "code",
   "execution_count": 31,
   "id": "e867250c",
   "metadata": {},
   "outputs": [
    {
     "data": {
      "text/html": [
       "<div>\n",
       "<style scoped>\n",
       "    .dataframe tbody tr th:only-of-type {\n",
       "        vertical-align: middle;\n",
       "    }\n",
       "\n",
       "    .dataframe tbody tr th {\n",
       "        vertical-align: top;\n",
       "    }\n",
       "\n",
       "    .dataframe thead th {\n",
       "        text-align: right;\n",
       "    }\n",
       "</style>\n",
       "<table border=\"1\" class=\"dataframe\">\n",
       "  <thead>\n",
       "    <tr style=\"text-align: right;\">\n",
       "      <th></th>\n",
       "      <th>children</th>\n",
       "      <th>days_employed</th>\n",
       "      <th>education</th>\n",
       "      <th>family_status</th>\n",
       "      <th>family_status_id</th>\n",
       "      <th>gender</th>\n",
       "      <th>income_type</th>\n",
       "      <th>debt</th>\n",
       "      <th>total_income</th>\n",
       "      <th>purpose</th>\n",
       "    </tr>\n",
       "  </thead>\n",
       "  <tbody>\n",
       "    <tr>\n",
       "      <th>0</th>\n",
       "      <td>1</td>\n",
       "      <td>8437.673028</td>\n",
       "      <td>высшее</td>\n",
       "      <td>женат / замужем</td>\n",
       "      <td>0</td>\n",
       "      <td>F</td>\n",
       "      <td>сотрудник</td>\n",
       "      <td>0</td>\n",
       "      <td>253875</td>\n",
       "      <td>покупка жилья</td>\n",
       "    </tr>\n",
       "    <tr>\n",
       "      <th>1</th>\n",
       "      <td>1</td>\n",
       "      <td>4024.803754</td>\n",
       "      <td>среднее</td>\n",
       "      <td>женат / замужем</td>\n",
       "      <td>0</td>\n",
       "      <td>F</td>\n",
       "      <td>сотрудник</td>\n",
       "      <td>0</td>\n",
       "      <td>112080</td>\n",
       "      <td>приобретение автомобиля</td>\n",
       "    </tr>\n",
       "    <tr>\n",
       "      <th>2</th>\n",
       "      <td>0</td>\n",
       "      <td>5623.422610</td>\n",
       "      <td>среднее</td>\n",
       "      <td>женат / замужем</td>\n",
       "      <td>0</td>\n",
       "      <td>M</td>\n",
       "      <td>сотрудник</td>\n",
       "      <td>0</td>\n",
       "      <td>145885</td>\n",
       "      <td>покупка жилья</td>\n",
       "    </tr>\n",
       "    <tr>\n",
       "      <th>3</th>\n",
       "      <td>3</td>\n",
       "      <td>4124.747207</td>\n",
       "      <td>среднее</td>\n",
       "      <td>женат / замужем</td>\n",
       "      <td>0</td>\n",
       "      <td>M</td>\n",
       "      <td>сотрудник</td>\n",
       "      <td>0</td>\n",
       "      <td>267628</td>\n",
       "      <td>дополнительное образование</td>\n",
       "    </tr>\n",
       "    <tr>\n",
       "      <th>4</th>\n",
       "      <td>0</td>\n",
       "      <td>340266.072047</td>\n",
       "      <td>среднее</td>\n",
       "      <td>гражданский брак</td>\n",
       "      <td>1</td>\n",
       "      <td>F</td>\n",
       "      <td>пенсионер</td>\n",
       "      <td>0</td>\n",
       "      <td>158616</td>\n",
       "      <td>сыграть свадьбу</td>\n",
       "    </tr>\n",
       "  </tbody>\n",
       "</table>\n",
       "</div>"
      ],
      "text/plain": [
       "   children  days_employed education     family_status  family_status_id  \\\n",
       "0         1    8437.673028    высшее   женат / замужем                 0   \n",
       "1         1    4024.803754   среднее   женат / замужем                 0   \n",
       "2         0    5623.422610   среднее   женат / замужем                 0   \n",
       "3         3    4124.747207   среднее   женат / замужем                 0   \n",
       "4         0  340266.072047   среднее  гражданский брак                 1   \n",
       "\n",
       "  gender income_type  debt  total_income                     purpose  \n",
       "0      F   сотрудник     0        253875               покупка жилья  \n",
       "1      F   сотрудник     0        112080     приобретение автомобиля  \n",
       "2      M   сотрудник     0        145885               покупка жилья  \n",
       "3      M   сотрудник     0        267628  дополнительное образование  \n",
       "4      F   пенсионер     0        158616             сыграть свадьбу  "
      ]
     },
     "execution_count": 31,
     "metadata": {},
     "output_type": "execute_result"
    }
   ],
   "source": [
    "data.head() #проверяем"
   ]
  },
  {
   "cell_type": "markdown",
   "id": "76e0f45e",
   "metadata": {},
   "source": [
    "### Шаг 2.6. Категоризация дохода."
   ]
  },
  {
   "cell_type": "markdown",
   "id": "9e303d4d",
   "metadata": {},
   "source": [
    "На основании диапазонов, указанных ниже, создадим столбец `total_income_category` с категориями:\n",
    "* 0–30000 — 'E';\n",
    "* 30001–50000 — 'D';\n",
    "* 50001–200000 — 'C';\n",
    "* 200001–1000000 — 'B';\n",
    "* 1000001 и выше — 'A'."
   ]
  },
  {
   "cell_type": "code",
   "execution_count": 32,
   "id": "a9ade65f",
   "metadata": {},
   "outputs": [
    {
     "data": {
      "text/plain": [
       "142594    1070\n",
       "172357     502\n",
       "118514     387\n",
       "150447     145\n",
       "144533       3\n",
       "          ... \n",
       "179138       1\n",
       "61724        1\n",
       "99269        1\n",
       "151371       1\n",
       "126820       1\n",
       "Name: total_income, Length: 18608, dtype: int64"
      ]
     },
     "execution_count": 32,
     "metadata": {},
     "output_type": "execute_result"
    }
   ],
   "source": [
    "data['total_income'].value_counts()"
   ]
  },
  {
   "cell_type": "code",
   "execution_count": 33,
   "id": "01118b62",
   "metadata": {},
   "outputs": [
    {
     "data": {
      "text/plain": [
       "C    16015\n",
       "B     5042\n",
       "D      350\n",
       "A       25\n",
       "E       22\n",
       "Name: total_income_category, dtype: int64"
      ]
     },
     "execution_count": 33,
     "metadata": {},
     "output_type": "execute_result"
    }
   ],
   "source": [
    "def make_income_category(total_income): # для этого напишем функцию \n",
    "    if total_income <= 30000:\n",
    "        return 'E'\n",
    "    if 30001 <= total_income <= 50000:\n",
    "        return 'D'\n",
    "    if 50001 <= total_income <= 200000:\n",
    "        return 'C'\n",
    "    if 200001 <= total_income <= 1000000:\n",
    "        return 'B'\n",
    "    if 1000001 <= total_income:\n",
    "        return 'A'\n",
    "\n",
    "\n",
    "data['total_income_category'] = data['total_income'].apply(make_income_category) #применим метод apply() для создания столбца с разбивкой по категориям\n",
    "\n",
    "# проверяем\n",
    "data['total_income_category'].value_counts()"
   ]
  },
  {
   "cell_type": "code",
   "execution_count": 34,
   "id": "4c2f2dd3",
   "metadata": {},
   "outputs": [
    {
     "data": {
      "text/html": [
       "<div>\n",
       "<style scoped>\n",
       "    .dataframe tbody tr th:only-of-type {\n",
       "        vertical-align: middle;\n",
       "    }\n",
       "\n",
       "    .dataframe tbody tr th {\n",
       "        vertical-align: top;\n",
       "    }\n",
       "\n",
       "    .dataframe thead th {\n",
       "        text-align: right;\n",
       "    }\n",
       "</style>\n",
       "<table border=\"1\" class=\"dataframe\">\n",
       "  <thead>\n",
       "    <tr style=\"text-align: right;\">\n",
       "      <th></th>\n",
       "      <th>children</th>\n",
       "      <th>days_employed</th>\n",
       "      <th>education</th>\n",
       "      <th>family_status</th>\n",
       "      <th>family_status_id</th>\n",
       "      <th>gender</th>\n",
       "      <th>income_type</th>\n",
       "      <th>debt</th>\n",
       "      <th>total_income</th>\n",
       "      <th>purpose</th>\n",
       "      <th>total_income_category</th>\n",
       "    </tr>\n",
       "  </thead>\n",
       "  <tbody>\n",
       "    <tr>\n",
       "      <th>0</th>\n",
       "      <td>1</td>\n",
       "      <td>8437.673028</td>\n",
       "      <td>высшее</td>\n",
       "      <td>женат / замужем</td>\n",
       "      <td>0</td>\n",
       "      <td>F</td>\n",
       "      <td>сотрудник</td>\n",
       "      <td>0</td>\n",
       "      <td>253875</td>\n",
       "      <td>покупка жилья</td>\n",
       "      <td>B</td>\n",
       "    </tr>\n",
       "    <tr>\n",
       "      <th>1</th>\n",
       "      <td>1</td>\n",
       "      <td>4024.803754</td>\n",
       "      <td>среднее</td>\n",
       "      <td>женат / замужем</td>\n",
       "      <td>0</td>\n",
       "      <td>F</td>\n",
       "      <td>сотрудник</td>\n",
       "      <td>0</td>\n",
       "      <td>112080</td>\n",
       "      <td>приобретение автомобиля</td>\n",
       "      <td>C</td>\n",
       "    </tr>\n",
       "    <tr>\n",
       "      <th>2</th>\n",
       "      <td>0</td>\n",
       "      <td>5623.422610</td>\n",
       "      <td>среднее</td>\n",
       "      <td>женат / замужем</td>\n",
       "      <td>0</td>\n",
       "      <td>M</td>\n",
       "      <td>сотрудник</td>\n",
       "      <td>0</td>\n",
       "      <td>145885</td>\n",
       "      <td>покупка жилья</td>\n",
       "      <td>C</td>\n",
       "    </tr>\n",
       "    <tr>\n",
       "      <th>3</th>\n",
       "      <td>3</td>\n",
       "      <td>4124.747207</td>\n",
       "      <td>среднее</td>\n",
       "      <td>женат / замужем</td>\n",
       "      <td>0</td>\n",
       "      <td>M</td>\n",
       "      <td>сотрудник</td>\n",
       "      <td>0</td>\n",
       "      <td>267628</td>\n",
       "      <td>дополнительное образование</td>\n",
       "      <td>B</td>\n",
       "    </tr>\n",
       "    <tr>\n",
       "      <th>4</th>\n",
       "      <td>0</td>\n",
       "      <td>340266.072047</td>\n",
       "      <td>среднее</td>\n",
       "      <td>гражданский брак</td>\n",
       "      <td>1</td>\n",
       "      <td>F</td>\n",
       "      <td>пенсионер</td>\n",
       "      <td>0</td>\n",
       "      <td>158616</td>\n",
       "      <td>сыграть свадьбу</td>\n",
       "      <td>C</td>\n",
       "    </tr>\n",
       "  </tbody>\n",
       "</table>\n",
       "</div>"
      ],
      "text/plain": [
       "   children  days_employed education     family_status  family_status_id  \\\n",
       "0         1    8437.673028    высшее   женат / замужем                 0   \n",
       "1         1    4024.803754   среднее   женат / замужем                 0   \n",
       "2         0    5623.422610   среднее   женат / замужем                 0   \n",
       "3         3    4124.747207   среднее   женат / замужем                 0   \n",
       "4         0  340266.072047   среднее  гражданский брак                 1   \n",
       "\n",
       "  gender income_type  debt  total_income                     purpose  \\\n",
       "0      F   сотрудник     0        253875               покупка жилья   \n",
       "1      F   сотрудник     0        112080     приобретение автомобиля   \n",
       "2      M   сотрудник     0        145885               покупка жилья   \n",
       "3      M   сотрудник     0        267628  дополнительное образование   \n",
       "4      F   пенсионер     0        158616             сыграть свадьбу   \n",
       "\n",
       "  total_income_category  \n",
       "0                     B  \n",
       "1                     C  \n",
       "2                     C  \n",
       "3                     B  \n",
       "4                     C  "
      ]
     },
     "execution_count": 34,
     "metadata": {},
     "output_type": "execute_result"
    }
   ],
   "source": [
    "data.head() # проверяем"
   ]
  },
  {
   "cell_type": "markdown",
   "id": "0e44d3eb",
   "metadata": {},
   "source": [
    "### Шаг 2.7. Категоризация целей кредита."
   ]
  },
  {
   "cell_type": "code",
   "execution_count": 35,
   "id": "d01545a3",
   "metadata": {},
   "outputs": [
    {
     "data": {
      "text/plain": [
       "свадьба                                   791\n",
       "на проведение свадьбы                     768\n",
       "сыграть свадьбу                           765\n",
       "операции с недвижимостью                  675\n",
       "покупка коммерческой недвижимости         661\n",
       "операции с жильем                         652\n",
       "покупка жилья для сдачи                   651\n",
       "операции с коммерческой недвижимостью     650\n",
       "жилье                                     646\n",
       "покупка жилья                             646\n",
       "покупка жилья для семьи                   638\n",
       "строительство собственной недвижимости    635\n",
       "недвижимость                              633\n",
       "операции со своей недвижимостью           627\n",
       "строительство жилой недвижимости          624\n",
       "покупка недвижимости                      621\n",
       "покупка своего жилья                      620\n",
       "строительство недвижимости                619\n",
       "ремонт жилья                              607\n",
       "покупка жилой недвижимости                606\n",
       "на покупку своего автомобиля              505\n",
       "заняться высшим образованием              496\n",
       "автомобиль                                494\n",
       "сделка с подержанным автомобилем          486\n",
       "на покупку подержанного автомобиля        478\n",
       "автомобили                                478\n",
       "свой автомобиль                           478\n",
       "на покупку автомобиля                     471\n",
       "приобретение автомобиля                   461\n",
       "дополнительное образование                460\n",
       "сделка с автомобилем                      455\n",
       "высшее образование                        452\n",
       "образование                               447\n",
       "получение дополнительного образования     446\n",
       "получение образования                     442\n",
       "профильное образование                    436\n",
       "получение высшего образования             426\n",
       "заняться образованием                     408\n",
       "Name: purpose, dtype: int64"
      ]
     },
     "execution_count": 35,
     "metadata": {},
     "output_type": "execute_result"
    }
   ],
   "source": [
    "data['purpose'].value_counts() #посмотрим на категории"
   ]
  },
  {
   "cell_type": "markdown",
   "id": "275a6c37",
   "metadata": {},
   "source": [
    "На основании имеющихся данных можно выделить 4 основные категории. Вероятно данные вносились разными людьми, поэтому записаны по разному, но суть остается прежней.\n",
    "Сформируем новый столбец `purpose_category`, в который войдут следующие категории:\n",
    "* 'операции с автомобилем',\n",
    "* 'операции с недвижимостью',\n",
    "* 'проведение свадьбы',\n",
    "* 'получение образования'.\n"
   ]
  },
  {
   "cell_type": "code",
   "execution_count": 36,
   "id": "ff185678",
   "metadata": {},
   "outputs": [
    {
     "data": {
      "text/plain": [
       "операции с недвижимостью    10811\n",
       "операции с автомобилем       4306\n",
       "получение образования        4013\n",
       "проведение свадьбы           2324\n",
       "Name: purpose_category, dtype: int64"
      ]
     },
     "execution_count": 36,
     "metadata": {},
     "output_type": "execute_result"
    }
   ],
   "source": [
    "def purpose_category(list): #напишем функцию для разделения по категориям \n",
    "    if 'авто' in list:\n",
    "        return \"операции с автомобилем\"\n",
    "    if \"образовани\" in list:\n",
    "        return \"получение образования\"\n",
    "    if \"свадьб\" in list:\n",
    "        return \"проведение свадьбы\"\n",
    "    if \"недвижим\" in list:\n",
    "        return \"операции с недвижимостью\"\n",
    "    if \"жиль\" in list:\n",
    "        return \"операции с недвижимостью\"\n",
    "\n",
    "data['purpose_category'] = data['purpose'].apply(purpose_category)\n",
    "data['purpose_category'].value_counts() #проверяем"
   ]
  },
  {
   "cell_type": "code",
   "execution_count": 37,
   "id": "9e029d11",
   "metadata": {},
   "outputs": [
    {
     "data": {
      "text/html": [
       "<div>\n",
       "<style scoped>\n",
       "    .dataframe tbody tr th:only-of-type {\n",
       "        vertical-align: middle;\n",
       "    }\n",
       "\n",
       "    .dataframe tbody tr th {\n",
       "        vertical-align: top;\n",
       "    }\n",
       "\n",
       "    .dataframe thead th {\n",
       "        text-align: right;\n",
       "    }\n",
       "</style>\n",
       "<table border=\"1\" class=\"dataframe\">\n",
       "  <thead>\n",
       "    <tr style=\"text-align: right;\">\n",
       "      <th></th>\n",
       "      <th>children</th>\n",
       "      <th>days_employed</th>\n",
       "      <th>education</th>\n",
       "      <th>family_status</th>\n",
       "      <th>family_status_id</th>\n",
       "      <th>gender</th>\n",
       "      <th>income_type</th>\n",
       "      <th>debt</th>\n",
       "      <th>total_income</th>\n",
       "      <th>purpose</th>\n",
       "      <th>total_income_category</th>\n",
       "      <th>purpose_category</th>\n",
       "    </tr>\n",
       "  </thead>\n",
       "  <tbody>\n",
       "    <tr>\n",
       "      <th>0</th>\n",
       "      <td>1</td>\n",
       "      <td>8437.673028</td>\n",
       "      <td>высшее</td>\n",
       "      <td>женат / замужем</td>\n",
       "      <td>0</td>\n",
       "      <td>F</td>\n",
       "      <td>сотрудник</td>\n",
       "      <td>0</td>\n",
       "      <td>253875</td>\n",
       "      <td>покупка жилья</td>\n",
       "      <td>B</td>\n",
       "      <td>операции с недвижимостью</td>\n",
       "    </tr>\n",
       "    <tr>\n",
       "      <th>1</th>\n",
       "      <td>1</td>\n",
       "      <td>4024.803754</td>\n",
       "      <td>среднее</td>\n",
       "      <td>женат / замужем</td>\n",
       "      <td>0</td>\n",
       "      <td>F</td>\n",
       "      <td>сотрудник</td>\n",
       "      <td>0</td>\n",
       "      <td>112080</td>\n",
       "      <td>приобретение автомобиля</td>\n",
       "      <td>C</td>\n",
       "      <td>операции с автомобилем</td>\n",
       "    </tr>\n",
       "    <tr>\n",
       "      <th>2</th>\n",
       "      <td>0</td>\n",
       "      <td>5623.422610</td>\n",
       "      <td>среднее</td>\n",
       "      <td>женат / замужем</td>\n",
       "      <td>0</td>\n",
       "      <td>M</td>\n",
       "      <td>сотрудник</td>\n",
       "      <td>0</td>\n",
       "      <td>145885</td>\n",
       "      <td>покупка жилья</td>\n",
       "      <td>C</td>\n",
       "      <td>операции с недвижимостью</td>\n",
       "    </tr>\n",
       "    <tr>\n",
       "      <th>3</th>\n",
       "      <td>3</td>\n",
       "      <td>4124.747207</td>\n",
       "      <td>среднее</td>\n",
       "      <td>женат / замужем</td>\n",
       "      <td>0</td>\n",
       "      <td>M</td>\n",
       "      <td>сотрудник</td>\n",
       "      <td>0</td>\n",
       "      <td>267628</td>\n",
       "      <td>дополнительное образование</td>\n",
       "      <td>B</td>\n",
       "      <td>получение образования</td>\n",
       "    </tr>\n",
       "    <tr>\n",
       "      <th>4</th>\n",
       "      <td>0</td>\n",
       "      <td>340266.072047</td>\n",
       "      <td>среднее</td>\n",
       "      <td>гражданский брак</td>\n",
       "      <td>1</td>\n",
       "      <td>F</td>\n",
       "      <td>пенсионер</td>\n",
       "      <td>0</td>\n",
       "      <td>158616</td>\n",
       "      <td>сыграть свадьбу</td>\n",
       "      <td>C</td>\n",
       "      <td>проведение свадьбы</td>\n",
       "    </tr>\n",
       "    <tr>\n",
       "      <th>5</th>\n",
       "      <td>0</td>\n",
       "      <td>926.185831</td>\n",
       "      <td>высшее</td>\n",
       "      <td>гражданский брак</td>\n",
       "      <td>1</td>\n",
       "      <td>M</td>\n",
       "      <td>компаньон</td>\n",
       "      <td>0</td>\n",
       "      <td>255763</td>\n",
       "      <td>покупка жилья</td>\n",
       "      <td>B</td>\n",
       "      <td>операции с недвижимостью</td>\n",
       "    </tr>\n",
       "    <tr>\n",
       "      <th>6</th>\n",
       "      <td>0</td>\n",
       "      <td>2879.202052</td>\n",
       "      <td>высшее</td>\n",
       "      <td>женат / замужем</td>\n",
       "      <td>0</td>\n",
       "      <td>F</td>\n",
       "      <td>компаньон</td>\n",
       "      <td>0</td>\n",
       "      <td>240525</td>\n",
       "      <td>операции с жильем</td>\n",
       "      <td>B</td>\n",
       "      <td>операции с недвижимостью</td>\n",
       "    </tr>\n",
       "    <tr>\n",
       "      <th>7</th>\n",
       "      <td>0</td>\n",
       "      <td>152.779569</td>\n",
       "      <td>среднее</td>\n",
       "      <td>женат / замужем</td>\n",
       "      <td>0</td>\n",
       "      <td>M</td>\n",
       "      <td>сотрудник</td>\n",
       "      <td>0</td>\n",
       "      <td>135823</td>\n",
       "      <td>образование</td>\n",
       "      <td>C</td>\n",
       "      <td>получение образования</td>\n",
       "    </tr>\n",
       "    <tr>\n",
       "      <th>8</th>\n",
       "      <td>2</td>\n",
       "      <td>6929.865299</td>\n",
       "      <td>высшее</td>\n",
       "      <td>гражданский брак</td>\n",
       "      <td>1</td>\n",
       "      <td>F</td>\n",
       "      <td>сотрудник</td>\n",
       "      <td>0</td>\n",
       "      <td>95856</td>\n",
       "      <td>на проведение свадьбы</td>\n",
       "      <td>C</td>\n",
       "      <td>проведение свадьбы</td>\n",
       "    </tr>\n",
       "    <tr>\n",
       "      <th>9</th>\n",
       "      <td>0</td>\n",
       "      <td>2188.756445</td>\n",
       "      <td>среднее</td>\n",
       "      <td>женат / замужем</td>\n",
       "      <td>0</td>\n",
       "      <td>M</td>\n",
       "      <td>сотрудник</td>\n",
       "      <td>0</td>\n",
       "      <td>144425</td>\n",
       "      <td>покупка жилья для семьи</td>\n",
       "      <td>C</td>\n",
       "      <td>операции с недвижимостью</td>\n",
       "    </tr>\n",
       "  </tbody>\n",
       "</table>\n",
       "</div>"
      ],
      "text/plain": [
       "   children  days_employed education     family_status  family_status_id  \\\n",
       "0         1    8437.673028    высшее   женат / замужем                 0   \n",
       "1         1    4024.803754   среднее   женат / замужем                 0   \n",
       "2         0    5623.422610   среднее   женат / замужем                 0   \n",
       "3         3    4124.747207   среднее   женат / замужем                 0   \n",
       "4         0  340266.072047   среднее  гражданский брак                 1   \n",
       "5         0     926.185831    высшее  гражданский брак                 1   \n",
       "6         0    2879.202052    высшее   женат / замужем                 0   \n",
       "7         0     152.779569   среднее   женат / замужем                 0   \n",
       "8         2    6929.865299    высшее  гражданский брак                 1   \n",
       "9         0    2188.756445   среднее   женат / замужем                 0   \n",
       "\n",
       "  gender income_type  debt  total_income                     purpose  \\\n",
       "0      F   сотрудник     0        253875               покупка жилья   \n",
       "1      F   сотрудник     0        112080     приобретение автомобиля   \n",
       "2      M   сотрудник     0        145885               покупка жилья   \n",
       "3      M   сотрудник     0        267628  дополнительное образование   \n",
       "4      F   пенсионер     0        158616             сыграть свадьбу   \n",
       "5      M   компаньон     0        255763               покупка жилья   \n",
       "6      F   компаньон     0        240525           операции с жильем   \n",
       "7      M   сотрудник     0        135823                 образование   \n",
       "8      F   сотрудник     0         95856       на проведение свадьбы   \n",
       "9      M   сотрудник     0        144425     покупка жилья для семьи   \n",
       "\n",
       "  total_income_category          purpose_category  \n",
       "0                     B  операции с недвижимостью  \n",
       "1                     C    операции с автомобилем  \n",
       "2                     C  операции с недвижимостью  \n",
       "3                     B     получение образования  \n",
       "4                     C        проведение свадьбы  \n",
       "5                     B  операции с недвижимостью  \n",
       "6                     B  операции с недвижимостью  \n",
       "7                     C     получение образования  \n",
       "8                     C        проведение свадьбы  \n",
       "9                     C  операции с недвижимостью  "
      ]
     },
     "execution_count": 37,
     "metadata": {},
     "output_type": "execute_result"
    }
   ],
   "source": [
    "data.head(10) #проверяем"
   ]
  },
  {
   "cell_type": "markdown",
   "id": "384627ae",
   "metadata": {},
   "source": [
    "### Ответы на вопросы."
   ]
  },
  {
   "cell_type": "markdown",
   "id": "e1b1c17f",
   "metadata": {},
   "source": [
    "##### Вопрос 1:"
   ]
  },
  {
   "cell_type": "markdown",
   "id": "0cd42268",
   "metadata": {},
   "source": [
    "**Есть ли зависимость между количеством детей и возвратом кредита в срок?**"
   ]
  },
  {
   "cell_type": "markdown",
   "id": "5cffbb1c",
   "metadata": {},
   "source": [
    "Чтобы ответить на этот и следующие вопросы, составим сводную таблицу методом pivot_table. Сведем все необходимые столбцы. Посмотрим есть ли зависимости."
   ]
  },
  {
   "cell_type": "code",
   "execution_count": 38,
   "id": "80bc9484",
   "metadata": {},
   "outputs": [
    {
     "data": {
      "text/html": [
       "<div>\n",
       "<style scoped>\n",
       "    .dataframe tbody tr th:only-of-type {\n",
       "        vertical-align: middle;\n",
       "    }\n",
       "\n",
       "    .dataframe tbody tr th {\n",
       "        vertical-align: top;\n",
       "    }\n",
       "\n",
       "    .dataframe thead th {\n",
       "        text-align: right;\n",
       "    }\n",
       "</style>\n",
       "<table border=\"1\" class=\"dataframe\">\n",
       "  <thead>\n",
       "    <tr style=\"text-align: right;\">\n",
       "      <th></th>\n",
       "      <th>children</th>\n",
       "      <th>0</th>\n",
       "      <th>1</th>\n",
       "      <th>2</th>\n",
       "      <th>3</th>\n",
       "      <th>4</th>\n",
       "      <th>5</th>\n",
       "    </tr>\n",
       "    <tr>\n",
       "      <th>family_status_id</th>\n",
       "      <th>total_income_category</th>\n",
       "      <th></th>\n",
       "      <th></th>\n",
       "      <th></th>\n",
       "      <th></th>\n",
       "      <th></th>\n",
       "      <th></th>\n",
       "    </tr>\n",
       "  </thead>\n",
       "  <tbody>\n",
       "    <tr>\n",
       "      <th rowspan=\"5\" valign=\"top\">0</th>\n",
       "      <th>A</th>\n",
       "      <td>7.0</td>\n",
       "      <td>3.0</td>\n",
       "      <td>3.0</td>\n",
       "      <td>1.0</td>\n",
       "      <td>NaN</td>\n",
       "      <td>NaN</td>\n",
       "    </tr>\n",
       "    <tr>\n",
       "      <th>B</th>\n",
       "      <td>1749.0</td>\n",
       "      <td>737.0</td>\n",
       "      <td>399.0</td>\n",
       "      <td>68.0</td>\n",
       "      <td>4.0</td>\n",
       "      <td>4.0</td>\n",
       "    </tr>\n",
       "    <tr>\n",
       "      <th>C</th>\n",
       "      <td>5556.0</td>\n",
       "      <td>2215.0</td>\n",
       "      <td>1152.0</td>\n",
       "      <td>177.0</td>\n",
       "      <td>25.0</td>\n",
       "      <td>2.0</td>\n",
       "    </tr>\n",
       "    <tr>\n",
       "      <th>D</th>\n",
       "      <td>145.0</td>\n",
       "      <td>46.0</td>\n",
       "      <td>28.0</td>\n",
       "      <td>3.0</td>\n",
       "      <td>NaN</td>\n",
       "      <td>1.0</td>\n",
       "    </tr>\n",
       "    <tr>\n",
       "      <th>E</th>\n",
       "      <td>11.0</td>\n",
       "      <td>3.0</td>\n",
       "      <td>NaN</td>\n",
       "      <td>NaN</td>\n",
       "      <td>NaN</td>\n",
       "      <td>NaN</td>\n",
       "    </tr>\n",
       "    <tr>\n",
       "      <th rowspan=\"5\" valign=\"top\">1</th>\n",
       "      <th>A</th>\n",
       "      <td>3.0</td>\n",
       "      <td>3.0</td>\n",
       "      <td>NaN</td>\n",
       "      <td>NaN</td>\n",
       "      <td>NaN</td>\n",
       "      <td>NaN</td>\n",
       "    </tr>\n",
       "    <tr>\n",
       "      <th>B</th>\n",
       "      <td>632.0</td>\n",
       "      <td>241.0</td>\n",
       "      <td>86.0</td>\n",
       "      <td>15.0</td>\n",
       "      <td>2.0</td>\n",
       "      <td>NaN</td>\n",
       "    </tr>\n",
       "    <tr>\n",
       "      <th>C</th>\n",
       "      <td>2048.0</td>\n",
       "      <td>742.0</td>\n",
       "      <td>264.0</td>\n",
       "      <td>39.0</td>\n",
       "      <td>6.0</td>\n",
       "      <td>2.0</td>\n",
       "    </tr>\n",
       "    <tr>\n",
       "      <th>D</th>\n",
       "      <td>43.0</td>\n",
       "      <td>13.0</td>\n",
       "      <td>4.0</td>\n",
       "      <td>2.0</td>\n",
       "      <td>NaN</td>\n",
       "      <td>NaN</td>\n",
       "    </tr>\n",
       "    <tr>\n",
       "      <th>E</th>\n",
       "      <td>4.0</td>\n",
       "      <td>1.0</td>\n",
       "      <td>1.0</td>\n",
       "      <td>NaN</td>\n",
       "      <td>NaN</td>\n",
       "      <td>NaN</td>\n",
       "    </tr>\n",
       "    <tr>\n",
       "      <th rowspan=\"3\" valign=\"top\">2</th>\n",
       "      <th>B</th>\n",
       "      <td>130.0</td>\n",
       "      <td>19.0</td>\n",
       "      <td>4.0</td>\n",
       "      <td>3.0</td>\n",
       "      <td>NaN</td>\n",
       "      <td>NaN</td>\n",
       "    </tr>\n",
       "    <tr>\n",
       "      <th>C</th>\n",
       "      <td>698.0</td>\n",
       "      <td>58.0</td>\n",
       "      <td>20.0</td>\n",
       "      <td>3.0</td>\n",
       "      <td>1.0</td>\n",
       "      <td>NaN</td>\n",
       "    </tr>\n",
       "    <tr>\n",
       "      <th>D</th>\n",
       "      <td>19.0</td>\n",
       "      <td>4.0</td>\n",
       "      <td>NaN</td>\n",
       "      <td>NaN</td>\n",
       "      <td>NaN</td>\n",
       "      <td>NaN</td>\n",
       "    </tr>\n",
       "    <tr>\n",
       "      <th rowspan=\"4\" valign=\"top\">3</th>\n",
       "      <th>A</th>\n",
       "      <td>1.0</td>\n",
       "      <td>2.0</td>\n",
       "      <td>NaN</td>\n",
       "      <td>NaN</td>\n",
       "      <td>NaN</td>\n",
       "      <td>NaN</td>\n",
       "    </tr>\n",
       "    <tr>\n",
       "      <th>B</th>\n",
       "      <td>188.0</td>\n",
       "      <td>73.0</td>\n",
       "      <td>19.0</td>\n",
       "      <td>1.0</td>\n",
       "      <td>1.0</td>\n",
       "      <td>NaN</td>\n",
       "    </tr>\n",
       "    <tr>\n",
       "      <th>C</th>\n",
       "      <td>583.0</td>\n",
       "      <td>238.0</td>\n",
       "      <td>62.0</td>\n",
       "      <td>10.0</td>\n",
       "      <td>NaN</td>\n",
       "      <td>NaN</td>\n",
       "    </tr>\n",
       "    <tr>\n",
       "      <th>D</th>\n",
       "      <td>12.0</td>\n",
       "      <td>3.0</td>\n",
       "      <td>2.0</td>\n",
       "      <td>NaN</td>\n",
       "      <td>NaN</td>\n",
       "      <td>NaN</td>\n",
       "    </tr>\n",
       "    <tr>\n",
       "      <th rowspan=\"5\" valign=\"top\">4</th>\n",
       "      <th>A</th>\n",
       "      <td>1.0</td>\n",
       "      <td>1.0</td>\n",
       "      <td>NaN</td>\n",
       "      <td>NaN</td>\n",
       "      <td>NaN</td>\n",
       "      <td>NaN</td>\n",
       "    </tr>\n",
       "    <tr>\n",
       "      <th>B</th>\n",
       "      <td>547.0</td>\n",
       "      <td>105.0</td>\n",
       "      <td>14.0</td>\n",
       "      <td>1.0</td>\n",
       "      <td>NaN</td>\n",
       "      <td>NaN</td>\n",
       "    </tr>\n",
       "    <tr>\n",
       "      <th>C</th>\n",
       "      <td>1688.0</td>\n",
       "      <td>347.0</td>\n",
       "      <td>70.0</td>\n",
       "      <td>7.0</td>\n",
       "      <td>2.0</td>\n",
       "      <td>NaN</td>\n",
       "    </tr>\n",
       "    <tr>\n",
       "      <th>D</th>\n",
       "      <td>24.0</td>\n",
       "      <td>1.0</td>\n",
       "      <td>NaN</td>\n",
       "      <td>NaN</td>\n",
       "      <td>NaN</td>\n",
       "      <td>NaN</td>\n",
       "    </tr>\n",
       "    <tr>\n",
       "      <th>E</th>\n",
       "      <td>2.0</td>\n",
       "      <td>NaN</td>\n",
       "      <td>NaN</td>\n",
       "      <td>NaN</td>\n",
       "      <td>NaN</td>\n",
       "      <td>NaN</td>\n",
       "    </tr>\n",
       "  </tbody>\n",
       "</table>\n",
       "</div>"
      ],
      "text/plain": [
       "children                                     0       1       2      3     4  \\\n",
       "family_status_id total_income_category                                        \n",
       "0                A                         7.0     3.0     3.0    1.0   NaN   \n",
       "                 B                      1749.0   737.0   399.0   68.0   4.0   \n",
       "                 C                      5556.0  2215.0  1152.0  177.0  25.0   \n",
       "                 D                       145.0    46.0    28.0    3.0   NaN   \n",
       "                 E                        11.0     3.0     NaN    NaN   NaN   \n",
       "1                A                         3.0     3.0     NaN    NaN   NaN   \n",
       "                 B                       632.0   241.0    86.0   15.0   2.0   \n",
       "                 C                      2048.0   742.0   264.0   39.0   6.0   \n",
       "                 D                        43.0    13.0     4.0    2.0   NaN   \n",
       "                 E                         4.0     1.0     1.0    NaN   NaN   \n",
       "2                B                       130.0    19.0     4.0    3.0   NaN   \n",
       "                 C                       698.0    58.0    20.0    3.0   1.0   \n",
       "                 D                        19.0     4.0     NaN    NaN   NaN   \n",
       "3                A                         1.0     2.0     NaN    NaN   NaN   \n",
       "                 B                       188.0    73.0    19.0    1.0   1.0   \n",
       "                 C                       583.0   238.0    62.0   10.0   NaN   \n",
       "                 D                        12.0     3.0     2.0    NaN   NaN   \n",
       "4                A                         1.0     1.0     NaN    NaN   NaN   \n",
       "                 B                       547.0   105.0    14.0    1.0   NaN   \n",
       "                 C                      1688.0   347.0    70.0    7.0   2.0   \n",
       "                 D                        24.0     1.0     NaN    NaN   NaN   \n",
       "                 E                         2.0     NaN     NaN    NaN   NaN   \n",
       "\n",
       "children                                  5  \n",
       "family_status_id total_income_category       \n",
       "0                A                      NaN  \n",
       "                 B                      4.0  \n",
       "                 C                      2.0  \n",
       "                 D                      1.0  \n",
       "                 E                      NaN  \n",
       "1                A                      NaN  \n",
       "                 B                      NaN  \n",
       "                 C                      2.0  \n",
       "                 D                      NaN  \n",
       "                 E                      NaN  \n",
       "2                B                      NaN  \n",
       "                 C                      NaN  \n",
       "                 D                      NaN  \n",
       "3                A                      NaN  \n",
       "                 B                      NaN  \n",
       "                 C                      NaN  \n",
       "                 D                      NaN  \n",
       "4                A                      NaN  \n",
       "                 B                      NaN  \n",
       "                 C                      NaN  \n",
       "                 D                      NaN  \n",
       "                 E                      NaN  "
      ]
     },
     "metadata": {},
     "output_type": "display_data"
    }
   ],
   "source": [
    "data_pivot = data.pivot_table(index=['family_status_id', 'total_income_category'], columns='children', values='debt', aggfunc='count')\n",
    "display(data_pivot)"
   ]
  },
  {
   "cell_type": "markdown",
   "id": "6da39f82",
   "metadata": {},
   "source": [
    "Вызовем метод agg(), указывающий, какие именно функции применить к столбцу `debt`. Название столбца и сами функции запишем в словарь. И группируем по `children`."
   ]
  },
  {
   "cell_type": "code",
   "execution_count": 39,
   "id": "17a65e6f",
   "metadata": {},
   "outputs": [
    {
     "data": {
      "text/html": [
       "<div>\n",
       "<style scoped>\n",
       "    .dataframe tbody tr th:only-of-type {\n",
       "        vertical-align: middle;\n",
       "    }\n",
       "\n",
       "    .dataframe tbody tr th {\n",
       "        vertical-align: top;\n",
       "    }\n",
       "\n",
       "    .dataframe thead tr th {\n",
       "        text-align: left;\n",
       "    }\n",
       "\n",
       "    .dataframe thead tr:last-of-type th {\n",
       "        text-align: right;\n",
       "    }\n",
       "</style>\n",
       "<table border=\"1\" class=\"dataframe\">\n",
       "  <thead>\n",
       "    <tr>\n",
       "      <th></th>\n",
       "      <th colspan=\"2\" halign=\"left\">debt</th>\n",
       "    </tr>\n",
       "    <tr>\n",
       "      <th></th>\n",
       "      <th>count</th>\n",
       "      <th>sum</th>\n",
       "    </tr>\n",
       "    <tr>\n",
       "      <th>children</th>\n",
       "      <th></th>\n",
       "      <th></th>\n",
       "    </tr>\n",
       "  </thead>\n",
       "  <tbody>\n",
       "    <tr>\n",
       "      <th>0</th>\n",
       "      <td>14091</td>\n",
       "      <td>1063</td>\n",
       "    </tr>\n",
       "    <tr>\n",
       "      <th>1</th>\n",
       "      <td>4855</td>\n",
       "      <td>445</td>\n",
       "    </tr>\n",
       "    <tr>\n",
       "      <th>2</th>\n",
       "      <td>2128</td>\n",
       "      <td>202</td>\n",
       "    </tr>\n",
       "    <tr>\n",
       "      <th>3</th>\n",
       "      <td>330</td>\n",
       "      <td>27</td>\n",
       "    </tr>\n",
       "    <tr>\n",
       "      <th>4</th>\n",
       "      <td>41</td>\n",
       "      <td>4</td>\n",
       "    </tr>\n",
       "    <tr>\n",
       "      <th>5</th>\n",
       "      <td>9</td>\n",
       "      <td>0</td>\n",
       "    </tr>\n",
       "  </tbody>\n",
       "</table>\n",
       "</div>"
      ],
      "text/plain": [
       "           debt      \n",
       "          count   sum\n",
       "children             \n",
       "0         14091  1063\n",
       "1          4855   445\n",
       "2          2128   202\n",
       "3           330    27\n",
       "4            41     4\n",
       "5             9     0"
      ]
     },
     "metadata": {},
     "output_type": "display_data"
    }
   ],
   "source": [
    "data_grouped = data.groupby('children').agg({'debt': ['count', 'sum']})\n",
    "display(data_grouped)"
   ]
  },
  {
   "cell_type": "code",
   "execution_count": 40,
   "id": "46b761a8",
   "metadata": {},
   "outputs": [
    {
     "data": {
      "text/plain": [
       "children\n",
       "0    7.543822\n",
       "1    9.165808\n",
       "2    9.492481\n",
       "3    8.181818\n",
       "4    9.756098\n",
       "5    0.000000\n",
       "Name: conversion, dtype: float64"
      ]
     },
     "metadata": {},
     "output_type": "display_data"
    }
   ],
   "source": [
    "data_grouped['conversion'] = (data_grouped['debt']['sum'] / data_grouped['debt']['count'])*100\n",
    "display(data_grouped['conversion']) #посчитаем конверсию невозврата "
   ]
  },
  {
   "cell_type": "markdown",
   "id": "b364583c",
   "metadata": {},
   "source": [
    "**Доля невыплат меньше всего у тех у кого нет детей - 7,5%. А больше всего доля просрочки с 1, 2 и 4  детьми.  В целом небольшая разница между людьми с одним ребенком и несколькими, вторые возвращают вовремя чуть реже.**"
   ]
  },
  {
   "cell_type": "markdown",
   "id": "e83bb304",
   "metadata": {},
   "source": [
    "##### Вопрос 2:"
   ]
  },
  {
   "cell_type": "markdown",
   "id": "18050969",
   "metadata": {},
   "source": [
    "**Есть ли зависимость между семейным положением и возвратом кредита в срок?**"
   ]
  },
  {
   "cell_type": "code",
   "execution_count": 41,
   "id": "8da30072",
   "metadata": {},
   "outputs": [
    {
     "data": {
      "text/html": [
       "<div>\n",
       "<style scoped>\n",
       "    .dataframe tbody tr th:only-of-type {\n",
       "        vertical-align: middle;\n",
       "    }\n",
       "\n",
       "    .dataframe tbody tr th {\n",
       "        vertical-align: top;\n",
       "    }\n",
       "\n",
       "    .dataframe thead tr th {\n",
       "        text-align: left;\n",
       "    }\n",
       "\n",
       "    .dataframe thead tr:last-of-type th {\n",
       "        text-align: right;\n",
       "    }\n",
       "</style>\n",
       "<table border=\"1\" class=\"dataframe\">\n",
       "  <thead>\n",
       "    <tr>\n",
       "      <th></th>\n",
       "      <th colspan=\"2\" halign=\"left\">debt</th>\n",
       "    </tr>\n",
       "    <tr>\n",
       "      <th></th>\n",
       "      <th>count</th>\n",
       "      <th>sum</th>\n",
       "    </tr>\n",
       "    <tr>\n",
       "      <th>family_status_id</th>\n",
       "      <th></th>\n",
       "      <th></th>\n",
       "    </tr>\n",
       "  </thead>\n",
       "  <tbody>\n",
       "    <tr>\n",
       "      <th>0</th>\n",
       "      <td>12339</td>\n",
       "      <td>931</td>\n",
       "    </tr>\n",
       "    <tr>\n",
       "      <th>1</th>\n",
       "      <td>4151</td>\n",
       "      <td>388</td>\n",
       "    </tr>\n",
       "    <tr>\n",
       "      <th>2</th>\n",
       "      <td>959</td>\n",
       "      <td>63</td>\n",
       "    </tr>\n",
       "    <tr>\n",
       "      <th>3</th>\n",
       "      <td>1195</td>\n",
       "      <td>85</td>\n",
       "    </tr>\n",
       "    <tr>\n",
       "      <th>4</th>\n",
       "      <td>2810</td>\n",
       "      <td>274</td>\n",
       "    </tr>\n",
       "  </tbody>\n",
       "</table>\n",
       "</div>"
      ],
      "text/plain": [
       "                   debt     \n",
       "                  count  sum\n",
       "family_status_id            \n",
       "0                 12339  931\n",
       "1                  4151  388\n",
       "2                   959   63\n",
       "3                  1195   85\n",
       "4                  2810  274"
      ]
     },
     "metadata": {},
     "output_type": "display_data"
    }
   ],
   "source": [
    "data_family_id = data.groupby(['family_status_id']).agg({'debt':['count', 'sum']})\n",
    "display(data_family_id) # делаем тоже самое только по семейному статусу, где \n",
    "# 0 - женат\\замужем \n",
    "# 1 - гражданский брак\n",
    "# 2 - вдовец\\вдова\n",
    "# 3 - в разводе\n",
    "# 4 - не женат\\не замужем"
   ]
  },
  {
   "cell_type": "code",
   "execution_count": 42,
   "id": "7492fc0d",
   "metadata": {},
   "outputs": [
    {
     "data": {
      "text/html": [
       "<div>\n",
       "<style scoped>\n",
       "    .dataframe tbody tr th:only-of-type {\n",
       "        vertical-align: middle;\n",
       "    }\n",
       "\n",
       "    .dataframe tbody tr th {\n",
       "        vertical-align: top;\n",
       "    }\n",
       "\n",
       "    .dataframe thead tr th {\n",
       "        text-align: left;\n",
       "    }\n",
       "\n",
       "    .dataframe thead tr:last-of-type th {\n",
       "        text-align: right;\n",
       "    }\n",
       "</style>\n",
       "<table border=\"1\" class=\"dataframe\">\n",
       "  <thead>\n",
       "    <tr>\n",
       "      <th></th>\n",
       "      <th colspan=\"3\" halign=\"left\">debt</th>\n",
       "    </tr>\n",
       "    <tr>\n",
       "      <th></th>\n",
       "      <th>count</th>\n",
       "      <th>sum</th>\n",
       "      <th>conv,%</th>\n",
       "    </tr>\n",
       "    <tr>\n",
       "      <th>family_status_id</th>\n",
       "      <th></th>\n",
       "      <th></th>\n",
       "      <th></th>\n",
       "    </tr>\n",
       "  </thead>\n",
       "  <tbody>\n",
       "    <tr>\n",
       "      <th>0</th>\n",
       "      <td>12339</td>\n",
       "      <td>931</td>\n",
       "      <td>7.545182</td>\n",
       "    </tr>\n",
       "    <tr>\n",
       "      <th>1</th>\n",
       "      <td>4151</td>\n",
       "      <td>388</td>\n",
       "      <td>9.347145</td>\n",
       "    </tr>\n",
       "    <tr>\n",
       "      <th>2</th>\n",
       "      <td>959</td>\n",
       "      <td>63</td>\n",
       "      <td>6.569343</td>\n",
       "    </tr>\n",
       "    <tr>\n",
       "      <th>3</th>\n",
       "      <td>1195</td>\n",
       "      <td>85</td>\n",
       "      <td>7.112971</td>\n",
       "    </tr>\n",
       "    <tr>\n",
       "      <th>4</th>\n",
       "      <td>2810</td>\n",
       "      <td>274</td>\n",
       "      <td>9.750890</td>\n",
       "    </tr>\n",
       "  </tbody>\n",
       "</table>\n",
       "</div>"
      ],
      "text/plain": [
       "                   debt               \n",
       "                  count  sum    conv,%\n",
       "family_status_id                      \n",
       "0                 12339  931  7.545182\n",
       "1                  4151  388  9.347145\n",
       "2                   959   63  6.569343\n",
       "3                  1195   85  7.112971\n",
       "4                  2810  274  9.750890"
      ]
     },
     "metadata": {},
     "output_type": "display_data"
    }
   ],
   "source": [
    "data_family_id[('debt', 'conv,%')] = data_family_id[('debt', 'sum')] / data_family_id[('debt', 'count')]*100\n",
    "display(data_family_id) #посчитаем конверсию невозврата"
   ]
  },
  {
   "cell_type": "markdown",
   "id": "20d4c638",
   "metadata": {},
   "source": [
    "**У людей в гражданском браке и не женатых получился примерно одинаковый процент невозврата по кредиту. Меньше всего просрочек у вдовцов\\вдов.**"
   ]
  },
  {
   "cell_type": "markdown",
   "id": "b53c15a6",
   "metadata": {},
   "source": [
    "##### Вопрос 3:"
   ]
  },
  {
   "cell_type": "markdown",
   "id": "e8f87306",
   "metadata": {},
   "source": [
    "**Есть ли зависимость между уровнем дохода и возвратом кредита в срок?**"
   ]
  },
  {
   "cell_type": "markdown",
   "id": "05fd70a9",
   "metadata": {},
   "source": [
    "На основании диапазонов `total_income_category` с категориями, проделаем такие же манипуляции что и ранее\n",
    "* 0–30000 — 'E';\n",
    "* 30001–50000 — 'D';\n",
    "* 50001–200000 — 'C';\n",
    "* 200001–1000000 — 'B';\n",
    "* 1000001 и выше — 'A'."
   ]
  },
  {
   "cell_type": "code",
   "execution_count": 43,
   "id": "97345164",
   "metadata": {},
   "outputs": [
    {
     "data": {
      "text/html": [
       "<div>\n",
       "<style scoped>\n",
       "    .dataframe tbody tr th:only-of-type {\n",
       "        vertical-align: middle;\n",
       "    }\n",
       "\n",
       "    .dataframe tbody tr th {\n",
       "        vertical-align: top;\n",
       "    }\n",
       "\n",
       "    .dataframe thead tr th {\n",
       "        text-align: left;\n",
       "    }\n",
       "\n",
       "    .dataframe thead tr:last-of-type th {\n",
       "        text-align: right;\n",
       "    }\n",
       "</style>\n",
       "<table border=\"1\" class=\"dataframe\">\n",
       "  <thead>\n",
       "    <tr>\n",
       "      <th></th>\n",
       "      <th colspan=\"3\" halign=\"left\">debt</th>\n",
       "    </tr>\n",
       "    <tr>\n",
       "      <th></th>\n",
       "      <th>count</th>\n",
       "      <th>sum</th>\n",
       "      <th>conv,%</th>\n",
       "    </tr>\n",
       "    <tr>\n",
       "      <th>total_income_category</th>\n",
       "      <th></th>\n",
       "      <th></th>\n",
       "      <th></th>\n",
       "    </tr>\n",
       "  </thead>\n",
       "  <tbody>\n",
       "    <tr>\n",
       "      <th>A</th>\n",
       "      <td>25</td>\n",
       "      <td>2</td>\n",
       "      <td>8.000000</td>\n",
       "    </tr>\n",
       "    <tr>\n",
       "      <th>B</th>\n",
       "      <td>5042</td>\n",
       "      <td>356</td>\n",
       "      <td>7.060690</td>\n",
       "    </tr>\n",
       "    <tr>\n",
       "      <th>C</th>\n",
       "      <td>16015</td>\n",
       "      <td>1360</td>\n",
       "      <td>8.492039</td>\n",
       "    </tr>\n",
       "    <tr>\n",
       "      <th>D</th>\n",
       "      <td>350</td>\n",
       "      <td>21</td>\n",
       "      <td>6.000000</td>\n",
       "    </tr>\n",
       "    <tr>\n",
       "      <th>E</th>\n",
       "      <td>22</td>\n",
       "      <td>2</td>\n",
       "      <td>9.090909</td>\n",
       "    </tr>\n",
       "  </tbody>\n",
       "</table>\n",
       "</div>"
      ],
      "text/plain": [
       "                        debt                \n",
       "                       count   sum    conv,%\n",
       "total_income_category                       \n",
       "A                         25     2  8.000000\n",
       "B                       5042   356  7.060690\n",
       "C                      16015  1360  8.492039\n",
       "D                        350    21  6.000000\n",
       "E                         22     2  9.090909"
      ]
     },
     "metadata": {},
     "output_type": "display_data"
    }
   ],
   "source": [
    "data_total_income_category = data.groupby(['total_income_category']).agg({'debt':['count', 'sum']})\n",
    "data_total_income_category[('debt', 'conv,%')] = data_total_income_category[('debt', 'sum')] / data_total_income_category[('debt', 'count')]*100\n",
    "display(data_total_income_category)"
   ]
  },
  {
   "cell_type": "markdown",
   "id": "415ea418",
   "metadata": {},
   "source": [
    "**Невозврат по кредиту самый высокий у людей с доходом менее 30тыс. У людей с высоким доходом меньше просрочек. С доходом от 30 до 200 тыс. много кредитных обязательств.**\n"
   ]
  },
  {
   "cell_type": "markdown",
   "id": "accdeff4",
   "metadata": {},
   "source": [
    "##### Вопрос 4:"
   ]
  },
  {
   "cell_type": "markdown",
   "id": "56d2f4bf",
   "metadata": {},
   "source": [
    "**Как разные цели кредита влияют на его возврат в срок?**"
   ]
  },
  {
   "cell_type": "code",
   "execution_count": 44,
   "id": "5ac7beb2",
   "metadata": {},
   "outputs": [
    {
     "data": {
      "text/html": [
       "<div>\n",
       "<style scoped>\n",
       "    .dataframe tbody tr th:only-of-type {\n",
       "        vertical-align: middle;\n",
       "    }\n",
       "\n",
       "    .dataframe tbody tr th {\n",
       "        vertical-align: top;\n",
       "    }\n",
       "\n",
       "    .dataframe thead tr th {\n",
       "        text-align: left;\n",
       "    }\n",
       "\n",
       "    .dataframe thead tr:last-of-type th {\n",
       "        text-align: right;\n",
       "    }\n",
       "</style>\n",
       "<table border=\"1\" class=\"dataframe\">\n",
       "  <thead>\n",
       "    <tr>\n",
       "      <th></th>\n",
       "      <th colspan=\"3\" halign=\"left\">debt</th>\n",
       "    </tr>\n",
       "    <tr>\n",
       "      <th></th>\n",
       "      <th>count</th>\n",
       "      <th>sum</th>\n",
       "      <th>conv,%</th>\n",
       "    </tr>\n",
       "    <tr>\n",
       "      <th>purpose_category</th>\n",
       "      <th></th>\n",
       "      <th></th>\n",
       "      <th></th>\n",
       "    </tr>\n",
       "  </thead>\n",
       "  <tbody>\n",
       "    <tr>\n",
       "      <th>операции с автомобилем</th>\n",
       "      <td>4306</td>\n",
       "      <td>403</td>\n",
       "      <td>9.359034</td>\n",
       "    </tr>\n",
       "    <tr>\n",
       "      <th>операции с недвижимостью</th>\n",
       "      <td>10811</td>\n",
       "      <td>782</td>\n",
       "      <td>7.233373</td>\n",
       "    </tr>\n",
       "    <tr>\n",
       "      <th>получение образования</th>\n",
       "      <td>4013</td>\n",
       "      <td>370</td>\n",
       "      <td>9.220035</td>\n",
       "    </tr>\n",
       "    <tr>\n",
       "      <th>проведение свадьбы</th>\n",
       "      <td>2324</td>\n",
       "      <td>186</td>\n",
       "      <td>8.003442</td>\n",
       "    </tr>\n",
       "  </tbody>\n",
       "</table>\n",
       "</div>"
      ],
      "text/plain": [
       "                           debt               \n",
       "                          count  sum    conv,%\n",
       "purpose_category                              \n",
       "операции с автомобилем     4306  403  9.359034\n",
       "операции с недвижимостью  10811  782  7.233373\n",
       "получение образования      4013  370  9.220035\n",
       "проведение свадьбы         2324  186  8.003442"
      ]
     },
     "metadata": {},
     "output_type": "display_data"
    }
   ],
   "source": [
    "data_purpose_category = data.groupby(['purpose_category']).agg({'debt':['count', 'sum']})\n",
    "data_purpose_category[('debt', 'conv,%')] = data_purpose_category[('debt', 'sum')] / data_purpose_category[('debt', 'count')]*100\n",
    "display(data_purpose_category)"
   ]
  },
  {
   "cell_type": "markdown",
   "id": "4c372454",
   "metadata": {},
   "source": [
    "**Больше всего просроченых кредитов в категории \"операции с недвижимостью\", но зато доля просрочек по категории 7,2% - самая низкая.\n",
    "Категории \"операции с автомобилем\" и \"получение образования\" находятся посередине по количеству просрочек, а доля невыплат здесь значительно выше - около 9,3%.\n",
    "И меньше всего просрочек соответственно в более мелкой категории \"проведение свадьбы\" - 8,0%.**"
   ]
  },
  {
   "cell_type": "markdown",
   "id": "49a4d7fc",
   "metadata": {},
   "source": [
    "## Общий вывод:"
   ]
  },
  {
   "cell_type": "markdown",
   "id": "7e70a0e7",
   "metadata": {},
   "source": [
    "В ходе анализа было удалено около 1% некорректных данных. В двух столбцах поменяли типы - для лучшей наглядности и более быстрой обработки, удалили дубликаты, сделали категоризацию, ипользовали функцию и ответили на все 4 поставленных вопроса. \n",
    "\n",
    "**Очень ярких закономерностей в просрочках по кредитам нет, но незначительные закономерности прослеживаются.**\n",
    "\n",
    "Если описывать аватар клиента, который с наибольшей вероятностью допустит невыполнение кредитных обязательств, то он может выглядить так:\n",
    "* Человек состоит в гражданском или зарегистрированном браке\n",
    "* Его доход около 30тыс. рублей\n",
    "* Скорее всего в семье двое и больше детей\n",
    "* Кредит взят для улучшения жилищных условий или на покупку автомобиля (что необходимо при наличии большого семейства)"
   ]
  }
 ],
 "metadata": {
  "ExecuteTimeLog": [
   {
    "duration": 334,
    "start_time": "2022-03-04T06:51:21.441Z"
   },
   {
    "duration": 278,
    "start_time": "2022-03-04T06:51:35.604Z"
   },
   {
    "duration": 709,
    "start_time": "2022-03-04T06:51:45.054Z"
   },
   {
    "duration": 62,
    "start_time": "2022-03-04T06:51:47.777Z"
   },
   {
    "duration": 54,
    "start_time": "2022-03-04T06:51:51.887Z"
   },
   {
    "duration": 32,
    "start_time": "2022-03-04T06:56:16.046Z"
   },
   {
    "duration": 18,
    "start_time": "2022-03-04T06:57:48.541Z"
   },
   {
    "duration": 15,
    "start_time": "2022-03-04T06:58:40.275Z"
   },
   {
    "duration": 24,
    "start_time": "2022-03-04T07:14:56.020Z"
   },
   {
    "duration": 23,
    "start_time": "2022-03-04T07:16:20.925Z"
   },
   {
    "duration": 11,
    "start_time": "2022-03-04T07:49:16.587Z"
   },
   {
    "duration": 24,
    "start_time": "2022-03-04T07:50:50.706Z"
   },
   {
    "duration": 20,
    "start_time": "2022-03-04T07:51:09.305Z"
   },
   {
    "duration": 36,
    "start_time": "2022-03-04T07:52:28.077Z"
   },
   {
    "duration": 33,
    "start_time": "2022-03-04T07:57:55.703Z"
   },
   {
    "duration": 36,
    "start_time": "2022-03-04T07:58:09.630Z"
   },
   {
    "duration": 23,
    "start_time": "2022-03-04T07:58:34.286Z"
   },
   {
    "duration": 22,
    "start_time": "2022-03-04T08:03:41.086Z"
   },
   {
    "duration": 8,
    "start_time": "2022-03-04T08:11:57.877Z"
   },
   {
    "duration": 8,
    "start_time": "2022-03-04T08:14:18.206Z"
   },
   {
    "duration": 290,
    "start_time": "2022-03-04T08:21:33.875Z"
   },
   {
    "duration": 5,
    "start_time": "2022-03-04T08:25:50.633Z"
   },
   {
    "duration": 9,
    "start_time": "2022-03-04T08:34:02.162Z"
   },
   {
    "duration": 13,
    "start_time": "2022-03-04T08:34:45.149Z"
   },
   {
    "duration": 9,
    "start_time": "2022-03-04T08:35:09.320Z"
   },
   {
    "duration": 8,
    "start_time": "2022-03-04T08:37:07.209Z"
   },
   {
    "duration": 70,
    "start_time": "2022-03-04T09:10:44.724Z"
   },
   {
    "duration": 16,
    "start_time": "2022-03-04T09:11:14.856Z"
   },
   {
    "duration": 23,
    "start_time": "2022-03-04T09:13:11.175Z"
   },
   {
    "duration": 293,
    "start_time": "2022-03-04T09:18:01.360Z"
   },
   {
    "duration": 98,
    "start_time": "2022-03-04T09:18:25.284Z"
   },
   {
    "duration": 52,
    "start_time": "2022-03-04T09:18:38.854Z"
   },
   {
    "duration": 48,
    "start_time": "2022-03-04T09:20:26.006Z"
   },
   {
    "duration": 13,
    "start_time": "2022-03-04T09:29:37.035Z"
   },
   {
    "duration": 40,
    "start_time": "2022-03-04T09:30:17.943Z"
   },
   {
    "duration": 23,
    "start_time": "2022-03-04T09:31:20.351Z"
   },
   {
    "duration": 18,
    "start_time": "2022-03-04T09:33:28.963Z"
   },
   {
    "duration": 195,
    "start_time": "2022-03-04T09:37:19.167Z"
   },
   {
    "duration": 19,
    "start_time": "2022-03-04T09:37:22.090Z"
   },
   {
    "duration": 23,
    "start_time": "2022-03-04T09:37:33.659Z"
   },
   {
    "duration": 128,
    "start_time": "2022-03-04T09:38:11.180Z"
   },
   {
    "duration": 14,
    "start_time": "2022-03-04T09:38:12.779Z"
   },
   {
    "duration": 22,
    "start_time": "2022-03-04T09:38:17.546Z"
   },
   {
    "duration": 69,
    "start_time": "2022-03-04T09:40:57.630Z"
   },
   {
    "duration": 14,
    "start_time": "2022-03-04T09:40:59.071Z"
   },
   {
    "duration": 23,
    "start_time": "2022-03-04T09:41:02.237Z"
   },
   {
    "duration": 106,
    "start_time": "2022-03-04T09:50:24.555Z"
   },
   {
    "duration": 24,
    "start_time": "2022-03-04T09:51:36.364Z"
   },
   {
    "duration": 129,
    "start_time": "2022-03-04T09:57:44.408Z"
   },
   {
    "duration": 8,
    "start_time": "2022-03-04T09:57:50.867Z"
   },
   {
    "duration": 7,
    "start_time": "2022-03-04T09:57:51.592Z"
   },
   {
    "duration": 8,
    "start_time": "2022-03-04T09:57:52.310Z"
   },
   {
    "duration": 131,
    "start_time": "2022-03-04T09:57:54.219Z"
   },
   {
    "duration": 14,
    "start_time": "2022-03-04T09:58:15.222Z"
   },
   {
    "duration": 23,
    "start_time": "2022-03-04T09:58:17.518Z"
   },
   {
    "duration": 14,
    "start_time": "2022-03-04T09:58:57.771Z"
   },
   {
    "duration": 19,
    "start_time": "2022-03-04T09:59:13.809Z"
   },
   {
    "duration": 31,
    "start_time": "2022-03-04T10:03:10.263Z"
   },
   {
    "duration": 12,
    "start_time": "2022-03-04T10:05:04.820Z"
   },
   {
    "duration": 13,
    "start_time": "2022-03-04T10:05:15.985Z"
   },
   {
    "duration": 7,
    "start_time": "2022-03-04T10:05:17.856Z"
   },
   {
    "duration": 7,
    "start_time": "2022-03-04T10:05:18.522Z"
   },
   {
    "duration": 8,
    "start_time": "2022-03-04T10:05:19.336Z"
   },
   {
    "duration": 4,
    "start_time": "2022-03-04T10:05:31.199Z"
   },
   {
    "duration": 71,
    "start_time": "2022-03-04T10:05:38.931Z"
   },
   {
    "duration": 22,
    "start_time": "2022-03-04T10:05:42.709Z"
   },
   {
    "duration": 15,
    "start_time": "2022-03-04T10:05:49.125Z"
   },
   {
    "duration": 21,
    "start_time": "2022-03-04T10:05:52.971Z"
   },
   {
    "duration": 8,
    "start_time": "2022-03-04T10:05:58.138Z"
   },
   {
    "duration": 7,
    "start_time": "2022-03-04T10:05:59.877Z"
   },
   {
    "duration": 8,
    "start_time": "2022-03-04T10:06:01.296Z"
   },
   {
    "duration": 125,
    "start_time": "2022-03-04T10:06:04.672Z"
   },
   {
    "duration": 20,
    "start_time": "2022-03-04T10:06:08.528Z"
   },
   {
    "duration": 33,
    "start_time": "2022-03-04T10:06:23.336Z"
   },
   {
    "duration": 118,
    "start_time": "2022-03-04T10:06:44.682Z"
   },
   {
    "duration": 17,
    "start_time": "2022-03-04T10:06:49.799Z"
   },
   {
    "duration": 4,
    "start_time": "2022-03-04T10:07:27.292Z"
   },
   {
    "duration": 53,
    "start_time": "2022-03-04T10:07:29.781Z"
   },
   {
    "duration": 23,
    "start_time": "2022-03-04T10:07:31.924Z"
   },
   {
    "duration": 14,
    "start_time": "2022-03-04T10:07:36.339Z"
   },
   {
    "duration": 23,
    "start_time": "2022-03-04T10:08:15.924Z"
   },
   {
    "duration": 8,
    "start_time": "2022-03-04T10:08:34.631Z"
   },
   {
    "duration": 9,
    "start_time": "2022-03-04T10:08:35.593Z"
   },
   {
    "duration": 9,
    "start_time": "2022-03-04T10:08:36.657Z"
   },
   {
    "duration": 126,
    "start_time": "2022-03-04T10:09:51.525Z"
   },
   {
    "duration": 64,
    "start_time": "2022-03-04T10:10:03.504Z"
   },
   {
    "duration": 15,
    "start_time": "2022-03-04T10:10:06.418Z"
   },
   {
    "duration": 33,
    "start_time": "2022-03-04T10:10:12.352Z"
   },
   {
    "duration": 65,
    "start_time": "2022-03-04T10:10:57.147Z"
   },
   {
    "duration": 14,
    "start_time": "2022-03-04T10:10:58.910Z"
   },
   {
    "duration": 38,
    "start_time": "2022-03-04T10:11:23.782Z"
   },
   {
    "duration": 14,
    "start_time": "2022-03-04T10:15:55.847Z"
   },
   {
    "duration": 8,
    "start_time": "2022-03-04T10:16:01.657Z"
   },
   {
    "duration": 3,
    "start_time": "2022-03-04T10:16:11.762Z"
   },
   {
    "duration": 53,
    "start_time": "2022-03-04T10:16:16.088Z"
   },
   {
    "duration": 24,
    "start_time": "2022-03-04T10:16:18.789Z"
   },
   {
    "duration": 16,
    "start_time": "2022-03-04T10:16:25.274Z"
   },
   {
    "duration": 23,
    "start_time": "2022-03-04T10:16:28.689Z"
   },
   {
    "duration": 8,
    "start_time": "2022-03-04T10:16:32.073Z"
   },
   {
    "duration": 8,
    "start_time": "2022-03-04T10:16:34.278Z"
   },
   {
    "duration": 10,
    "start_time": "2022-03-04T10:16:36.300Z"
   },
   {
    "duration": 13,
    "start_time": "2022-03-04T10:16:38.647Z"
   },
   {
    "duration": 70,
    "start_time": "2022-03-04T10:16:46.951Z"
   },
   {
    "duration": 16,
    "start_time": "2022-03-04T10:16:49.274Z"
   },
   {
    "duration": 71,
    "start_time": "2022-03-04T10:17:56.396Z"
   },
   {
    "duration": 14,
    "start_time": "2022-03-04T10:18:01.900Z"
   },
   {
    "duration": 3,
    "start_time": "2022-03-04T10:32:02.021Z"
   },
   {
    "duration": 55,
    "start_time": "2022-03-04T10:32:04.012Z"
   },
   {
    "duration": 24,
    "start_time": "2022-03-04T10:32:06.166Z"
   },
   {
    "duration": 16,
    "start_time": "2022-03-04T10:32:09.990Z"
   },
   {
    "duration": 22,
    "start_time": "2022-03-04T10:32:14.033Z"
   },
   {
    "duration": 9,
    "start_time": "2022-03-04T10:32:18.186Z"
   },
   {
    "duration": 8,
    "start_time": "2022-03-04T10:32:18.964Z"
   },
   {
    "duration": 7,
    "start_time": "2022-03-04T10:32:19.777Z"
   },
   {
    "duration": 128,
    "start_time": "2022-03-04T10:32:55.967Z"
   },
   {
    "duration": 13,
    "start_time": "2022-03-04T10:32:59.489Z"
   },
   {
    "duration": 25,
    "start_time": "2022-03-04T10:41:35.653Z"
   },
   {
    "duration": 9,
    "start_time": "2022-03-04T10:41:43.989Z"
   },
   {
    "duration": 8,
    "start_time": "2022-03-04T10:41:44.833Z"
   },
   {
    "duration": 8,
    "start_time": "2022-03-04T10:41:45.836Z"
   },
   {
    "duration": 66,
    "start_time": "2022-03-04T10:44:05.574Z"
   },
   {
    "duration": 13,
    "start_time": "2022-03-04T10:44:07.473Z"
   },
   {
    "duration": 14,
    "start_time": "2022-03-04T10:46:01.869Z"
   },
   {
    "duration": 50,
    "start_time": "2022-03-04T10:46:13.052Z"
   },
   {
    "duration": 111,
    "start_time": "2022-03-04T11:18:21.708Z"
   },
   {
    "duration": 17,
    "start_time": "2022-03-04T11:19:20.964Z"
   },
   {
    "duration": 3564,
    "start_time": "2022-03-04T11:19:26.727Z"
   },
   {
    "duration": 4039,
    "start_time": "2022-03-04T11:19:32.426Z"
   },
   {
    "duration": -804,
    "start_time": "2022-03-04T11:19:37.271Z"
   },
   {
    "duration": -803,
    "start_time": "2022-03-04T11:19:37.272Z"
   },
   {
    "duration": 3,
    "start_time": "2022-03-04T11:19:42.289Z"
   },
   {
    "duration": 56,
    "start_time": "2022-03-04T11:19:44.384Z"
   },
   {
    "duration": 27,
    "start_time": "2022-03-04T11:19:46.433Z"
   },
   {
    "duration": 16,
    "start_time": "2022-03-04T11:19:50.392Z"
   },
   {
    "duration": 25,
    "start_time": "2022-03-04T11:19:54.268Z"
   },
   {
    "duration": 9,
    "start_time": "2022-03-04T11:19:58.036Z"
   },
   {
    "duration": 9,
    "start_time": "2022-03-04T11:19:59.994Z"
   },
   {
    "duration": 9,
    "start_time": "2022-03-04T11:20:01.119Z"
   },
   {
    "duration": 23,
    "start_time": "2022-03-04T11:20:03.744Z"
   },
   {
    "duration": -804,
    "start_time": "2022-03-04T11:20:49.985Z"
   },
   {
    "duration": 3619,
    "start_time": "2022-03-04T11:20:51.491Z"
   },
   {
    "duration": -803,
    "start_time": "2022-03-04T11:20:55.916Z"
   },
   {
    "duration": 3,
    "start_time": "2022-03-04T11:20:59.902Z"
   },
   {
    "duration": 59,
    "start_time": "2022-03-04T11:21:02.333Z"
   },
   {
    "duration": 23,
    "start_time": "2022-03-04T11:21:04.675Z"
   },
   {
    "duration": 23,
    "start_time": "2022-03-04T11:21:09.248Z"
   },
   {
    "duration": 25,
    "start_time": "2022-03-04T11:21:13.593Z"
   },
   {
    "duration": 8,
    "start_time": "2022-03-04T11:21:16.309Z"
   },
   {
    "duration": 7,
    "start_time": "2022-03-04T11:21:17.301Z"
   },
   {
    "duration": 8,
    "start_time": "2022-03-04T11:21:18.273Z"
   },
   {
    "duration": 19,
    "start_time": "2022-03-04T11:21:22.067Z"
   },
   {
    "duration": 350,
    "start_time": "2022-03-04T11:21:44.885Z"
   },
   {
    "duration": 8,
    "start_time": "2022-03-04T11:21:55.739Z"
   },
   {
    "duration": 6463,
    "start_time": "2022-03-04T11:22:09.460Z"
   },
   {
    "duration": -804,
    "start_time": "2022-03-04T11:22:16.731Z"
   },
   {
    "duration": 278,
    "start_time": "2022-03-04T11:23:40.610Z"
   },
   {
    "duration": 4,
    "start_time": "2022-03-04T11:23:51.975Z"
   },
   {
    "duration": 56,
    "start_time": "2022-03-04T11:23:54.024Z"
   },
   {
    "duration": 23,
    "start_time": "2022-03-04T11:23:56.289Z"
   },
   {
    "duration": 15,
    "start_time": "2022-03-04T11:23:58.496Z"
   },
   {
    "duration": 25,
    "start_time": "2022-03-04T11:24:00.548Z"
   },
   {
    "duration": 8,
    "start_time": "2022-03-04T11:24:03.761Z"
   },
   {
    "duration": 8,
    "start_time": "2022-03-04T11:24:05.957Z"
   },
   {
    "duration": 8,
    "start_time": "2022-03-04T11:24:08.134Z"
   },
   {
    "duration": 71,
    "start_time": "2022-03-04T11:24:10.272Z"
   },
   {
    "duration": 72,
    "start_time": "2022-03-04T11:24:16.077Z"
   },
   {
    "duration": 16,
    "start_time": "2022-03-04T11:24:17.290Z"
   },
   {
    "duration": 34,
    "start_time": "2022-03-04T11:24:26.221Z"
   },
   {
    "duration": 312,
    "start_time": "2022-03-04T11:29:10.965Z"
   },
   {
    "duration": 72,
    "start_time": "2022-03-04T11:29:35.830Z"
   },
   {
    "duration": 13,
    "start_time": "2022-03-04T11:29:38.482Z"
   },
   {
    "duration": 9,
    "start_time": "2022-03-04T11:39:59.810Z"
   },
   {
    "duration": 11,
    "start_time": "2022-03-04T11:41:03.985Z"
   },
   {
    "duration": 7,
    "start_time": "2022-03-04T11:48:30.085Z"
   },
   {
    "duration": 21,
    "start_time": "2022-03-04T11:58:55.840Z"
   },
   {
    "duration": 11,
    "start_time": "2022-03-04T12:01:53.308Z"
   },
   {
    "duration": 10,
    "start_time": "2022-03-04T12:02:52.491Z"
   },
   {
    "duration": 14,
    "start_time": "2022-03-04T12:16:08.053Z"
   },
   {
    "duration": 10,
    "start_time": "2022-03-04T12:16:11.968Z"
   },
   {
    "duration": 14,
    "start_time": "2022-03-04T12:16:13.781Z"
   },
   {
    "duration": 128,
    "start_time": "2022-03-04T12:19:00.725Z"
   },
   {
    "duration": 8,
    "start_time": "2022-03-04T12:19:38.324Z"
   },
   {
    "duration": 11,
    "start_time": "2022-03-04T12:19:56.421Z"
   },
   {
    "duration": 28,
    "start_time": "2022-03-04T12:26:58.216Z"
   },
   {
    "duration": 8,
    "start_time": "2022-03-04T12:33:26.595Z"
   },
   {
    "duration": 6,
    "start_time": "2022-03-04T12:33:32.008Z"
   },
   {
    "duration": 28,
    "start_time": "2022-03-04T12:34:24.502Z"
   },
   {
    "duration": 6,
    "start_time": "2022-03-04T12:38:21.894Z"
   },
   {
    "duration": 6,
    "start_time": "2022-03-04T12:38:59.590Z"
   },
   {
    "duration": 3,
    "start_time": "2022-03-04T12:39:04.173Z"
   },
   {
    "duration": 58,
    "start_time": "2022-03-04T12:39:06.307Z"
   },
   {
    "duration": 22,
    "start_time": "2022-03-04T12:39:08.586Z"
   },
   {
    "duration": 14,
    "start_time": "2022-03-04T12:39:11.857Z"
   },
   {
    "duration": 23,
    "start_time": "2022-03-04T12:39:15.932Z"
   },
   {
    "duration": 8,
    "start_time": "2022-03-04T12:39:19.493Z"
   },
   {
    "duration": 8,
    "start_time": "2022-03-04T12:39:20.181Z"
   },
   {
    "duration": 9,
    "start_time": "2022-03-04T12:39:20.773Z"
   },
   {
    "duration": 6,
    "start_time": "2022-03-04T12:39:23.075Z"
   },
   {
    "duration": 14,
    "start_time": "2022-03-04T12:39:27.038Z"
   },
   {
    "duration": 49,
    "start_time": "2022-03-04T12:42:01.692Z"
   },
   {
    "duration": 48,
    "start_time": "2022-03-04T12:42:43.318Z"
   },
   {
    "duration": 38,
    "start_time": "2022-03-04T12:43:00.279Z"
   },
   {
    "duration": 38,
    "start_time": "2022-03-04T12:43:16.073Z"
   },
   {
    "duration": 73,
    "start_time": "2022-03-04T12:53:39.887Z"
   },
   {
    "duration": 38,
    "start_time": "2022-03-04T12:57:27.337Z"
   },
   {
    "duration": 3,
    "start_time": "2022-03-04T12:59:55.238Z"
   },
   {
    "duration": 62,
    "start_time": "2022-03-04T12:59:58.231Z"
   },
   {
    "duration": 25,
    "start_time": "2022-03-04T13:00:00.429Z"
   },
   {
    "duration": 16,
    "start_time": "2022-03-04T13:00:04.479Z"
   },
   {
    "duration": 24,
    "start_time": "2022-03-04T13:00:20.416Z"
   },
   {
    "duration": 9,
    "start_time": "2022-03-04T13:00:29.103Z"
   },
   {
    "duration": 13,
    "start_time": "2022-03-04T13:00:30.661Z"
   },
   {
    "duration": 8,
    "start_time": "2022-03-04T13:00:31.696Z"
   },
   {
    "duration": 116,
    "start_time": "2022-03-04T13:03:09.300Z"
   },
   {
    "duration": 14,
    "start_time": "2022-03-04T13:03:12.007Z"
   },
   {
    "duration": 35,
    "start_time": "2022-03-04T13:03:14.887Z"
   },
   {
    "duration": 345,
    "start_time": "2022-03-05T06:55:19.589Z"
   },
   {
    "duration": 739,
    "start_time": "2022-03-05T06:55:28.595Z"
   },
   {
    "duration": 65,
    "start_time": "2022-03-05T06:55:30.376Z"
   },
   {
    "duration": 33,
    "start_time": "2022-03-05T06:55:31.690Z"
   },
   {
    "duration": 15,
    "start_time": "2022-03-05T06:55:33.539Z"
   },
   {
    "duration": 25,
    "start_time": "2022-03-05T06:55:35.629Z"
   },
   {
    "duration": 7,
    "start_time": "2022-03-05T06:55:36.851Z"
   },
   {
    "duration": 8,
    "start_time": "2022-03-05T06:55:37.696Z"
   },
   {
    "duration": 7,
    "start_time": "2022-03-05T06:55:38.349Z"
   },
   {
    "duration": 47,
    "start_time": "2022-03-05T06:55:39.864Z"
   },
   {
    "duration": 102,
    "start_time": "2022-03-05T07:19:46.970Z"
   },
   {
    "duration": 14,
    "start_time": "2022-03-05T07:19:47.974Z"
   },
   {
    "duration": 73,
    "start_time": "2022-03-05T07:19:55.631Z"
   },
   {
    "duration": 14,
    "start_time": "2022-03-05T07:19:56.235Z"
   },
   {
    "duration": 99,
    "start_time": "2022-03-05T08:11:14.369Z"
   },
   {
    "duration": 9,
    "start_time": "2022-03-05T08:13:47.860Z"
   },
   {
    "duration": 14,
    "start_time": "2022-03-05T08:14:23.596Z"
   },
   {
    "duration": 31,
    "start_time": "2022-03-05T08:14:32.079Z"
   },
   {
    "duration": 22,
    "start_time": "2022-03-05T08:14:43.658Z"
   },
   {
    "duration": 4,
    "start_time": "2022-03-05T08:16:13.778Z"
   },
   {
    "duration": 4,
    "start_time": "2022-03-05T08:16:17.186Z"
   },
   {
    "duration": 24,
    "start_time": "2022-03-05T08:16:21.298Z"
   },
   {
    "duration": 68,
    "start_time": "2022-03-05T08:21:46.601Z"
   },
   {
    "duration": 14,
    "start_time": "2022-03-05T08:21:56.523Z"
   },
   {
    "duration": 42,
    "start_time": "2022-03-05T08:22:06.520Z"
   },
   {
    "duration": 5,
    "start_time": "2022-03-05T08:22:29.479Z"
   },
   {
    "duration": 3,
    "start_time": "2022-03-05T08:22:33.290Z"
   },
   {
    "duration": 59,
    "start_time": "2022-03-05T08:22:34.422Z"
   },
   {
    "duration": 23,
    "start_time": "2022-03-05T08:22:36.018Z"
   },
   {
    "duration": 15,
    "start_time": "2022-03-05T08:22:38.025Z"
   },
   {
    "duration": 25,
    "start_time": "2022-03-05T08:22:40.425Z"
   },
   {
    "duration": 7,
    "start_time": "2022-03-05T08:22:41.729Z"
   },
   {
    "duration": 7,
    "start_time": "2022-03-05T08:22:42.867Z"
   },
   {
    "duration": 7,
    "start_time": "2022-03-05T08:22:43.493Z"
   },
   {
    "duration": 5,
    "start_time": "2022-03-05T08:22:45.095Z"
   },
   {
    "duration": 70,
    "start_time": "2022-03-05T08:22:46.147Z"
   },
   {
    "duration": 13,
    "start_time": "2022-03-05T08:22:51.387Z"
   },
   {
    "duration": 36,
    "start_time": "2022-03-05T08:22:52.270Z"
   },
   {
    "duration": 70,
    "start_time": "2022-03-05T08:42:37.682Z"
   },
   {
    "duration": 16,
    "start_time": "2022-03-05T08:42:38.283Z"
   },
   {
    "duration": 40,
    "start_time": "2022-03-05T08:42:39.657Z"
   },
   {
    "duration": 3,
    "start_time": "2022-03-05T08:43:34.968Z"
   },
   {
    "duration": 68,
    "start_time": "2022-03-05T08:43:36.077Z"
   },
   {
    "duration": 23,
    "start_time": "2022-03-05T08:43:37.325Z"
   },
   {
    "duration": 14,
    "start_time": "2022-03-05T08:43:40.903Z"
   },
   {
    "duration": 25,
    "start_time": "2022-03-05T08:43:45.772Z"
   },
   {
    "duration": 7,
    "start_time": "2022-03-05T08:43:49.759Z"
   },
   {
    "duration": 7,
    "start_time": "2022-03-05T08:43:50.944Z"
   },
   {
    "duration": 7,
    "start_time": "2022-03-05T08:43:50.977Z"
   },
   {
    "duration": 68,
    "start_time": "2022-03-05T08:43:52.747Z"
   },
   {
    "duration": 14,
    "start_time": "2022-03-05T08:43:53.463Z"
   },
   {
    "duration": 37,
    "start_time": "2022-03-05T08:43:55.853Z"
   },
   {
    "duration": 4,
    "start_time": "2022-03-05T08:44:04.132Z"
   },
   {
    "duration": 26,
    "start_time": "2022-03-05T08:44:14.882Z"
   },
   {
    "duration": 34,
    "start_time": "2022-03-05T08:44:30.812Z"
   },
   {
    "duration": 67,
    "start_time": "2022-03-05T08:45:58.739Z"
   },
   {
    "duration": 5,
    "start_time": "2022-03-05T09:06:36.787Z"
   },
   {
    "duration": 17,
    "start_time": "2022-03-05T09:06:53.250Z"
   },
   {
    "duration": 17,
    "start_time": "2022-03-05T09:07:31.188Z"
   },
   {
    "duration": 5,
    "start_time": "2022-03-05T09:21:32.723Z"
   },
   {
    "duration": 19,
    "start_time": "2022-03-05T09:21:33.626Z"
   },
   {
    "duration": 6,
    "start_time": "2022-03-05T09:32:56.262Z"
   },
   {
    "duration": 17,
    "start_time": "2022-03-05T09:33:04.154Z"
   },
   {
    "duration": 364,
    "start_time": "2022-03-05T09:48:38.860Z"
   },
   {
    "duration": 290,
    "start_time": "2022-03-05T09:51:05.444Z"
   },
   {
    "duration": 3,
    "start_time": "2022-03-05T09:51:12.767Z"
   },
   {
    "duration": 57,
    "start_time": "2022-03-05T09:51:13.975Z"
   },
   {
    "duration": 23,
    "start_time": "2022-03-05T09:51:15.739Z"
   },
   {
    "duration": 13,
    "start_time": "2022-03-05T09:51:17.159Z"
   },
   {
    "duration": 25,
    "start_time": "2022-03-05T09:51:19.054Z"
   },
   {
    "duration": 8,
    "start_time": "2022-03-05T09:51:19.644Z"
   },
   {
    "duration": 8,
    "start_time": "2022-03-05T09:51:20.281Z"
   },
   {
    "duration": 9,
    "start_time": "2022-03-05T09:51:21.012Z"
   },
   {
    "duration": 69,
    "start_time": "2022-03-05T09:51:22.228Z"
   },
   {
    "duration": 15,
    "start_time": "2022-03-05T09:51:22.977Z"
   },
   {
    "duration": 32,
    "start_time": "2022-03-05T09:51:24.097Z"
   },
   {
    "duration": 5,
    "start_time": "2022-03-05T09:51:31.137Z"
   },
   {
    "duration": 17,
    "start_time": "2022-03-05T09:51:31.913Z"
   },
   {
    "duration": 6,
    "start_time": "2022-03-05T09:51:35.673Z"
   },
   {
    "duration": 16,
    "start_time": "2022-03-05T09:51:36.680Z"
   },
   {
    "duration": 276,
    "start_time": "2022-03-05T09:51:38.991Z"
   },
   {
    "duration": 22,
    "start_time": "2022-03-05T09:51:56.567Z"
   },
   {
    "duration": 33,
    "start_time": "2022-03-05T09:53:18.535Z"
   },
   {
    "duration": 285,
    "start_time": "2022-03-05T09:55:25.101Z"
   },
   {
    "duration": 283,
    "start_time": "2022-03-05T09:55:59.417Z"
   },
   {
    "duration": 10,
    "start_time": "2022-03-05T09:58:43.206Z"
   },
   {
    "duration": 6,
    "start_time": "2022-03-05T10:12:34.864Z"
   },
   {
    "duration": 24,
    "start_time": "2022-03-05T10:12:46.007Z"
   },
   {
    "duration": 23,
    "start_time": "2022-03-05T10:13:07.922Z"
   },
   {
    "duration": 23,
    "start_time": "2022-03-05T10:14:25.192Z"
   },
   {
    "duration": 22,
    "start_time": "2022-03-05T10:14:33.984Z"
   },
   {
    "duration": 22,
    "start_time": "2022-03-05T10:14:55.214Z"
   },
   {
    "duration": 32,
    "start_time": "2022-03-05T10:17:21.076Z"
   },
   {
    "duration": 46,
    "start_time": "2022-03-05T10:17:36.454Z"
   },
   {
    "duration": 18,
    "start_time": "2022-03-05T10:24:19.304Z"
   },
   {
    "duration": 3,
    "start_time": "2022-03-05T10:34:10.693Z"
   },
   {
    "duration": 57,
    "start_time": "2022-03-05T10:34:12.847Z"
   },
   {
    "duration": 19,
    "start_time": "2022-03-05T10:34:14.706Z"
   },
   {
    "duration": 14,
    "start_time": "2022-03-05T10:34:18.145Z"
   },
   {
    "duration": 24,
    "start_time": "2022-03-05T10:34:23.153Z"
   },
   {
    "duration": 8,
    "start_time": "2022-03-05T10:34:26.566Z"
   },
   {
    "duration": 8,
    "start_time": "2022-03-05T10:34:27.198Z"
   },
   {
    "duration": 8,
    "start_time": "2022-03-05T10:34:27.929Z"
   },
   {
    "duration": 7,
    "start_time": "2022-03-05T10:35:01.669Z"
   },
   {
    "duration": 9,
    "start_time": "2022-03-05T10:35:22.104Z"
   },
   {
    "duration": 10,
    "start_time": "2022-03-05T10:35:49.974Z"
   },
   {
    "duration": 8,
    "start_time": "2022-03-05T10:40:38.021Z"
   },
   {
    "duration": 33,
    "start_time": "2022-03-05T10:40:52.435Z"
   },
   {
    "duration": 5,
    "start_time": "2022-03-05T10:43:10.581Z"
   },
   {
    "duration": 5,
    "start_time": "2022-03-05T10:43:13.015Z"
   },
   {
    "duration": 14,
    "start_time": "2022-03-05T10:43:47.976Z"
   },
   {
    "duration": 83,
    "start_time": "2022-03-05T10:44:08.271Z"
   },
   {
    "duration": 15,
    "start_time": "2022-03-05T10:44:18.507Z"
   },
   {
    "duration": 11,
    "start_time": "2022-03-05T10:47:05.673Z"
   },
   {
    "duration": 4,
    "start_time": "2022-03-05T10:47:43.262Z"
   },
   {
    "duration": 16,
    "start_time": "2022-03-05T10:47:54.690Z"
   },
   {
    "duration": 38,
    "start_time": "2022-03-05T10:48:45.738Z"
   },
   {
    "duration": 24,
    "start_time": "2022-03-05T10:49:02.220Z"
   },
   {
    "duration": 24,
    "start_time": "2022-03-05T10:49:08.911Z"
   },
   {
    "duration": 33,
    "start_time": "2022-03-05T10:49:13.603Z"
   },
   {
    "duration": 8,
    "start_time": "2022-03-05T10:49:16.147Z"
   },
   {
    "duration": 9,
    "start_time": "2022-03-05T10:49:16.801Z"
   },
   {
    "duration": 5,
    "start_time": "2022-03-05T10:49:26.339Z"
   },
   {
    "duration": 62,
    "start_time": "2022-03-05T10:49:28.258Z"
   },
   {
    "duration": 19,
    "start_time": "2022-03-05T10:49:30.234Z"
   },
   {
    "duration": 15,
    "start_time": "2022-03-05T10:49:33.572Z"
   },
   {
    "duration": 22,
    "start_time": "2022-03-05T10:49:37.086Z"
   },
   {
    "duration": 9,
    "start_time": "2022-03-05T10:49:41.087Z"
   },
   {
    "duration": 7,
    "start_time": "2022-03-05T10:49:41.801Z"
   },
   {
    "duration": 9,
    "start_time": "2022-03-05T10:49:42.606Z"
   },
   {
    "duration": 10,
    "start_time": "2022-03-05T10:49:45.129Z"
   },
   {
    "duration": 5,
    "start_time": "2022-03-05T10:49:47.366Z"
   },
   {
    "duration": 78,
    "start_time": "2022-03-05T10:49:48.526Z"
   },
   {
    "duration": 14,
    "start_time": "2022-03-05T10:49:49.672Z"
   },
   {
    "duration": 5,
    "start_time": "2022-03-05T10:49:53.258Z"
   },
   {
    "duration": 17,
    "start_time": "2022-03-05T10:49:53.935Z"
   },
   {
    "duration": 77,
    "start_time": "2022-03-05T10:51:20.527Z"
   },
   {
    "duration": 15,
    "start_time": "2022-03-05T10:51:40.088Z"
   },
   {
    "duration": 23,
    "start_time": "2022-03-05T10:51:58.182Z"
   },
   {
    "duration": 33,
    "start_time": "2022-03-05T10:53:17.768Z"
   },
   {
    "duration": 15,
    "start_time": "2022-03-05T10:59:23.153Z"
   },
   {
    "duration": 16,
    "start_time": "2022-03-05T11:00:04.254Z"
   },
   {
    "duration": 30,
    "start_time": "2022-03-05T11:01:35.551Z"
   },
   {
    "duration": 17,
    "start_time": "2022-03-05T11:01:58.160Z"
   },
   {
    "duration": 5,
    "start_time": "2022-03-05T11:06:29.501Z"
   },
   {
    "duration": 80,
    "start_time": "2022-03-05T11:06:30.920Z"
   },
   {
    "duration": 15,
    "start_time": "2022-03-05T11:06:33.239Z"
   },
   {
    "duration": 15,
    "start_time": "2022-03-05T11:06:38.311Z"
   },
   {
    "duration": 4,
    "start_time": "2022-03-05T11:06:53.555Z"
   },
   {
    "duration": 60,
    "start_time": "2022-03-05T11:06:56.036Z"
   },
   {
    "duration": 19,
    "start_time": "2022-03-05T11:06:57.774Z"
   },
   {
    "duration": 13,
    "start_time": "2022-03-05T11:07:00.165Z"
   },
   {
    "duration": 20,
    "start_time": "2022-03-05T11:07:03.185Z"
   },
   {
    "duration": 7,
    "start_time": "2022-03-05T11:07:06.207Z"
   },
   {
    "duration": 7,
    "start_time": "2022-03-05T11:07:06.872Z"
   },
   {
    "duration": 8,
    "start_time": "2022-03-05T11:07:07.413Z"
   },
   {
    "duration": 17,
    "start_time": "2022-03-05T11:07:09.981Z"
   },
   {
    "duration": 12,
    "start_time": "2022-03-05T11:07:51.127Z"
   },
   {
    "duration": 5,
    "start_time": "2022-03-05T11:07:54.563Z"
   },
   {
    "duration": 14,
    "start_time": "2022-03-05T11:07:56.089Z"
   },
   {
    "duration": 4,
    "start_time": "2022-03-05T11:07:59.637Z"
   },
   {
    "duration": 7,
    "start_time": "2022-03-05T11:08:00.356Z"
   },
   {
    "duration": 267,
    "start_time": "2022-03-05T11:09:11.269Z"
   },
   {
    "duration": 284,
    "start_time": "2022-03-05T11:10:34.450Z"
   },
   {
    "duration": 8,
    "start_time": "2022-03-05T11:13:07.858Z"
   },
   {
    "duration": 19,
    "start_time": "2022-03-05T11:13:16.499Z"
   },
   {
    "duration": 23,
    "start_time": "2022-03-05T11:15:26.012Z"
   },
   {
    "duration": 12,
    "start_time": "2022-03-05T11:15:40.175Z"
   },
   {
    "duration": 16,
    "start_time": "2022-03-05T11:15:40.998Z"
   },
   {
    "duration": 23,
    "start_time": "2022-03-05T11:15:43.032Z"
   },
   {
    "duration": 309,
    "start_time": "2022-03-05T11:16:18.010Z"
   },
   {
    "duration": 13,
    "start_time": "2022-03-05T11:17:01.243Z"
   },
   {
    "duration": 15,
    "start_time": "2022-03-05T11:17:03.510Z"
   },
   {
    "duration": 23,
    "start_time": "2022-03-05T11:17:05.098Z"
   },
   {
    "duration": 3,
    "start_time": "2022-03-05T11:17:31.083Z"
   },
   {
    "duration": 58,
    "start_time": "2022-03-05T11:17:33.037Z"
   },
   {
    "duration": 18,
    "start_time": "2022-03-05T11:17:34.838Z"
   },
   {
    "duration": 14,
    "start_time": "2022-03-05T11:17:37.418Z"
   },
   {
    "duration": 20,
    "start_time": "2022-03-05T11:17:42.394Z"
   },
   {
    "duration": 7,
    "start_time": "2022-03-05T11:17:44.741Z"
   },
   {
    "duration": 7,
    "start_time": "2022-03-05T11:17:45.243Z"
   },
   {
    "duration": 7,
    "start_time": "2022-03-05T11:17:45.689Z"
   },
   {
    "duration": 10,
    "start_time": "2022-03-05T11:17:47.227Z"
   },
   {
    "duration": 10,
    "start_time": "2022-03-05T11:17:50.859Z"
   },
   {
    "duration": 19,
    "start_time": "2022-03-05T11:17:50.872Z"
   },
   {
    "duration": 23,
    "start_time": "2022-03-05T11:17:53.925Z"
   },
   {
    "duration": 5133,
    "start_time": "2022-03-05T11:19:08.948Z"
   },
   {
    "duration": -301,
    "start_time": "2022-03-05T11:19:14.384Z"
   },
   {
    "duration": -303,
    "start_time": "2022-03-05T11:19:14.388Z"
   },
   {
    "duration": 9,
    "start_time": "2022-03-05T11:19:35.932Z"
   },
   {
    "duration": 14,
    "start_time": "2022-03-05T11:19:39.937Z"
   },
   {
    "duration": 23,
    "start_time": "2022-03-05T11:19:41.743Z"
   },
   {
    "duration": 137,
    "start_time": "2022-03-05T11:23:11.383Z"
   },
   {
    "duration": 9,
    "start_time": "2022-03-05T11:23:15.249Z"
   },
   {
    "duration": 14,
    "start_time": "2022-03-05T11:23:17.399Z"
   },
   {
    "duration": 24,
    "start_time": "2022-03-05T11:23:19.952Z"
   },
   {
    "duration": 11,
    "start_time": "2022-03-05T11:29:09.674Z"
   },
   {
    "duration": 16,
    "start_time": "2022-03-05T11:29:10.828Z"
   },
   {
    "duration": 22,
    "start_time": "2022-03-05T11:29:12.544Z"
   },
   {
    "duration": 21,
    "start_time": "2022-03-05T11:29:37.553Z"
   },
   {
    "duration": 18,
    "start_time": "2022-03-05T11:29:38.621Z"
   },
   {
    "duration": 24,
    "start_time": "2022-03-05T11:29:39.943Z"
   },
   {
    "duration": 258,
    "start_time": "2022-03-05T11:30:23.195Z"
   },
   {
    "duration": 263,
    "start_time": "2022-03-05T11:30:45.951Z"
   },
   {
    "duration": 4,
    "start_time": "2022-03-05T11:30:50.000Z"
   },
   {
    "duration": 58,
    "start_time": "2022-03-05T11:30:53.523Z"
   },
   {
    "duration": 19,
    "start_time": "2022-03-05T11:30:54.426Z"
   },
   {
    "duration": 14,
    "start_time": "2022-03-05T11:30:55.237Z"
   },
   {
    "duration": 21,
    "start_time": "2022-03-05T11:30:56.616Z"
   },
   {
    "duration": 7,
    "start_time": "2022-03-05T11:30:57.525Z"
   },
   {
    "duration": 8,
    "start_time": "2022-03-05T11:30:58.133Z"
   },
   {
    "duration": 8,
    "start_time": "2022-03-05T11:30:58.872Z"
   },
   {
    "duration": 10,
    "start_time": "2022-03-05T11:31:00.459Z"
   },
   {
    "duration": 24,
    "start_time": "2022-03-05T11:31:05.866Z"
   },
   {
    "duration": 18,
    "start_time": "2022-03-05T11:31:07.890Z"
   },
   {
    "duration": 22,
    "start_time": "2022-03-05T11:31:09.048Z"
   },
   {
    "duration": 3508,
    "start_time": "2022-03-05T11:38:14.276Z"
   },
   {
    "duration": 4,
    "start_time": "2022-03-05T11:40:12.136Z"
   },
   {
    "duration": 15,
    "start_time": "2022-03-05T11:40:15.257Z"
   },
   {
    "duration": 23,
    "start_time": "2022-03-05T11:40:18.315Z"
   },
   {
    "duration": 23,
    "start_time": "2022-03-05T11:40:24.240Z"
   },
   {
    "duration": 271,
    "start_time": "2022-03-05T11:40:29.875Z"
   },
   {
    "duration": 3,
    "start_time": "2022-03-05T11:40:35.123Z"
   },
   {
    "duration": 60,
    "start_time": "2022-03-05T11:40:36.727Z"
   },
   {
    "duration": 19,
    "start_time": "2022-03-05T11:40:37.907Z"
   },
   {
    "duration": 14,
    "start_time": "2022-03-05T11:40:39.167Z"
   },
   {
    "duration": 21,
    "start_time": "2022-03-05T11:40:41.105Z"
   },
   {
    "duration": 7,
    "start_time": "2022-03-05T11:40:41.949Z"
   },
   {
    "duration": 7,
    "start_time": "2022-03-05T11:40:42.735Z"
   },
   {
    "duration": 9,
    "start_time": "2022-03-05T11:40:43.615Z"
   },
   {
    "duration": 10,
    "start_time": "2022-03-05T11:40:46.685Z"
   },
   {
    "duration": 5,
    "start_time": "2022-03-05T11:40:49.162Z"
   },
   {
    "duration": 14,
    "start_time": "2022-03-05T11:40:50.556Z"
   },
   {
    "duration": 23,
    "start_time": "2022-03-05T11:40:52.020Z"
   },
   {
    "duration": 285,
    "start_time": "2022-03-05T11:41:25.688Z"
   },
   {
    "duration": 20,
    "start_time": "2022-03-05T11:41:35.776Z"
   },
   {
    "duration": 8,
    "start_time": "2022-03-05T11:41:37.165Z"
   },
   {
    "duration": 8,
    "start_time": "2022-03-05T11:41:37.890Z"
   },
   {
    "duration": 9,
    "start_time": "2022-03-05T11:41:38.470Z"
   },
   {
    "duration": 10,
    "start_time": "2022-03-05T11:41:39.670Z"
   },
   {
    "duration": 5,
    "start_time": "2022-03-05T11:41:40.580Z"
   },
   {
    "duration": 291,
    "start_time": "2022-03-05T11:41:41.306Z"
   },
   {
    "duration": 13,
    "start_time": "2022-03-05T11:41:42.286Z"
   },
   {
    "duration": 23,
    "start_time": "2022-03-05T11:41:43.127Z"
   },
   {
    "duration": 5,
    "start_time": "2022-03-05T11:41:52.431Z"
   },
   {
    "duration": 275,
    "start_time": "2022-03-05T11:41:52.899Z"
   },
   {
    "duration": 14,
    "start_time": "2022-03-05T11:41:53.910Z"
   },
   {
    "duration": 23,
    "start_time": "2022-03-05T11:41:54.805Z"
   },
   {
    "duration": 4,
    "start_time": "2022-03-05T11:41:58.826Z"
   },
   {
    "duration": 58,
    "start_time": "2022-03-05T11:41:59.728Z"
   },
   {
    "duration": 18,
    "start_time": "2022-03-05T11:42:00.647Z"
   },
   {
    "duration": 14,
    "start_time": "2022-03-05T11:42:01.657Z"
   },
   {
    "duration": 21,
    "start_time": "2022-03-05T11:42:03.542Z"
   },
   {
    "duration": 7,
    "start_time": "2022-03-05T11:42:04.128Z"
   },
   {
    "duration": 7,
    "start_time": "2022-03-05T11:42:04.722Z"
   },
   {
    "duration": 9,
    "start_time": "2022-03-05T11:42:05.239Z"
   },
   {
    "duration": 10,
    "start_time": "2022-03-05T11:42:06.610Z"
   },
   {
    "duration": 5,
    "start_time": "2022-03-05T11:42:07.275Z"
   },
   {
    "duration": 255,
    "start_time": "2022-03-05T11:42:08.476Z"
   },
   {
    "duration": 76,
    "start_time": "2022-03-05T11:42:17.659Z"
   },
   {
    "duration": 14,
    "start_time": "2022-03-05T11:42:19.274Z"
   },
   {
    "duration": 23,
    "start_time": "2022-03-05T11:42:20.420Z"
   },
   {
    "duration": 22,
    "start_time": "2022-03-05T11:43:13.927Z"
   },
   {
    "duration": 4,
    "start_time": "2022-03-05T11:43:14.974Z"
   },
   {
    "duration": 7,
    "start_time": "2022-03-05T11:43:16.087Z"
   },
   {
    "duration": 11,
    "start_time": "2022-03-05T11:43:41.922Z"
   },
   {
    "duration": 5,
    "start_time": "2022-03-05T11:46:06.213Z"
   },
   {
    "duration": 16,
    "start_time": "2022-03-05T11:46:10.532Z"
   },
   {
    "duration": 23,
    "start_time": "2022-03-05T11:46:13.761Z"
   },
   {
    "duration": 503,
    "start_time": "2022-03-05T11:46:47.625Z"
   },
   {
    "duration": 10,
    "start_time": "2022-03-05T11:48:50.664Z"
   },
   {
    "duration": 4,
    "start_time": "2022-03-05T11:48:51.450Z"
   },
   {
    "duration": 516,
    "start_time": "2022-03-05T11:48:52.664Z"
   },
   {
    "duration": 4,
    "start_time": "2022-03-05T11:49:21.146Z"
   },
   {
    "duration": 81,
    "start_time": "2022-03-05T11:49:22.639Z"
   },
   {
    "duration": 23,
    "start_time": "2022-03-05T11:49:27.604Z"
   },
   {
    "duration": 10,
    "start_time": "2022-03-05T12:00:15.311Z"
   },
   {
    "duration": 5,
    "start_time": "2022-03-05T12:00:16.011Z"
   },
   {
    "duration": 75,
    "start_time": "2022-03-05T12:00:16.765Z"
   },
   {
    "duration": 22,
    "start_time": "2022-03-05T12:00:17.884Z"
   },
   {
    "duration": 8,
    "start_time": "2022-03-05T12:01:27.284Z"
   },
   {
    "duration": 36,
    "start_time": "2022-03-05T12:01:35.874Z"
   },
   {
    "duration": 28,
    "start_time": "2022-03-05T12:02:09.964Z"
   },
   {
    "duration": 14,
    "start_time": "2022-03-05T12:02:21.470Z"
   },
   {
    "duration": 100,
    "start_time": "2022-03-05T12:04:34.254Z"
   },
   {
    "duration": 90,
    "start_time": "2022-03-05T12:04:51.112Z"
   },
   {
    "duration": 7,
    "start_time": "2022-03-05T12:04:58.691Z"
   },
   {
    "duration": 84,
    "start_time": "2022-03-05T12:05:53.659Z"
   },
   {
    "duration": 8,
    "start_time": "2022-03-05T12:05:58.767Z"
   },
   {
    "duration": 8,
    "start_time": "2022-03-05T12:08:30.165Z"
   },
   {
    "duration": 5,
    "start_time": "2022-03-05T12:08:43.344Z"
   },
   {
    "duration": 18,
    "start_time": "2022-03-05T12:08:44.277Z"
   },
   {
    "duration": 10,
    "start_time": "2022-03-05T12:09:21.712Z"
   },
   {
    "duration": 5,
    "start_time": "2022-03-05T12:09:25.770Z"
   },
   {
    "duration": 16,
    "start_time": "2022-03-05T12:09:26.425Z"
   },
   {
    "duration": 18,
    "start_time": "2022-03-05T12:09:47.499Z"
   },
   {
    "duration": 8,
    "start_time": "2022-03-05T12:09:51.383Z"
   },
   {
    "duration": 18,
    "start_time": "2022-03-05T12:09:52.630Z"
   },
   {
    "duration": 8,
    "start_time": "2022-03-05T12:10:25.218Z"
   },
   {
    "duration": 17,
    "start_time": "2022-03-05T12:10:26.460Z"
   },
   {
    "duration": 10,
    "start_time": "2022-03-05T12:11:28.883Z"
   },
   {
    "duration": 19,
    "start_time": "2022-03-05T12:11:29.674Z"
   },
   {
    "duration": 12,
    "start_time": "2022-03-05T12:12:01.023Z"
   },
   {
    "duration": 19,
    "start_time": "2022-03-05T12:12:01.862Z"
   },
   {
    "duration": 16,
    "start_time": "2022-03-05T12:15:45.278Z"
   },
   {
    "duration": 18,
    "start_time": "2022-03-05T12:15:46.843Z"
   },
   {
    "duration": 15,
    "start_time": "2022-03-05T12:16:10.229Z"
   },
   {
    "duration": 8,
    "start_time": "2022-03-05T12:16:31.700Z"
   },
   {
    "duration": 16,
    "start_time": "2022-03-05T12:16:33.610Z"
   },
   {
    "duration": 84,
    "start_time": "2022-03-05T12:18:51.697Z"
   },
   {
    "duration": 25,
    "start_time": "2022-03-05T12:20:12.935Z"
   },
   {
    "duration": 97,
    "start_time": "2022-03-05T12:20:26.145Z"
   },
   {
    "duration": 15,
    "start_time": "2022-03-05T12:57:57.527Z"
   },
   {
    "duration": 12,
    "start_time": "2022-03-05T12:59:02.258Z"
   },
   {
    "duration": 9,
    "start_time": "2022-03-05T12:59:37.780Z"
   },
   {
    "duration": 10,
    "start_time": "2022-03-05T13:00:15.333Z"
   },
   {
    "duration": 9,
    "start_time": "2022-03-05T13:00:38.370Z"
   },
   {
    "duration": 6,
    "start_time": "2022-03-05T13:00:42.817Z"
   },
   {
    "duration": 80,
    "start_time": "2022-03-05T13:00:43.659Z"
   },
   {
    "duration": 23,
    "start_time": "2022-03-05T13:00:44.434Z"
   },
   {
    "duration": 9,
    "start_time": "2022-03-05T13:00:45.450Z"
   },
   {
    "duration": 20,
    "start_time": "2022-03-05T13:00:46.180Z"
   },
   {
    "duration": 6,
    "start_time": "2022-03-05T13:00:49.174Z"
   },
   {
    "duration": 17,
    "start_time": "2022-03-05T13:00:50.142Z"
   },
   {
    "duration": 346,
    "start_time": "2022-03-05T13:00:52.153Z"
   },
   {
    "duration": 3,
    "start_time": "2022-03-05T13:00:58.581Z"
   },
   {
    "duration": 61,
    "start_time": "2022-03-05T13:00:59.788Z"
   },
   {
    "duration": 20,
    "start_time": "2022-03-05T13:01:01.059Z"
   },
   {
    "duration": 16,
    "start_time": "2022-03-05T13:01:02.541Z"
   },
   {
    "duration": 21,
    "start_time": "2022-03-05T13:01:04.513Z"
   },
   {
    "duration": 8,
    "start_time": "2022-03-05T13:01:05.251Z"
   },
   {
    "duration": 8,
    "start_time": "2022-03-05T13:01:05.912Z"
   },
   {
    "duration": 8,
    "start_time": "2022-03-05T13:01:06.554Z"
   },
   {
    "duration": 11,
    "start_time": "2022-03-05T13:01:07.867Z"
   },
   {
    "duration": 5,
    "start_time": "2022-03-05T13:01:08.642Z"
   },
   {
    "duration": 84,
    "start_time": "2022-03-05T13:01:09.519Z"
   },
   {
    "duration": 14,
    "start_time": "2022-03-05T13:01:10.178Z"
   },
   {
    "duration": 24,
    "start_time": "2022-03-05T13:01:10.964Z"
   },
   {
    "duration": 4,
    "start_time": "2022-03-05T13:01:11.618Z"
   },
   {
    "duration": 11,
    "start_time": "2022-03-05T13:01:12.288Z"
   },
   {
    "duration": 4,
    "start_time": "2022-03-05T13:01:12.943Z"
   },
   {
    "duration": 82,
    "start_time": "2022-03-05T13:01:13.598Z"
   },
   {
    "duration": 28,
    "start_time": "2022-03-05T13:01:14.213Z"
   },
   {
    "duration": 10,
    "start_time": "2022-03-05T13:01:14.946Z"
   },
   {
    "duration": 18,
    "start_time": "2022-03-05T13:01:15.699Z"
   },
   {
    "duration": 9,
    "start_time": "2022-03-05T13:01:18.659Z"
   },
   {
    "duration": 16,
    "start_time": "2022-03-05T13:01:19.444Z"
   },
   {
    "duration": 83,
    "start_time": "2022-03-05T13:01:21.988Z"
   },
   {
    "duration": 10,
    "start_time": "2022-03-05T14:04:16.220Z"
   },
   {
    "duration": 713,
    "start_time": "2022-03-05T14:04:28.915Z"
   },
   {
    "duration": 63,
    "start_time": "2022-03-05T14:04:29.631Z"
   },
   {
    "duration": 28,
    "start_time": "2022-03-05T14:04:29.698Z"
   },
   {
    "duration": 16,
    "start_time": "2022-03-05T14:04:29.729Z"
   },
   {
    "duration": 46,
    "start_time": "2022-03-05T14:04:29.747Z"
   },
   {
    "duration": 7,
    "start_time": "2022-03-05T14:04:29.796Z"
   },
   {
    "duration": 7,
    "start_time": "2022-03-05T14:04:29.805Z"
   },
   {
    "duration": 12,
    "start_time": "2022-03-05T14:04:29.815Z"
   },
   {
    "duration": 12,
    "start_time": "2022-03-05T14:04:29.830Z"
   },
   {
    "duration": 42,
    "start_time": "2022-03-05T14:04:29.845Z"
   },
   {
    "duration": 82,
    "start_time": "2022-03-05T14:04:29.889Z"
   },
   {
    "duration": 26,
    "start_time": "2022-03-05T14:04:29.973Z"
   },
   {
    "duration": 23,
    "start_time": "2022-03-05T14:04:30.002Z"
   },
   {
    "duration": 23,
    "start_time": "2022-03-05T14:04:30.027Z"
   },
   {
    "duration": 16,
    "start_time": "2022-03-05T14:04:30.053Z"
   },
   {
    "duration": 17,
    "start_time": "2022-03-05T14:04:30.071Z"
   },
   {
    "duration": 84,
    "start_time": "2022-03-05T14:04:30.091Z"
   },
   {
    "duration": 31,
    "start_time": "2022-03-05T14:04:30.177Z"
   },
   {
    "duration": 30,
    "start_time": "2022-03-05T14:04:30.211Z"
   },
   {
    "duration": 21,
    "start_time": "2022-03-05T14:04:30.244Z"
   },
   {
    "duration": 20,
    "start_time": "2022-03-05T14:04:30.267Z"
   },
   {
    "duration": 24,
    "start_time": "2022-03-05T14:04:30.289Z"
   },
   {
    "duration": 96,
    "start_time": "2022-03-05T14:04:30.317Z"
   },
   {
    "duration": 81,
    "start_time": "2022-03-05T14:05:13.162Z"
   },
   {
    "duration": 23,
    "start_time": "2022-03-05T14:05:22.729Z"
   },
   {
    "duration": 10,
    "start_time": "2022-03-05T14:06:13.798Z"
   },
   {
    "duration": 741,
    "start_time": "2022-03-05T14:06:29.195Z"
   },
   {
    "duration": 65,
    "start_time": "2022-03-05T14:06:29.938Z"
   },
   {
    "duration": 28,
    "start_time": "2022-03-05T14:06:30.006Z"
   },
   {
    "duration": 34,
    "start_time": "2022-03-05T14:06:30.036Z"
   },
   {
    "duration": 24,
    "start_time": "2022-03-05T14:06:30.072Z"
   },
   {
    "duration": 26,
    "start_time": "2022-03-05T14:06:30.098Z"
   },
   {
    "duration": 17,
    "start_time": "2022-03-05T14:06:30.127Z"
   },
   {
    "duration": 7,
    "start_time": "2022-03-05T14:06:30.147Z"
   },
   {
    "duration": 16,
    "start_time": "2022-03-05T14:06:30.157Z"
   },
   {
    "duration": 13,
    "start_time": "2022-03-05T14:06:30.176Z"
   },
   {
    "duration": 98,
    "start_time": "2022-03-05T14:06:30.191Z"
   },
   {
    "duration": 14,
    "start_time": "2022-03-05T14:06:30.291Z"
   },
   {
    "duration": 31,
    "start_time": "2022-03-05T14:06:30.307Z"
   },
   {
    "duration": 12,
    "start_time": "2022-03-05T14:06:30.341Z"
   },
   {
    "duration": 32,
    "start_time": "2022-03-05T14:06:30.355Z"
   },
   {
    "duration": 76,
    "start_time": "2022-03-05T14:06:30.389Z"
   },
   {
    "duration": 36,
    "start_time": "2022-03-05T14:06:30.467Z"
   },
   {
    "duration": 380,
    "start_time": "2022-03-05T14:06:30.505Z"
   },
   {
    "duration": -186,
    "start_time": "2022-03-05T14:06:31.074Z"
   },
   {
    "duration": -186,
    "start_time": "2022-03-05T14:06:31.076Z"
   },
   {
    "duration": -187,
    "start_time": "2022-03-05T14:06:31.078Z"
   },
   {
    "duration": -188,
    "start_time": "2022-03-05T14:06:31.080Z"
   },
   {
    "duration": -189,
    "start_time": "2022-03-05T14:06:31.082Z"
   },
   {
    "duration": -188,
    "start_time": "2022-03-05T14:06:31.083Z"
   },
   {
    "duration": 722,
    "start_time": "2022-03-05T14:08:01.515Z"
   },
   {
    "duration": 63,
    "start_time": "2022-03-05T14:08:02.239Z"
   },
   {
    "duration": 28,
    "start_time": "2022-03-05T14:08:02.305Z"
   },
   {
    "duration": 20,
    "start_time": "2022-03-05T14:08:02.336Z"
   },
   {
    "duration": 44,
    "start_time": "2022-03-05T14:08:02.358Z"
   },
   {
    "duration": 7,
    "start_time": "2022-03-05T14:08:02.404Z"
   },
   {
    "duration": 12,
    "start_time": "2022-03-05T14:08:02.413Z"
   },
   {
    "duration": 9,
    "start_time": "2022-03-05T14:08:02.429Z"
   },
   {
    "duration": 14,
    "start_time": "2022-03-05T14:08:02.441Z"
   },
   {
    "duration": 5,
    "start_time": "2022-03-05T14:08:02.486Z"
   },
   {
    "duration": 93,
    "start_time": "2022-03-05T14:08:02.494Z"
   },
   {
    "duration": 15,
    "start_time": "2022-03-05T14:08:02.589Z"
   },
   {
    "duration": 29,
    "start_time": "2022-03-05T14:08:02.606Z"
   },
   {
    "duration": 18,
    "start_time": "2022-03-05T14:08:02.637Z"
   },
   {
    "duration": 18,
    "start_time": "2022-03-05T14:08:02.658Z"
   },
   {
    "duration": 91,
    "start_time": "2022-03-05T14:08:02.679Z"
   },
   {
    "duration": 23,
    "start_time": "2022-03-05T14:08:02.773Z"
   },
   {
    "duration": 360,
    "start_time": "2022-03-05T14:08:02.798Z"
   },
   {
    "duration": -181,
    "start_time": "2022-03-05T14:08:03.342Z"
   },
   {
    "duration": -181,
    "start_time": "2022-03-05T14:08:03.344Z"
   },
   {
    "duration": -182,
    "start_time": "2022-03-05T14:08:03.346Z"
   },
   {
    "duration": -181,
    "start_time": "2022-03-05T14:08:03.347Z"
   },
   {
    "duration": -182,
    "start_time": "2022-03-05T14:08:03.349Z"
   },
   {
    "duration": -182,
    "start_time": "2022-03-05T14:08:03.351Z"
   },
   {
    "duration": 3,
    "start_time": "2022-03-05T14:09:14.919Z"
   },
   {
    "duration": 744,
    "start_time": "2022-03-05T14:11:26.850Z"
   },
   {
    "duration": 60,
    "start_time": "2022-03-05T14:11:27.600Z"
   },
   {
    "duration": 47,
    "start_time": "2022-03-05T14:11:27.663Z"
   },
   {
    "duration": 18,
    "start_time": "2022-03-05T14:11:27.713Z"
   },
   {
    "duration": 20,
    "start_time": "2022-03-05T14:11:27.734Z"
   },
   {
    "duration": 8,
    "start_time": "2022-03-05T14:11:27.788Z"
   },
   {
    "duration": 8,
    "start_time": "2022-03-05T14:11:27.799Z"
   },
   {
    "duration": 8,
    "start_time": "2022-03-05T14:11:27.811Z"
   },
   {
    "duration": 10,
    "start_time": "2022-03-05T14:11:27.822Z"
   },
   {
    "duration": 53,
    "start_time": "2022-03-05T14:11:27.836Z"
   },
   {
    "duration": 81,
    "start_time": "2022-03-05T14:11:27.892Z"
   },
   {
    "duration": 15,
    "start_time": "2022-03-05T14:11:27.986Z"
   },
   {
    "duration": 24,
    "start_time": "2022-03-05T14:11:28.003Z"
   },
   {
    "duration": 6,
    "start_time": "2022-03-05T14:11:28.029Z"
   },
   {
    "duration": 6,
    "start_time": "2022-03-05T14:11:28.037Z"
   },
   {
    "duration": 109,
    "start_time": "2022-03-05T14:11:28.046Z"
   },
   {
    "duration": 31,
    "start_time": "2022-03-05T14:11:28.158Z"
   },
   {
    "duration": 348,
    "start_time": "2022-03-05T14:11:28.191Z"
   },
   {
    "duration": -194,
    "start_time": "2022-03-05T14:11:28.735Z"
   },
   {
    "duration": -195,
    "start_time": "2022-03-05T14:11:28.738Z"
   },
   {
    "duration": -196,
    "start_time": "2022-03-05T14:11:28.740Z"
   },
   {
    "duration": -196,
    "start_time": "2022-03-05T14:11:28.742Z"
   },
   {
    "duration": -201,
    "start_time": "2022-03-05T14:11:28.748Z"
   },
   {
    "duration": -203,
    "start_time": "2022-03-05T14:11:28.751Z"
   },
   {
    "duration": 250,
    "start_time": "2022-03-06T09:10:41.307Z"
   },
   {
    "duration": 632,
    "start_time": "2022-03-06T09:10:50.461Z"
   },
   {
    "duration": 55,
    "start_time": "2022-03-06T09:10:51.095Z"
   },
   {
    "duration": 22,
    "start_time": "2022-03-06T09:10:51.152Z"
   },
   {
    "duration": 14,
    "start_time": "2022-03-06T09:10:51.177Z"
   },
   {
    "duration": 17,
    "start_time": "2022-03-06T09:10:51.193Z"
   },
   {
    "duration": 7,
    "start_time": "2022-03-06T09:10:51.212Z"
   },
   {
    "duration": 7,
    "start_time": "2022-03-06T09:10:51.220Z"
   },
   {
    "duration": 6,
    "start_time": "2022-03-06T09:10:51.231Z"
   },
   {
    "duration": 9,
    "start_time": "2022-03-06T09:10:51.279Z"
   },
   {
    "duration": 4,
    "start_time": "2022-03-06T09:10:51.290Z"
   },
   {
    "duration": 84,
    "start_time": "2022-03-06T09:10:51.296Z"
   },
   {
    "duration": 11,
    "start_time": "2022-03-06T09:10:51.382Z"
   },
   {
    "duration": 16,
    "start_time": "2022-03-06T09:10:51.395Z"
   },
   {
    "duration": 6,
    "start_time": "2022-03-06T09:10:51.413Z"
   },
   {
    "duration": 10,
    "start_time": "2022-03-06T09:10:51.421Z"
   },
   {
    "duration": 84,
    "start_time": "2022-03-06T09:10:51.433Z"
   },
   {
    "duration": 16,
    "start_time": "2022-03-06T09:10:51.519Z"
   },
   {
    "duration": 279,
    "start_time": "2022-03-06T09:10:51.537Z"
   },
   {
    "duration": -206,
    "start_time": "2022-03-06T09:10:52.024Z"
   },
   {
    "duration": -207,
    "start_time": "2022-03-06T09:10:52.026Z"
   },
   {
    "duration": -209,
    "start_time": "2022-03-06T09:10:52.029Z"
   },
   {
    "duration": -209,
    "start_time": "2022-03-06T09:10:52.030Z"
   },
   {
    "duration": -210,
    "start_time": "2022-03-06T09:10:52.032Z"
   },
   {
    "duration": -210,
    "start_time": "2022-03-06T09:10:52.033Z"
   },
   {
    "duration": 3,
    "start_time": "2022-03-06T09:11:52.538Z"
   },
   {
    "duration": 2,
    "start_time": "2022-03-06T09:11:53.283Z"
   },
   {
    "duration": 53,
    "start_time": "2022-03-06T09:11:54.673Z"
   },
   {
    "duration": 11,
    "start_time": "2022-03-06T09:15:28.805Z"
   },
   {
    "duration": 13,
    "start_time": "2022-03-06T09:18:10.209Z"
   },
   {
    "duration": 80,
    "start_time": "2022-03-06T09:38:22.631Z"
   },
   {
    "duration": 3,
    "start_time": "2022-03-06T09:38:29.458Z"
   },
   {
    "duration": 6,
    "start_time": "2022-03-06T09:45:10.440Z"
   },
   {
    "duration": 14,
    "start_time": "2022-03-06T09:45:12.220Z"
   },
   {
    "duration": 12,
    "start_time": "2022-03-06T09:45:18.180Z"
   },
   {
    "duration": 11,
    "start_time": "2022-03-06T09:45:24.114Z"
   },
   {
    "duration": 6,
    "start_time": "2022-03-06T09:45:40.178Z"
   },
   {
    "duration": 11,
    "start_time": "2022-03-06T09:45:41.260Z"
   },
   {
    "duration": 17,
    "start_time": "2022-03-06T09:51:47.631Z"
   },
   {
    "duration": 21,
    "start_time": "2022-03-06T09:56:24.168Z"
   },
   {
    "duration": 17,
    "start_time": "2022-03-06T09:56:46.224Z"
   },
   {
    "duration": 20,
    "start_time": "2022-03-06T09:57:17.163Z"
   },
   {
    "duration": 34,
    "start_time": "2022-03-06T09:57:48.961Z"
   },
   {
    "duration": 20,
    "start_time": "2022-03-06T10:01:06.994Z"
   },
   {
    "duration": 632,
    "start_time": "2022-03-06T10:01:19.365Z"
   },
   {
    "duration": 55,
    "start_time": "2022-03-06T10:01:19.999Z"
   },
   {
    "duration": 25,
    "start_time": "2022-03-06T10:01:20.058Z"
   },
   {
    "duration": 30,
    "start_time": "2022-03-06T10:01:20.084Z"
   },
   {
    "duration": 28,
    "start_time": "2022-03-06T10:01:20.115Z"
   },
   {
    "duration": 12,
    "start_time": "2022-03-06T10:01:20.145Z"
   },
   {
    "duration": 17,
    "start_time": "2022-03-06T10:01:20.160Z"
   },
   {
    "duration": 14,
    "start_time": "2022-03-06T10:01:20.179Z"
   },
   {
    "duration": 37,
    "start_time": "2022-03-06T10:01:20.194Z"
   },
   {
    "duration": 11,
    "start_time": "2022-03-06T10:01:20.233Z"
   },
   {
    "duration": 85,
    "start_time": "2022-03-06T10:01:20.245Z"
   },
   {
    "duration": 11,
    "start_time": "2022-03-06T10:01:20.332Z"
   },
   {
    "duration": 44,
    "start_time": "2022-03-06T10:01:20.345Z"
   },
   {
    "duration": 19,
    "start_time": "2022-03-06T10:01:20.390Z"
   },
   {
    "duration": 11,
    "start_time": "2022-03-06T10:01:20.411Z"
   },
   {
    "duration": 79,
    "start_time": "2022-03-06T10:01:20.424Z"
   },
   {
    "duration": 15,
    "start_time": "2022-03-06T10:01:20.505Z"
   },
   {
    "duration": 24,
    "start_time": "2022-03-06T10:01:20.522Z"
   },
   {
    "duration": 24,
    "start_time": "2022-03-06T10:01:20.548Z"
   },
   {
    "duration": 26,
    "start_time": "2022-03-06T10:01:20.574Z"
   },
   {
    "duration": 14,
    "start_time": "2022-03-06T10:01:20.601Z"
   },
   {
    "duration": 22,
    "start_time": "2022-03-06T10:01:20.618Z"
   },
   {
    "duration": 25,
    "start_time": "2022-03-06T10:01:20.641Z"
   },
   {
    "duration": 42,
    "start_time": "2022-03-06T10:01:20.668Z"
   },
   {
    "duration": 41,
    "start_time": "2022-03-06T10:01:20.712Z"
   },
   {
    "duration": 24,
    "start_time": "2022-03-06T10:01:59.738Z"
   },
   {
    "duration": 586,
    "start_time": "2022-03-06T10:02:13.185Z"
   },
   {
    "duration": 52,
    "start_time": "2022-03-06T10:02:13.773Z"
   },
   {
    "duration": 20,
    "start_time": "2022-03-06T10:02:13.830Z"
   },
   {
    "duration": 11,
    "start_time": "2022-03-06T10:02:13.852Z"
   },
   {
    "duration": 16,
    "start_time": "2022-03-06T10:02:13.877Z"
   },
   {
    "duration": 11,
    "start_time": "2022-03-06T10:02:13.895Z"
   },
   {
    "duration": 6,
    "start_time": "2022-03-06T10:02:13.909Z"
   },
   {
    "duration": 8,
    "start_time": "2022-03-06T10:02:13.917Z"
   },
   {
    "duration": 9,
    "start_time": "2022-03-06T10:02:13.927Z"
   },
   {
    "duration": 4,
    "start_time": "2022-03-06T10:02:13.938Z"
   },
   {
    "duration": 88,
    "start_time": "2022-03-06T10:02:13.943Z"
   },
   {
    "duration": 11,
    "start_time": "2022-03-06T10:02:14.033Z"
   },
   {
    "duration": 36,
    "start_time": "2022-03-06T10:02:14.046Z"
   },
   {
    "duration": 7,
    "start_time": "2022-03-06T10:02:14.084Z"
   },
   {
    "duration": 5,
    "start_time": "2022-03-06T10:02:14.092Z"
   },
   {
    "duration": 64,
    "start_time": "2022-03-06T10:02:14.099Z"
   },
   {
    "duration": 25,
    "start_time": "2022-03-06T10:02:14.165Z"
   },
   {
    "duration": 12,
    "start_time": "2022-03-06T10:02:14.192Z"
   },
   {
    "duration": 7,
    "start_time": "2022-03-06T10:02:14.206Z"
   },
   {
    "duration": 14,
    "start_time": "2022-03-06T10:02:14.214Z"
   },
   {
    "duration": 5,
    "start_time": "2022-03-06T10:02:14.230Z"
   },
   {
    "duration": 40,
    "start_time": "2022-03-06T10:02:14.238Z"
   },
   {
    "duration": 21,
    "start_time": "2022-03-06T10:02:14.280Z"
   },
   {
    "duration": 24,
    "start_time": "2022-03-06T10:02:14.302Z"
   },
   {
    "duration": 51,
    "start_time": "2022-03-06T10:02:14.327Z"
   },
   {
    "duration": 18,
    "start_time": "2022-03-06T10:03:02.405Z"
   },
   {
    "duration": 16,
    "start_time": "2022-03-06T10:03:10.689Z"
   },
   {
    "duration": 562,
    "start_time": "2022-03-06T10:03:17.621Z"
   },
   {
    "duration": 54,
    "start_time": "2022-03-06T10:03:18.185Z"
   },
   {
    "duration": 21,
    "start_time": "2022-03-06T10:03:18.242Z"
   },
   {
    "duration": 17,
    "start_time": "2022-03-06T10:03:18.265Z"
   },
   {
    "duration": 15,
    "start_time": "2022-03-06T10:03:18.284Z"
   },
   {
    "duration": 5,
    "start_time": "2022-03-06T10:03:18.301Z"
   },
   {
    "duration": 6,
    "start_time": "2022-03-06T10:03:18.308Z"
   },
   {
    "duration": 5,
    "start_time": "2022-03-06T10:03:18.315Z"
   },
   {
    "duration": 10,
    "start_time": "2022-03-06T10:03:18.323Z"
   },
   {
    "duration": 4,
    "start_time": "2022-03-06T10:03:18.334Z"
   },
   {
    "duration": 56,
    "start_time": "2022-03-06T10:03:18.377Z"
   },
   {
    "duration": 10,
    "start_time": "2022-03-06T10:03:18.435Z"
   },
   {
    "duration": 35,
    "start_time": "2022-03-06T10:03:18.447Z"
   },
   {
    "duration": 6,
    "start_time": "2022-03-06T10:03:18.483Z"
   },
   {
    "duration": 4,
    "start_time": "2022-03-06T10:03:18.491Z"
   },
   {
    "duration": 65,
    "start_time": "2022-03-06T10:03:18.497Z"
   },
   {
    "duration": 24,
    "start_time": "2022-03-06T10:03:18.564Z"
   },
   {
    "duration": 15,
    "start_time": "2022-03-06T10:03:18.590Z"
   },
   {
    "duration": 7,
    "start_time": "2022-03-06T10:03:18.607Z"
   },
   {
    "duration": 15,
    "start_time": "2022-03-06T10:03:18.616Z"
   },
   {
    "duration": 9,
    "start_time": "2022-03-06T10:03:18.633Z"
   },
   {
    "duration": 34,
    "start_time": "2022-03-06T10:03:18.644Z"
   },
   {
    "duration": 21,
    "start_time": "2022-03-06T10:03:18.680Z"
   },
   {
    "duration": 19,
    "start_time": "2022-03-06T10:03:18.703Z"
   },
   {
    "duration": 60,
    "start_time": "2022-03-06T10:03:18.724Z"
   },
   {
    "duration": 16,
    "start_time": "2022-03-06T10:05:27.501Z"
   },
   {
    "duration": 265,
    "start_time": "2022-03-06T10:27:17.335Z"
   },
   {
    "duration": 5,
    "start_time": "2022-03-06T10:27:28.986Z"
   },
   {
    "duration": 12,
    "start_time": "2022-03-06T10:27:44.817Z"
   },
   {
    "duration": 11,
    "start_time": "2022-03-06T10:28:42.639Z"
   },
   {
    "duration": 11,
    "start_time": "2022-03-06T10:29:13.303Z"
   },
   {
    "duration": 1483,
    "start_time": "2022-03-06T10:35:16.987Z"
   },
   {
    "duration": 5,
    "start_time": "2022-03-06T10:35:27.110Z"
   },
   {
    "duration": 11,
    "start_time": "2022-03-06T10:35:41.543Z"
   },
   {
    "duration": 653,
    "start_time": "2022-03-06T10:36:39.871Z"
   },
   {
    "duration": 63,
    "start_time": "2022-03-06T10:36:40.526Z"
   },
   {
    "duration": 22,
    "start_time": "2022-03-06T10:36:40.591Z"
   },
   {
    "duration": 13,
    "start_time": "2022-03-06T10:36:40.615Z"
   },
   {
    "duration": 16,
    "start_time": "2022-03-06T10:36:40.630Z"
   },
   {
    "duration": 32,
    "start_time": "2022-03-06T10:36:40.648Z"
   },
   {
    "duration": 8,
    "start_time": "2022-03-06T10:36:40.682Z"
   },
   {
    "duration": 7,
    "start_time": "2022-03-06T10:36:40.693Z"
   },
   {
    "duration": 9,
    "start_time": "2022-03-06T10:36:40.702Z"
   },
   {
    "duration": 4,
    "start_time": "2022-03-06T10:36:40.713Z"
   },
   {
    "duration": 98,
    "start_time": "2022-03-06T10:36:40.719Z"
   },
   {
    "duration": 12,
    "start_time": "2022-03-06T10:36:40.819Z"
   },
   {
    "duration": 23,
    "start_time": "2022-03-06T10:36:40.833Z"
   },
   {
    "duration": 19,
    "start_time": "2022-03-06T10:36:40.858Z"
   },
   {
    "duration": 24,
    "start_time": "2022-03-06T10:36:40.878Z"
   },
   {
    "duration": 86,
    "start_time": "2022-03-06T10:36:40.904Z"
   },
   {
    "duration": 16,
    "start_time": "2022-03-06T10:36:40.992Z"
   },
   {
    "duration": 33,
    "start_time": "2022-03-06T10:36:41.009Z"
   },
   {
    "duration": 16,
    "start_time": "2022-03-06T10:36:41.044Z"
   },
   {
    "duration": 24,
    "start_time": "2022-03-06T10:36:41.062Z"
   },
   {
    "duration": 26,
    "start_time": "2022-03-06T10:36:41.087Z"
   },
   {
    "duration": 26,
    "start_time": "2022-03-06T10:36:41.114Z"
   },
   {
    "duration": 34,
    "start_time": "2022-03-06T10:36:41.143Z"
   },
   {
    "duration": 30,
    "start_time": "2022-03-06T10:36:41.179Z"
   },
   {
    "duration": 34,
    "start_time": "2022-03-06T10:36:41.211Z"
   },
   {
    "duration": 10,
    "start_time": "2022-03-06T10:36:41.247Z"
   },
   {
    "duration": 28,
    "start_time": "2022-03-06T10:36:41.259Z"
   },
   {
    "duration": 22,
    "start_time": "2022-03-06T10:36:41.289Z"
   },
   {
    "duration": 25,
    "start_time": "2022-03-06T10:36:41.313Z"
   },
   {
    "duration": 5,
    "start_time": "2022-03-06T10:39:44.693Z"
   },
   {
    "duration": 295,
    "start_time": "2022-03-06T11:17:26.172Z"
   },
   {
    "duration": 238,
    "start_time": "2022-03-06T11:17:45.560Z"
   },
   {
    "duration": 597,
    "start_time": "2022-03-06T11:17:54.183Z"
   },
   {
    "duration": 51,
    "start_time": "2022-03-06T11:17:54.782Z"
   },
   {
    "duration": 19,
    "start_time": "2022-03-06T11:17:54.835Z"
   },
   {
    "duration": 13,
    "start_time": "2022-03-06T11:17:54.856Z"
   },
   {
    "duration": 17,
    "start_time": "2022-03-06T11:17:54.877Z"
   },
   {
    "duration": 6,
    "start_time": "2022-03-06T11:17:54.896Z"
   },
   {
    "duration": 7,
    "start_time": "2022-03-06T11:17:54.904Z"
   },
   {
    "duration": 6,
    "start_time": "2022-03-06T11:17:54.914Z"
   },
   {
    "duration": 12,
    "start_time": "2022-03-06T11:17:54.923Z"
   },
   {
    "duration": 40,
    "start_time": "2022-03-06T11:17:54.937Z"
   },
   {
    "duration": 62,
    "start_time": "2022-03-06T11:17:54.979Z"
   },
   {
    "duration": 11,
    "start_time": "2022-03-06T11:17:55.043Z"
   },
   {
    "duration": 35,
    "start_time": "2022-03-06T11:17:55.056Z"
   },
   {
    "duration": 4,
    "start_time": "2022-03-06T11:17:55.092Z"
   },
   {
    "duration": 4,
    "start_time": "2022-03-06T11:17:55.098Z"
   },
   {
    "duration": 73,
    "start_time": "2022-03-06T11:17:55.104Z"
   },
   {
    "duration": 16,
    "start_time": "2022-03-06T11:17:55.179Z"
   },
   {
    "duration": 12,
    "start_time": "2022-03-06T11:17:55.197Z"
   },
   {
    "duration": 8,
    "start_time": "2022-03-06T11:17:55.211Z"
   },
   {
    "duration": 16,
    "start_time": "2022-03-06T11:17:55.221Z"
   },
   {
    "duration": 6,
    "start_time": "2022-03-06T11:17:55.239Z"
   },
   {
    "duration": 38,
    "start_time": "2022-03-06T11:17:55.246Z"
   },
   {
    "duration": 18,
    "start_time": "2022-03-06T11:17:55.287Z"
   },
   {
    "duration": 23,
    "start_time": "2022-03-06T11:17:55.307Z"
   },
   {
    "duration": 52,
    "start_time": "2022-03-06T11:17:55.331Z"
   },
   {
    "duration": 12,
    "start_time": "2022-03-06T11:17:55.385Z"
   },
   {
    "duration": 9,
    "start_time": "2022-03-06T11:17:55.399Z"
   },
   {
    "duration": 7,
    "start_time": "2022-03-06T11:17:55.410Z"
   },
   {
    "duration": 14,
    "start_time": "2022-03-06T11:17:55.418Z"
   },
   {
    "duration": 305,
    "start_time": "2022-03-06T11:18:34.710Z"
   },
   {
    "duration": 586,
    "start_time": "2022-03-06T11:18:41.208Z"
   },
   {
    "duration": 55,
    "start_time": "2022-03-06T11:18:41.796Z"
   },
   {
    "duration": 24,
    "start_time": "2022-03-06T11:18:41.854Z"
   },
   {
    "duration": 17,
    "start_time": "2022-03-06T11:18:41.880Z"
   },
   {
    "duration": 16,
    "start_time": "2022-03-06T11:18:41.900Z"
   },
   {
    "duration": 5,
    "start_time": "2022-03-06T11:18:41.918Z"
   },
   {
    "duration": 7,
    "start_time": "2022-03-06T11:18:41.925Z"
   },
   {
    "duration": 12,
    "start_time": "2022-03-06T11:18:41.935Z"
   },
   {
    "duration": 35,
    "start_time": "2022-03-06T11:18:41.949Z"
   },
   {
    "duration": 3,
    "start_time": "2022-03-06T11:18:41.986Z"
   },
   {
    "duration": 67,
    "start_time": "2022-03-06T11:18:41.991Z"
   },
   {
    "duration": 11,
    "start_time": "2022-03-06T11:18:42.077Z"
   },
   {
    "duration": 19,
    "start_time": "2022-03-06T11:18:42.090Z"
   },
   {
    "duration": 9,
    "start_time": "2022-03-06T11:18:42.111Z"
   },
   {
    "duration": 5,
    "start_time": "2022-03-06T11:18:42.122Z"
   },
   {
    "duration": 80,
    "start_time": "2022-03-06T11:18:42.129Z"
   },
   {
    "duration": 17,
    "start_time": "2022-03-06T11:18:42.211Z"
   },
   {
    "duration": 15,
    "start_time": "2022-03-06T11:18:42.229Z"
   },
   {
    "duration": 18,
    "start_time": "2022-03-06T11:18:42.246Z"
   },
   {
    "duration": 22,
    "start_time": "2022-03-06T11:18:42.266Z"
   },
   {
    "duration": 19,
    "start_time": "2022-03-06T11:18:42.290Z"
   },
   {
    "duration": 19,
    "start_time": "2022-03-06T11:18:42.312Z"
   },
   {
    "duration": 26,
    "start_time": "2022-03-06T11:18:42.335Z"
   },
   {
    "duration": 28,
    "start_time": "2022-03-06T11:18:42.363Z"
   },
   {
    "duration": 35,
    "start_time": "2022-03-06T11:18:42.393Z"
   },
   {
    "duration": 13,
    "start_time": "2022-03-06T11:18:42.430Z"
   },
   {
    "duration": 34,
    "start_time": "2022-03-06T11:18:42.445Z"
   },
   {
    "duration": 6,
    "start_time": "2022-03-06T11:18:42.480Z"
   },
   {
    "duration": 15,
    "start_time": "2022-03-06T11:18:42.488Z"
   },
   {
    "duration": 8,
    "start_time": "2022-03-06T11:26:02.549Z"
   },
   {
    "duration": 3,
    "start_time": "2022-03-06T11:26:03.404Z"
   },
   {
    "duration": 57,
    "start_time": "2022-03-06T11:26:09.069Z"
   },
   {
    "duration": 12,
    "start_time": "2022-03-06T11:27:03.641Z"
   },
   {
    "duration": 613,
    "start_time": "2022-03-06T11:27:17.164Z"
   },
   {
    "duration": 52,
    "start_time": "2022-03-06T11:27:17.779Z"
   },
   {
    "duration": 21,
    "start_time": "2022-03-06T11:27:17.833Z"
   },
   {
    "duration": 21,
    "start_time": "2022-03-06T11:27:17.856Z"
   },
   {
    "duration": 15,
    "start_time": "2022-03-06T11:27:17.878Z"
   },
   {
    "duration": 11,
    "start_time": "2022-03-06T11:27:17.895Z"
   },
   {
    "duration": 8,
    "start_time": "2022-03-06T11:27:17.907Z"
   },
   {
    "duration": 16,
    "start_time": "2022-03-06T11:27:17.917Z"
   },
   {
    "duration": 9,
    "start_time": "2022-03-06T11:27:17.936Z"
   },
   {
    "duration": 29,
    "start_time": "2022-03-06T11:27:17.948Z"
   },
   {
    "duration": 63,
    "start_time": "2022-03-06T11:27:17.979Z"
   },
   {
    "duration": 10,
    "start_time": "2022-03-06T11:27:18.044Z"
   },
   {
    "duration": 36,
    "start_time": "2022-03-06T11:27:18.055Z"
   },
   {
    "duration": 5,
    "start_time": "2022-03-06T11:27:18.094Z"
   },
   {
    "duration": 5,
    "start_time": "2022-03-06T11:27:18.101Z"
   },
   {
    "duration": 76,
    "start_time": "2022-03-06T11:27:18.108Z"
   },
   {
    "duration": 16,
    "start_time": "2022-03-06T11:27:18.185Z"
   },
   {
    "duration": 16,
    "start_time": "2022-03-06T11:27:18.202Z"
   },
   {
    "duration": 10,
    "start_time": "2022-03-06T11:27:18.221Z"
   },
   {
    "duration": 44,
    "start_time": "2022-03-06T11:27:18.233Z"
   },
   {
    "duration": 19,
    "start_time": "2022-03-06T11:27:18.279Z"
   },
   {
    "duration": 15,
    "start_time": "2022-03-06T11:27:18.300Z"
   },
   {
    "duration": 18,
    "start_time": "2022-03-06T11:27:18.318Z"
   },
   {
    "duration": 28,
    "start_time": "2022-03-06T11:27:18.338Z"
   },
   {
    "duration": 39,
    "start_time": "2022-03-06T11:27:18.368Z"
   },
   {
    "duration": 12,
    "start_time": "2022-03-06T11:27:18.409Z"
   },
   {
    "duration": 12,
    "start_time": "2022-03-06T11:27:18.424Z"
   },
   {
    "duration": 6,
    "start_time": "2022-03-06T11:27:18.438Z"
   },
   {
    "duration": 12,
    "start_time": "2022-03-06T11:27:18.477Z"
   },
   {
    "duration": 272,
    "start_time": "2022-03-06T11:28:30.375Z"
   },
   {
    "duration": 4,
    "start_time": "2022-03-06T11:28:42.724Z"
   },
   {
    "duration": 11,
    "start_time": "2022-03-06T11:28:56.234Z"
   },
   {
    "duration": 581,
    "start_time": "2022-03-06T11:29:53.091Z"
   },
   {
    "duration": 53,
    "start_time": "2022-03-06T11:29:53.674Z"
   },
   {
    "duration": 19,
    "start_time": "2022-03-06T11:29:53.729Z"
   },
   {
    "duration": 14,
    "start_time": "2022-03-06T11:29:53.750Z"
   },
   {
    "duration": 25,
    "start_time": "2022-03-06T11:29:53.766Z"
   },
   {
    "duration": 7,
    "start_time": "2022-03-06T11:29:53.793Z"
   },
   {
    "duration": 16,
    "start_time": "2022-03-06T11:29:53.801Z"
   },
   {
    "duration": 8,
    "start_time": "2022-03-06T11:29:53.821Z"
   },
   {
    "duration": 13,
    "start_time": "2022-03-06T11:29:53.832Z"
   },
   {
    "duration": 32,
    "start_time": "2022-03-06T11:29:53.847Z"
   },
   {
    "duration": 73,
    "start_time": "2022-03-06T11:29:53.881Z"
   },
   {
    "duration": 12,
    "start_time": "2022-03-06T11:29:53.956Z"
   },
   {
    "duration": 25,
    "start_time": "2022-03-06T11:29:53.969Z"
   },
   {
    "duration": 6,
    "start_time": "2022-03-06T11:29:53.996Z"
   },
   {
    "duration": 21,
    "start_time": "2022-03-06T11:29:54.004Z"
   },
   {
    "duration": 7,
    "start_time": "2022-03-06T11:29:54.027Z"
   },
   {
    "duration": 12,
    "start_time": "2022-03-06T11:29:54.036Z"
   },
   {
    "duration": 5324,
    "start_time": "2022-03-06T11:29:54.050Z"
   },
   {
    "duration": -280,
    "start_time": "2022-03-06T11:29:59.656Z"
   },
   {
    "duration": -283,
    "start_time": "2022-03-06T11:29:59.660Z"
   },
   {
    "duration": -284,
    "start_time": "2022-03-06T11:29:59.662Z"
   },
   {
    "duration": -285,
    "start_time": "2022-03-06T11:29:59.664Z"
   },
   {
    "duration": -284,
    "start_time": "2022-03-06T11:29:59.665Z"
   },
   {
    "duration": -284,
    "start_time": "2022-03-06T11:29:59.666Z"
   },
   {
    "duration": -284,
    "start_time": "2022-03-06T11:29:59.667Z"
   },
   {
    "duration": -285,
    "start_time": "2022-03-06T11:29:59.669Z"
   },
   {
    "duration": 5,
    "start_time": "2022-03-06T11:33:01.472Z"
   },
   {
    "duration": 12,
    "start_time": "2022-03-06T11:35:35.366Z"
   },
   {
    "duration": 752,
    "start_time": "2022-03-06T11:35:42.280Z"
   },
   {
    "duration": 55,
    "start_time": "2022-03-06T11:35:43.034Z"
   },
   {
    "duration": 21,
    "start_time": "2022-03-06T11:35:43.091Z"
   },
   {
    "duration": 11,
    "start_time": "2022-03-06T11:35:43.114Z"
   },
   {
    "duration": 26,
    "start_time": "2022-03-06T11:35:43.127Z"
   },
   {
    "duration": 24,
    "start_time": "2022-03-06T11:35:43.154Z"
   },
   {
    "duration": 7,
    "start_time": "2022-03-06T11:35:43.179Z"
   },
   {
    "duration": 8,
    "start_time": "2022-03-06T11:35:43.188Z"
   },
   {
    "duration": 3,
    "start_time": "2022-03-06T11:35:43.199Z"
   },
   {
    "duration": 83,
    "start_time": "2022-03-06T11:35:43.204Z"
   },
   {
    "duration": 11,
    "start_time": "2022-03-06T11:35:43.289Z"
   },
   {
    "duration": 15,
    "start_time": "2022-03-06T11:35:43.301Z"
   },
   {
    "duration": 5,
    "start_time": "2022-03-06T11:35:43.318Z"
   },
   {
    "duration": 13,
    "start_time": "2022-03-06T11:35:43.325Z"
   },
   {
    "duration": 37,
    "start_time": "2022-03-06T11:35:43.340Z"
   },
   {
    "duration": 12,
    "start_time": "2022-03-06T11:35:43.379Z"
   },
   {
    "duration": 7,
    "start_time": "2022-03-06T11:35:43.393Z"
   },
   {
    "duration": 13,
    "start_time": "2022-03-06T11:35:43.402Z"
   },
   {
    "duration": 19,
    "start_time": "2022-03-06T11:35:43.417Z"
   },
   {
    "duration": 41,
    "start_time": "2022-03-06T11:35:43.437Z"
   },
   {
    "duration": 30,
    "start_time": "2022-03-06T11:35:43.480Z"
   },
   {
    "duration": 11,
    "start_time": "2022-03-06T11:35:43.512Z"
   },
   {
    "duration": 10,
    "start_time": "2022-03-06T11:35:43.525Z"
   },
   {
    "duration": 5,
    "start_time": "2022-03-06T11:35:43.536Z"
   },
   {
    "duration": 42,
    "start_time": "2022-03-06T11:35:43.543Z"
   },
   {
    "duration": 7,
    "start_time": "2022-03-06T11:38:48.969Z"
   },
   {
    "duration": 11,
    "start_time": "2022-03-06T11:39:04.786Z"
   },
   {
    "duration": 598,
    "start_time": "2022-03-06T11:44:39.186Z"
   },
   {
    "duration": 53,
    "start_time": "2022-03-06T11:44:39.785Z"
   },
   {
    "duration": 21,
    "start_time": "2022-03-06T11:44:39.840Z"
   },
   {
    "duration": 18,
    "start_time": "2022-03-06T11:44:39.863Z"
   },
   {
    "duration": 17,
    "start_time": "2022-03-06T11:44:39.883Z"
   },
   {
    "duration": 12,
    "start_time": "2022-03-06T11:44:39.902Z"
   },
   {
    "duration": 7,
    "start_time": "2022-03-06T11:44:39.916Z"
   },
   {
    "duration": 8,
    "start_time": "2022-03-06T11:44:39.925Z"
   },
   {
    "duration": 42,
    "start_time": "2022-03-06T11:44:39.936Z"
   },
   {
    "duration": 63,
    "start_time": "2022-03-06T11:44:39.980Z"
   },
   {
    "duration": 11,
    "start_time": "2022-03-06T11:44:40.044Z"
   },
   {
    "duration": 35,
    "start_time": "2022-03-06T11:44:40.057Z"
   },
   {
    "duration": 7,
    "start_time": "2022-03-06T11:44:40.094Z"
   },
   {
    "duration": 16,
    "start_time": "2022-03-06T11:44:40.102Z"
   },
   {
    "duration": 8,
    "start_time": "2022-03-06T11:44:40.120Z"
   },
   {
    "duration": 12,
    "start_time": "2022-03-06T11:44:40.129Z"
   },
   {
    "duration": 3,
    "start_time": "2022-03-06T11:44:40.143Z"
   },
   {
    "duration": 12,
    "start_time": "2022-03-06T11:44:40.178Z"
   },
   {
    "duration": 16,
    "start_time": "2022-03-06T11:44:40.192Z"
   },
   {
    "duration": 22,
    "start_time": "2022-03-06T11:44:40.210Z"
   },
   {
    "duration": 55,
    "start_time": "2022-03-06T11:44:40.234Z"
   },
   {
    "duration": 12,
    "start_time": "2022-03-06T11:44:40.291Z"
   },
   {
    "duration": 10,
    "start_time": "2022-03-06T11:44:40.305Z"
   },
   {
    "duration": 5,
    "start_time": "2022-03-06T11:44:40.317Z"
   },
   {
    "duration": 13,
    "start_time": "2022-03-06T11:44:40.323Z"
   },
   {
    "duration": 3,
    "start_time": "2022-03-06T11:47:44.104Z"
   },
   {
    "duration": 40,
    "start_time": "2022-03-06T11:49:30.385Z"
   },
   {
    "duration": 565,
    "start_time": "2022-03-06T11:49:39.229Z"
   },
   {
    "duration": 52,
    "start_time": "2022-03-06T11:49:39.796Z"
   },
   {
    "duration": 20,
    "start_time": "2022-03-06T11:49:39.850Z"
   },
   {
    "duration": 31,
    "start_time": "2022-03-06T11:49:39.872Z"
   },
   {
    "duration": 21,
    "start_time": "2022-03-06T11:49:39.905Z"
   },
   {
    "duration": 14,
    "start_time": "2022-03-06T11:49:39.927Z"
   },
   {
    "duration": 34,
    "start_time": "2022-03-06T11:49:39.943Z"
   },
   {
    "duration": 28,
    "start_time": "2022-03-06T11:49:39.979Z"
   },
   {
    "duration": 16,
    "start_time": "2022-03-06T11:49:40.010Z"
   },
   {
    "duration": 80,
    "start_time": "2022-03-06T11:49:40.028Z"
   },
   {
    "duration": 11,
    "start_time": "2022-03-06T11:49:40.110Z"
   },
   {
    "duration": 33,
    "start_time": "2022-03-06T11:49:40.123Z"
   },
   {
    "duration": 15,
    "start_time": "2022-03-06T11:49:40.158Z"
   },
   {
    "duration": 35,
    "start_time": "2022-03-06T11:49:40.175Z"
   },
   {
    "duration": 44,
    "start_time": "2022-03-06T11:49:40.212Z"
   },
   {
    "duration": 12,
    "start_time": "2022-03-06T11:49:40.258Z"
   },
   {
    "duration": 22,
    "start_time": "2022-03-06T11:49:40.272Z"
   },
   {
    "duration": 20,
    "start_time": "2022-03-06T11:49:40.296Z"
   },
   {
    "duration": 30,
    "start_time": "2022-03-06T11:49:40.318Z"
   },
   {
    "duration": 40,
    "start_time": "2022-03-06T11:49:40.349Z"
   },
   {
    "duration": 35,
    "start_time": "2022-03-06T11:49:40.391Z"
   },
   {
    "duration": 13,
    "start_time": "2022-03-06T11:49:40.427Z"
   },
   {
    "duration": 12,
    "start_time": "2022-03-06T11:49:40.441Z"
   },
   {
    "duration": 30,
    "start_time": "2022-03-06T11:49:40.454Z"
   },
   {
    "duration": 21,
    "start_time": "2022-03-06T11:49:40.486Z"
   },
   {
    "duration": 570,
    "start_time": "2022-03-06T11:50:32.127Z"
   },
   {
    "duration": 54,
    "start_time": "2022-03-06T11:50:32.699Z"
   },
   {
    "duration": 20,
    "start_time": "2022-03-06T11:50:32.755Z"
   },
   {
    "duration": 28,
    "start_time": "2022-03-06T11:50:32.777Z"
   },
   {
    "duration": 16,
    "start_time": "2022-03-06T11:50:32.807Z"
   },
   {
    "duration": 10,
    "start_time": "2022-03-06T11:50:32.825Z"
   },
   {
    "duration": 16,
    "start_time": "2022-03-06T11:50:32.837Z"
   },
   {
    "duration": 23,
    "start_time": "2022-03-06T11:50:32.856Z"
   },
   {
    "duration": 10,
    "start_time": "2022-03-06T11:50:32.882Z"
   },
   {
    "duration": 65,
    "start_time": "2022-03-06T11:50:32.894Z"
   },
   {
    "duration": 18,
    "start_time": "2022-03-06T11:50:32.961Z"
   },
   {
    "duration": 16,
    "start_time": "2022-03-06T11:50:32.981Z"
   },
   {
    "duration": 9,
    "start_time": "2022-03-06T11:50:32.999Z"
   },
   {
    "duration": 26,
    "start_time": "2022-03-06T11:50:33.011Z"
   },
   {
    "duration": 53,
    "start_time": "2022-03-06T11:50:33.039Z"
   },
   {
    "duration": 14,
    "start_time": "2022-03-06T11:50:33.094Z"
   },
   {
    "duration": 12,
    "start_time": "2022-03-06T11:50:33.110Z"
   },
   {
    "duration": 14,
    "start_time": "2022-03-06T11:50:33.124Z"
   },
   {
    "duration": 40,
    "start_time": "2022-03-06T11:50:33.140Z"
   },
   {
    "duration": 36,
    "start_time": "2022-03-06T11:50:33.182Z"
   },
   {
    "duration": 13,
    "start_time": "2022-03-06T11:50:33.220Z"
   },
   {
    "duration": 22,
    "start_time": "2022-03-06T11:50:33.235Z"
   },
   {
    "duration": 16,
    "start_time": "2022-03-06T11:50:33.278Z"
   },
   {
    "duration": 21,
    "start_time": "2022-03-06T11:50:33.296Z"
   },
   {
    "duration": 10,
    "start_time": "2022-03-06T11:50:50.302Z"
   },
   {
    "duration": 5354,
    "start_time": "2022-03-06T11:51:14.267Z"
   },
   {
    "duration": 6,
    "start_time": "2022-03-06T11:51:21.275Z"
   },
   {
    "duration": 8,
    "start_time": "2022-03-06T11:52:10.736Z"
   },
   {
    "duration": 6,
    "start_time": "2022-03-06T11:52:38.436Z"
   },
   {
    "duration": 10,
    "start_time": "2022-03-06T11:53:02.340Z"
   },
   {
    "duration": 11,
    "start_time": "2022-03-06T12:03:27.218Z"
   },
   {
    "duration": 11,
    "start_time": "2022-03-06T12:04:04.033Z"
   },
   {
    "duration": 206,
    "start_time": "2022-03-06T12:05:13.525Z"
   },
   {
    "duration": 9,
    "start_time": "2022-03-06T12:05:24.652Z"
   },
   {
    "duration": 635,
    "start_time": "2022-03-06T12:06:44.253Z"
   },
   {
    "duration": 53,
    "start_time": "2022-03-06T12:06:44.890Z"
   },
   {
    "duration": 20,
    "start_time": "2022-03-06T12:06:44.948Z"
   },
   {
    "duration": 16,
    "start_time": "2022-03-06T12:06:44.970Z"
   },
   {
    "duration": 16,
    "start_time": "2022-03-06T12:06:44.988Z"
   },
   {
    "duration": 11,
    "start_time": "2022-03-06T12:06:45.006Z"
   },
   {
    "duration": 13,
    "start_time": "2022-03-06T12:06:45.018Z"
   },
   {
    "duration": 9,
    "start_time": "2022-03-06T12:06:45.034Z"
   },
   {
    "duration": 34,
    "start_time": "2022-03-06T12:06:45.045Z"
   },
   {
    "duration": 62,
    "start_time": "2022-03-06T12:06:45.081Z"
   },
   {
    "duration": 11,
    "start_time": "2022-03-06T12:06:45.145Z"
   },
   {
    "duration": 16,
    "start_time": "2022-03-06T12:06:45.176Z"
   },
   {
    "duration": 7,
    "start_time": "2022-03-06T12:06:45.194Z"
   },
   {
    "duration": 18,
    "start_time": "2022-03-06T12:06:45.203Z"
   },
   {
    "duration": 56,
    "start_time": "2022-03-06T12:06:45.223Z"
   },
   {
    "duration": 12,
    "start_time": "2022-03-06T12:06:45.281Z"
   },
   {
    "duration": 13,
    "start_time": "2022-03-06T12:06:45.295Z"
   },
   {
    "duration": 23,
    "start_time": "2022-03-06T12:06:45.309Z"
   },
   {
    "duration": 26,
    "start_time": "2022-03-06T12:06:45.335Z"
   },
   {
    "duration": 45,
    "start_time": "2022-03-06T12:06:45.363Z"
   },
   {
    "duration": 13,
    "start_time": "2022-03-06T12:06:45.410Z"
   },
   {
    "duration": 17,
    "start_time": "2022-03-06T12:06:45.425Z"
   },
   {
    "duration": 34,
    "start_time": "2022-03-06T12:06:45.444Z"
   },
   {
    "duration": 12,
    "start_time": "2022-03-06T12:06:45.481Z"
   },
   {
    "duration": 13,
    "start_time": "2022-03-06T12:06:45.496Z"
   },
   {
    "duration": 6,
    "start_time": "2022-03-06T12:06:45.519Z"
   },
   {
    "duration": 15,
    "start_time": "2022-03-06T12:06:45.527Z"
   },
   {
    "duration": 283,
    "start_time": "2022-03-06T12:11:05.306Z"
   },
   {
    "duration": 584,
    "start_time": "2022-03-06T12:11:22.509Z"
   },
   {
    "duration": 53,
    "start_time": "2022-03-06T12:11:23.095Z"
   },
   {
    "duration": 20,
    "start_time": "2022-03-06T12:11:23.151Z"
   },
   {
    "duration": 13,
    "start_time": "2022-03-06T12:11:23.177Z"
   },
   {
    "duration": 15,
    "start_time": "2022-03-06T12:11:23.192Z"
   },
   {
    "duration": 11,
    "start_time": "2022-03-06T12:11:23.209Z"
   },
   {
    "duration": 6,
    "start_time": "2022-03-06T12:11:23.222Z"
   },
   {
    "duration": 8,
    "start_time": "2022-03-06T12:11:23.230Z"
   },
   {
    "duration": 4,
    "start_time": "2022-03-06T12:11:23.276Z"
   },
   {
    "duration": 69,
    "start_time": "2022-03-06T12:11:23.282Z"
   },
   {
    "duration": 11,
    "start_time": "2022-03-06T12:11:23.353Z"
   },
   {
    "duration": 15,
    "start_time": "2022-03-06T12:11:23.377Z"
   },
   {
    "duration": 6,
    "start_time": "2022-03-06T12:11:23.393Z"
   },
   {
    "duration": 16,
    "start_time": "2022-03-06T12:11:23.401Z"
   },
   {
    "duration": 58,
    "start_time": "2022-03-06T12:11:23.419Z"
   },
   {
    "duration": 12,
    "start_time": "2022-03-06T12:11:23.479Z"
   },
   {
    "duration": 13,
    "start_time": "2022-03-06T12:11:23.493Z"
   },
   {
    "duration": 27,
    "start_time": "2022-03-06T12:11:23.508Z"
   },
   {
    "duration": 26,
    "start_time": "2022-03-06T12:11:23.537Z"
   },
   {
    "duration": 38,
    "start_time": "2022-03-06T12:11:23.565Z"
   },
   {
    "duration": 11,
    "start_time": "2022-03-06T12:11:23.605Z"
   },
   {
    "duration": 11,
    "start_time": "2022-03-06T12:11:23.618Z"
   },
   {
    "duration": 8,
    "start_time": "2022-03-06T12:11:23.632Z"
   },
   {
    "duration": 42,
    "start_time": "2022-03-06T12:11:23.642Z"
   },
   {
    "duration": 13,
    "start_time": "2022-03-06T12:11:23.686Z"
   },
   {
    "duration": 6,
    "start_time": "2022-03-06T12:11:23.701Z"
   },
   {
    "duration": 13,
    "start_time": "2022-03-06T12:11:23.709Z"
   },
   {
    "duration": 606,
    "start_time": "2022-03-06T12:11:43.561Z"
   },
   {
    "duration": 54,
    "start_time": "2022-03-06T12:11:44.169Z"
   },
   {
    "duration": 21,
    "start_time": "2022-03-06T12:11:44.227Z"
   },
   {
    "duration": 27,
    "start_time": "2022-03-06T12:11:44.250Z"
   },
   {
    "duration": 17,
    "start_time": "2022-03-06T12:11:44.279Z"
   },
   {
    "duration": 11,
    "start_time": "2022-03-06T12:11:44.298Z"
   },
   {
    "duration": 7,
    "start_time": "2022-03-06T12:11:44.311Z"
   },
   {
    "duration": 9,
    "start_time": "2022-03-06T12:11:44.322Z"
   },
   {
    "duration": 46,
    "start_time": "2022-03-06T12:11:44.333Z"
   },
   {
    "duration": 62,
    "start_time": "2022-03-06T12:11:44.381Z"
   },
   {
    "duration": 10,
    "start_time": "2022-03-06T12:11:44.445Z"
   },
   {
    "duration": 29,
    "start_time": "2022-03-06T12:11:44.457Z"
   },
   {
    "duration": 4,
    "start_time": "2022-03-06T12:11:44.488Z"
   },
   {
    "duration": 15,
    "start_time": "2022-03-06T12:11:44.494Z"
   },
   {
    "duration": 39,
    "start_time": "2022-03-06T12:11:44.511Z"
   },
   {
    "duration": 33,
    "start_time": "2022-03-06T12:11:44.552Z"
   },
   {
    "duration": 6,
    "start_time": "2022-03-06T12:11:44.587Z"
   },
   {
    "duration": 13,
    "start_time": "2022-03-06T12:11:44.595Z"
   },
   {
    "duration": 24,
    "start_time": "2022-03-06T12:11:44.610Z"
   },
   {
    "duration": 63,
    "start_time": "2022-03-06T12:11:44.636Z"
   },
   {
    "duration": 12,
    "start_time": "2022-03-06T12:11:44.700Z"
   },
   {
    "duration": 11,
    "start_time": "2022-03-06T12:11:44.714Z"
   },
   {
    "duration": 11,
    "start_time": "2022-03-06T12:11:44.727Z"
   },
   {
    "duration": 12,
    "start_time": "2022-03-06T12:11:44.739Z"
   },
   {
    "duration": 38,
    "start_time": "2022-03-06T12:11:44.753Z"
   },
   {
    "duration": 11,
    "start_time": "2022-03-06T12:11:44.794Z"
   },
   {
    "duration": 32,
    "start_time": "2022-03-06T12:11:44.806Z"
   },
   {
    "duration": 616,
    "start_time": "2022-03-06T12:14:38.356Z"
   },
   {
    "duration": 53,
    "start_time": "2022-03-06T12:14:38.974Z"
   },
   {
    "duration": 22,
    "start_time": "2022-03-06T12:14:39.032Z"
   },
   {
    "duration": 21,
    "start_time": "2022-03-06T12:14:39.056Z"
   },
   {
    "duration": 16,
    "start_time": "2022-03-06T12:14:39.080Z"
   },
   {
    "duration": 11,
    "start_time": "2022-03-06T12:14:39.099Z"
   },
   {
    "duration": 5,
    "start_time": "2022-03-06T12:14:39.112Z"
   },
   {
    "duration": 7,
    "start_time": "2022-03-06T12:14:39.119Z"
   },
   {
    "duration": 4,
    "start_time": "2022-03-06T12:14:39.128Z"
   },
   {
    "duration": 96,
    "start_time": "2022-03-06T12:14:39.134Z"
   },
   {
    "duration": 10,
    "start_time": "2022-03-06T12:14:39.232Z"
   },
   {
    "duration": 15,
    "start_time": "2022-03-06T12:14:39.244Z"
   },
   {
    "duration": 3,
    "start_time": "2022-03-06T12:14:39.278Z"
   },
   {
    "duration": 12,
    "start_time": "2022-03-06T12:14:39.283Z"
   },
   {
    "duration": 37,
    "start_time": "2022-03-06T12:14:39.297Z"
   },
   {
    "duration": 11,
    "start_time": "2022-03-06T12:14:39.336Z"
   },
   {
    "duration": 5,
    "start_time": "2022-03-06T12:14:39.377Z"
   },
   {
    "duration": 13,
    "start_time": "2022-03-06T12:14:39.383Z"
   },
   {
    "duration": 24,
    "start_time": "2022-03-06T12:14:39.398Z"
   },
   {
    "duration": 55,
    "start_time": "2022-03-06T12:14:39.424Z"
   },
   {
    "duration": 11,
    "start_time": "2022-03-06T12:14:39.480Z"
   },
   {
    "duration": 13,
    "start_time": "2022-03-06T12:14:39.494Z"
   },
   {
    "duration": 9,
    "start_time": "2022-03-06T12:14:39.509Z"
   },
   {
    "duration": 14,
    "start_time": "2022-03-06T12:14:39.519Z"
   },
   {
    "duration": 12,
    "start_time": "2022-03-06T12:14:39.534Z"
   },
   {
    "duration": 6,
    "start_time": "2022-03-06T12:14:39.578Z"
   },
   {
    "duration": 14,
    "start_time": "2022-03-06T12:14:39.586Z"
   },
   {
    "duration": 17,
    "start_time": "2022-03-06T12:50:47.388Z"
   },
   {
    "duration": 17,
    "start_time": "2022-03-06T12:51:28.863Z"
   },
   {
    "duration": 9,
    "start_time": "2022-03-06T12:52:42.652Z"
   },
   {
    "duration": 584,
    "start_time": "2022-03-06T12:52:52.400Z"
   },
   {
    "duration": 52,
    "start_time": "2022-03-06T12:52:52.986Z"
   },
   {
    "duration": 20,
    "start_time": "2022-03-06T12:52:53.042Z"
   },
   {
    "duration": 28,
    "start_time": "2022-03-06T12:52:53.063Z"
   },
   {
    "duration": 33,
    "start_time": "2022-03-06T12:52:53.093Z"
   },
   {
    "duration": 12,
    "start_time": "2022-03-06T12:52:53.127Z"
   },
   {
    "duration": 8,
    "start_time": "2022-03-06T12:52:53.142Z"
   },
   {
    "duration": 10,
    "start_time": "2022-03-06T12:52:53.152Z"
   },
   {
    "duration": 4,
    "start_time": "2022-03-06T12:52:53.164Z"
   },
   {
    "duration": 62,
    "start_time": "2022-03-06T12:52:53.169Z"
   },
   {
    "duration": 11,
    "start_time": "2022-03-06T12:52:53.233Z"
   },
   {
    "duration": 32,
    "start_time": "2022-03-06T12:52:53.245Z"
   },
   {
    "duration": 3,
    "start_time": "2022-03-06T12:52:53.279Z"
   },
   {
    "duration": 18,
    "start_time": "2022-03-06T12:52:53.284Z"
   },
   {
    "duration": 39,
    "start_time": "2022-03-06T12:52:53.305Z"
   },
   {
    "duration": 33,
    "start_time": "2022-03-06T12:52:53.345Z"
   },
   {
    "duration": 9,
    "start_time": "2022-03-06T12:52:53.380Z"
   },
   {
    "duration": 16,
    "start_time": "2022-03-06T12:52:53.390Z"
   },
   {
    "duration": 24,
    "start_time": "2022-03-06T12:52:53.408Z"
   },
   {
    "duration": 52,
    "start_time": "2022-03-06T12:52:53.433Z"
   },
   {
    "duration": 11,
    "start_time": "2022-03-06T12:52:53.486Z"
   },
   {
    "duration": 12,
    "start_time": "2022-03-06T12:52:53.500Z"
   },
   {
    "duration": 11,
    "start_time": "2022-03-06T12:52:53.514Z"
   },
   {
    "duration": 12,
    "start_time": "2022-03-06T12:52:53.527Z"
   },
   {
    "duration": 41,
    "start_time": "2022-03-06T12:52:53.541Z"
   },
   {
    "duration": 6,
    "start_time": "2022-03-06T12:52:53.584Z"
   },
   {
    "duration": 13,
    "start_time": "2022-03-06T12:52:53.592Z"
   },
   {
    "duration": 10,
    "start_time": "2022-03-06T12:52:53.607Z"
   },
   {
    "duration": 17,
    "start_time": "2022-03-06T12:52:53.618Z"
   },
   {
    "duration": 16,
    "start_time": "2022-03-06T13:00:14.504Z"
   },
   {
    "duration": 16,
    "start_time": "2022-03-06T13:00:58.854Z"
   },
   {
    "duration": 16,
    "start_time": "2022-03-06T13:01:36.950Z"
   },
   {
    "duration": 16,
    "start_time": "2022-03-06T13:02:39.081Z"
   },
   {
    "duration": -287,
    "start_time": "2022-03-06T13:04:00.408Z"
   },
   {
    "duration": 2795,
    "start_time": "2022-03-06T13:04:14.500Z"
   },
   {
    "duration": 16,
    "start_time": "2022-03-06T13:09:17.653Z"
   },
   {
    "duration": 164,
    "start_time": "2022-03-07T09:26:32.853Z"
   },
   {
    "duration": 537,
    "start_time": "2022-03-07T09:26:41.905Z"
   },
   {
    "duration": 43,
    "start_time": "2022-03-07T09:26:42.443Z"
   },
   {
    "duration": 17,
    "start_time": "2022-03-07T09:26:42.488Z"
   },
   {
    "duration": 26,
    "start_time": "2022-03-07T09:26:42.507Z"
   },
   {
    "duration": 14,
    "start_time": "2022-03-07T09:26:42.535Z"
   },
   {
    "duration": 10,
    "start_time": "2022-03-07T09:26:42.550Z"
   },
   {
    "duration": 5,
    "start_time": "2022-03-07T09:26:42.562Z"
   },
   {
    "duration": 7,
    "start_time": "2022-03-07T09:26:42.569Z"
   },
   {
    "duration": 4,
    "start_time": "2022-03-07T09:26:42.577Z"
   },
   {
    "duration": 82,
    "start_time": "2022-03-07T09:26:42.582Z"
   },
   {
    "duration": 9,
    "start_time": "2022-03-07T09:26:42.665Z"
   },
   {
    "duration": 13,
    "start_time": "2022-03-07T09:26:42.676Z"
   },
   {
    "duration": 4,
    "start_time": "2022-03-07T09:26:42.691Z"
   },
   {
    "duration": 37,
    "start_time": "2022-03-07T09:26:42.696Z"
   },
   {
    "duration": 35,
    "start_time": "2022-03-07T09:26:42.734Z"
   },
   {
    "duration": 12,
    "start_time": "2022-03-07T09:26:42.770Z"
   },
   {
    "duration": 4,
    "start_time": "2022-03-07T09:26:42.784Z"
   },
   {
    "duration": 11,
    "start_time": "2022-03-07T09:26:42.790Z"
   },
   {
    "duration": 24,
    "start_time": "2022-03-07T09:26:42.833Z"
   },
   {
    "duration": 30,
    "start_time": "2022-03-07T09:26:42.859Z"
   },
   {
    "duration": 10,
    "start_time": "2022-03-07T09:26:42.891Z"
   },
   {
    "duration": 34,
    "start_time": "2022-03-07T09:26:42.903Z"
   },
   {
    "duration": 8,
    "start_time": "2022-03-07T09:26:42.940Z"
   },
   {
    "duration": 11,
    "start_time": "2022-03-07T09:26:42.949Z"
   },
   {
    "duration": 11,
    "start_time": "2022-03-07T09:26:42.961Z"
   },
   {
    "duration": 5,
    "start_time": "2022-03-07T09:26:42.973Z"
   },
   {
    "duration": 10,
    "start_time": "2022-03-07T09:26:42.980Z"
   },
   {
    "duration": 43,
    "start_time": "2022-03-07T09:26:42.991Z"
   },
   {
    "duration": 15,
    "start_time": "2022-03-07T09:26:43.035Z"
   },
   {
    "duration": 10,
    "start_time": "2022-03-07T09:26:43.052Z"
   },
   {
    "duration": 15,
    "start_time": "2022-03-07T09:36:07.396Z"
   },
   {
    "duration": 10,
    "start_time": "2022-03-07T09:36:27.396Z"
   },
   {
    "duration": 9,
    "start_time": "2022-03-07T09:39:40.426Z"
   },
   {
    "duration": 696,
    "start_time": "2022-03-07T09:59:50.771Z"
   },
   {
    "duration": 150,
    "start_time": "2022-03-07T10:00:26.926Z"
   },
   {
    "duration": 129,
    "start_time": "2022-03-07T10:01:05.307Z"
   },
   {
    "duration": 124,
    "start_time": "2022-03-07T10:01:29.247Z"
   },
   {
    "duration": 12,
    "start_time": "2022-03-07T10:01:37.199Z"
   },
   {
    "duration": 12,
    "start_time": "2022-03-07T10:01:39.800Z"
   },
   {
    "duration": 20,
    "start_time": "2022-03-07T10:03:02.580Z"
   },
   {
    "duration": 18,
    "start_time": "2022-03-07T10:05:26.252Z"
   },
   {
    "duration": 16,
    "start_time": "2022-03-07T10:06:05.761Z"
   },
   {
    "duration": 16,
    "start_time": "2022-03-07T10:06:22.399Z"
   },
   {
    "duration": 8,
    "start_time": "2022-03-07T10:07:26.101Z"
   },
   {
    "duration": 537,
    "start_time": "2022-03-07T10:07:32.375Z"
   },
   {
    "duration": 50,
    "start_time": "2022-03-07T10:07:32.914Z"
   },
   {
    "duration": 20,
    "start_time": "2022-03-07T10:07:32.966Z"
   },
   {
    "duration": 11,
    "start_time": "2022-03-07T10:07:32.989Z"
   },
   {
    "duration": 35,
    "start_time": "2022-03-07T10:07:33.002Z"
   },
   {
    "duration": 10,
    "start_time": "2022-03-07T10:07:33.039Z"
   },
   {
    "duration": 5,
    "start_time": "2022-03-07T10:07:33.051Z"
   },
   {
    "duration": 7,
    "start_time": "2022-03-07T10:07:33.059Z"
   },
   {
    "duration": 3,
    "start_time": "2022-03-07T10:07:33.068Z"
   },
   {
    "duration": 87,
    "start_time": "2022-03-07T10:07:33.073Z"
   },
   {
    "duration": 10,
    "start_time": "2022-03-07T10:07:33.162Z"
   },
   {
    "duration": 14,
    "start_time": "2022-03-07T10:07:33.174Z"
   },
   {
    "duration": 4,
    "start_time": "2022-03-07T10:07:33.190Z"
   },
   {
    "duration": 38,
    "start_time": "2022-03-07T10:07:33.196Z"
   },
   {
    "duration": 34,
    "start_time": "2022-03-07T10:07:33.236Z"
   },
   {
    "duration": 11,
    "start_time": "2022-03-07T10:07:33.272Z"
   },
   {
    "duration": 6,
    "start_time": "2022-03-07T10:07:33.285Z"
   },
   {
    "duration": 14,
    "start_time": "2022-03-07T10:07:33.292Z"
   },
   {
    "duration": 47,
    "start_time": "2022-03-07T10:07:33.307Z"
   },
   {
    "duration": 30,
    "start_time": "2022-03-07T10:07:33.356Z"
   },
   {
    "duration": 10,
    "start_time": "2022-03-07T10:07:33.388Z"
   },
   {
    "duration": 34,
    "start_time": "2022-03-07T10:07:33.399Z"
   },
   {
    "duration": 8,
    "start_time": "2022-03-07T10:07:33.436Z"
   },
   {
    "duration": 10,
    "start_time": "2022-03-07T10:07:33.446Z"
   },
   {
    "duration": 10,
    "start_time": "2022-03-07T10:07:33.457Z"
   },
   {
    "duration": 5,
    "start_time": "2022-03-07T10:07:33.469Z"
   },
   {
    "duration": 12,
    "start_time": "2022-03-07T10:07:33.475Z"
   },
   {
    "duration": 7,
    "start_time": "2022-03-07T10:07:33.489Z"
   },
   {
    "duration": 48,
    "start_time": "2022-03-07T10:07:33.497Z"
   },
   {
    "duration": 12,
    "start_time": "2022-03-07T10:07:33.547Z"
   },
   {
    "duration": 14,
    "start_time": "2022-03-07T10:07:33.560Z"
   },
   {
    "duration": 8,
    "start_time": "2022-03-07T10:07:33.575Z"
   },
   {
    "duration": 13,
    "start_time": "2022-03-07T10:07:33.585Z"
   },
   {
    "duration": 15,
    "start_time": "2022-03-07T10:08:57.975Z"
   },
   {
    "duration": 16,
    "start_time": "2022-03-07T10:09:33.003Z"
   },
   {
    "duration": 536,
    "start_time": "2022-03-07T10:11:22.457Z"
   },
   {
    "duration": 49,
    "start_time": "2022-03-07T10:11:22.995Z"
   },
   {
    "duration": 19,
    "start_time": "2022-03-07T10:11:23.046Z"
   },
   {
    "duration": 11,
    "start_time": "2022-03-07T10:11:23.068Z"
   },
   {
    "duration": 15,
    "start_time": "2022-03-07T10:11:23.081Z"
   },
   {
    "duration": 10,
    "start_time": "2022-03-07T10:11:23.098Z"
   },
   {
    "duration": 8,
    "start_time": "2022-03-07T10:11:23.141Z"
   },
   {
    "duration": 8,
    "start_time": "2022-03-07T10:11:23.151Z"
   },
   {
    "duration": 3,
    "start_time": "2022-03-07T10:11:23.161Z"
   },
   {
    "duration": 57,
    "start_time": "2022-03-07T10:11:23.166Z"
   },
   {
    "duration": 24,
    "start_time": "2022-03-07T10:11:23.224Z"
   },
   {
    "duration": 15,
    "start_time": "2022-03-07T10:11:23.250Z"
   },
   {
    "duration": 11,
    "start_time": "2022-03-07T10:11:23.267Z"
   },
   {
    "duration": 12,
    "start_time": "2022-03-07T10:11:23.280Z"
   },
   {
    "duration": 50,
    "start_time": "2022-03-07T10:11:23.294Z"
   },
   {
    "duration": 10,
    "start_time": "2022-03-07T10:11:23.346Z"
   },
   {
    "duration": 7,
    "start_time": "2022-03-07T10:11:23.358Z"
   },
   {
    "duration": 12,
    "start_time": "2022-03-07T10:11:23.367Z"
   },
   {
    "duration": 37,
    "start_time": "2022-03-07T10:11:23.380Z"
   },
   {
    "duration": 38,
    "start_time": "2022-03-07T10:11:23.419Z"
   },
   {
    "duration": 11,
    "start_time": "2022-03-07T10:11:23.459Z"
   },
   {
    "duration": 10,
    "start_time": "2022-03-07T10:11:23.472Z"
   },
   {
    "duration": 9,
    "start_time": "2022-03-07T10:11:23.483Z"
   },
   {
    "duration": 43,
    "start_time": "2022-03-07T10:11:23.494Z"
   },
   {
    "duration": 13,
    "start_time": "2022-03-07T10:11:23.539Z"
   },
   {
    "duration": 6,
    "start_time": "2022-03-07T10:11:23.554Z"
   },
   {
    "duration": 10,
    "start_time": "2022-03-07T10:11:23.564Z"
   },
   {
    "duration": 9,
    "start_time": "2022-03-07T10:11:23.576Z"
   },
   {
    "duration": 55,
    "start_time": "2022-03-07T10:11:23.587Z"
   },
   {
    "duration": 11,
    "start_time": "2022-03-07T10:11:23.644Z"
   },
   {
    "duration": 10,
    "start_time": "2022-03-07T10:11:23.656Z"
   },
   {
    "duration": 7,
    "start_time": "2022-03-07T10:11:23.667Z"
   },
   {
    "duration": 14,
    "start_time": "2022-03-07T10:11:23.676Z"
   },
   {
    "duration": 11,
    "start_time": "2022-03-07T10:14:47.161Z"
   },
   {
    "duration": 21,
    "start_time": "2022-03-07T10:14:52.127Z"
   },
   {
    "duration": 16,
    "start_time": "2022-03-07T10:15:31.086Z"
   },
   {
    "duration": 24,
    "start_time": "2022-03-07T10:15:47.528Z"
   },
   {
    "duration": 15,
    "start_time": "2022-03-07T10:15:58.579Z"
   },
   {
    "duration": 10,
    "start_time": "2022-03-07T10:28:44.590Z"
   },
   {
    "duration": 9,
    "start_time": "2022-03-07T10:28:45.673Z"
   },
   {
    "duration": 563,
    "start_time": "2022-03-07T10:28:52.010Z"
   },
   {
    "duration": 43,
    "start_time": "2022-03-07T10:28:52.575Z"
   },
   {
    "duration": 32,
    "start_time": "2022-03-07T10:28:52.620Z"
   },
   {
    "duration": 12,
    "start_time": "2022-03-07T10:28:52.654Z"
   },
   {
    "duration": 12,
    "start_time": "2022-03-07T10:28:52.667Z"
   },
   {
    "duration": 8,
    "start_time": "2022-03-07T10:28:52.681Z"
   },
   {
    "duration": 5,
    "start_time": "2022-03-07T10:28:52.690Z"
   },
   {
    "duration": 36,
    "start_time": "2022-03-07T10:28:52.697Z"
   },
   {
    "duration": 5,
    "start_time": "2022-03-07T10:28:52.736Z"
   },
   {
    "duration": 62,
    "start_time": "2022-03-07T10:28:52.743Z"
   },
   {
    "duration": 9,
    "start_time": "2022-03-07T10:28:52.806Z"
   },
   {
    "duration": 30,
    "start_time": "2022-03-07T10:28:52.817Z"
   },
   {
    "duration": 6,
    "start_time": "2022-03-07T10:28:52.850Z"
   },
   {
    "duration": 13,
    "start_time": "2022-03-07T10:28:52.858Z"
   },
   {
    "duration": 33,
    "start_time": "2022-03-07T10:28:52.873Z"
   },
   {
    "duration": 33,
    "start_time": "2022-03-07T10:28:52.907Z"
   },
   {
    "duration": 4,
    "start_time": "2022-03-07T10:28:52.942Z"
   },
   {
    "duration": 16,
    "start_time": "2022-03-07T10:28:52.948Z"
   },
   {
    "duration": 22,
    "start_time": "2022-03-07T10:28:52.966Z"
   },
   {
    "duration": 60,
    "start_time": "2022-03-07T10:28:52.990Z"
   },
   {
    "duration": 11,
    "start_time": "2022-03-07T10:28:53.052Z"
   },
   {
    "duration": 9,
    "start_time": "2022-03-07T10:28:53.065Z"
   },
   {
    "duration": 8,
    "start_time": "2022-03-07T10:28:53.077Z"
   },
   {
    "duration": 12,
    "start_time": "2022-03-07T10:28:53.087Z"
   },
   {
    "duration": 37,
    "start_time": "2022-03-07T10:28:53.101Z"
   },
   {
    "duration": 7,
    "start_time": "2022-03-07T10:28:53.141Z"
   },
   {
    "duration": 14,
    "start_time": "2022-03-07T10:28:53.150Z"
   },
   {
    "duration": 7,
    "start_time": "2022-03-07T10:28:53.165Z"
   },
   {
    "duration": 15,
    "start_time": "2022-03-07T10:28:53.173Z"
   },
   {
    "duration": 10,
    "start_time": "2022-03-07T10:28:53.189Z"
   },
   {
    "duration": 37,
    "start_time": "2022-03-07T10:28:53.200Z"
   },
   {
    "duration": 17,
    "start_time": "2022-03-07T10:28:53.239Z"
   },
   {
    "duration": 13,
    "start_time": "2022-03-07T10:28:53.258Z"
   },
   {
    "duration": 202,
    "start_time": "2022-03-07T10:28:53.273Z"
   },
   {
    "duration": 14,
    "start_time": "2022-03-07T10:30:20.394Z"
   },
   {
    "duration": 27,
    "start_time": "2022-03-07T10:30:41.426Z"
   },
   {
    "duration": 136,
    "start_time": "2022-03-07T10:32:16.619Z"
   },
   {
    "duration": 21,
    "start_time": "2022-03-07T10:32:56.963Z"
   },
   {
    "duration": 11,
    "start_time": "2022-03-07T10:33:18.394Z"
   },
   {
    "duration": 26,
    "start_time": "2022-03-07T10:33:38.735Z"
   },
   {
    "duration": 554,
    "start_time": "2022-03-07T10:33:53.330Z"
   },
   {
    "duration": 55,
    "start_time": "2022-03-07T10:33:53.886Z"
   },
   {
    "duration": 21,
    "start_time": "2022-03-07T10:33:53.944Z"
   },
   {
    "duration": 15,
    "start_time": "2022-03-07T10:33:53.967Z"
   },
   {
    "duration": 14,
    "start_time": "2022-03-07T10:33:53.984Z"
   },
   {
    "duration": 44,
    "start_time": "2022-03-07T10:33:54.000Z"
   },
   {
    "duration": 13,
    "start_time": "2022-03-07T10:33:54.046Z"
   },
   {
    "duration": 8,
    "start_time": "2022-03-07T10:33:54.062Z"
   },
   {
    "duration": 3,
    "start_time": "2022-03-07T10:33:54.072Z"
   },
   {
    "duration": 81,
    "start_time": "2022-03-07T10:33:54.077Z"
   },
   {
    "duration": 10,
    "start_time": "2022-03-07T10:33:54.160Z"
   },
   {
    "duration": 20,
    "start_time": "2022-03-07T10:33:54.171Z"
   },
   {
    "duration": 5,
    "start_time": "2022-03-07T10:33:54.193Z"
   },
   {
    "duration": 12,
    "start_time": "2022-03-07T10:33:54.199Z"
   },
   {
    "duration": 57,
    "start_time": "2022-03-07T10:33:54.213Z"
   },
   {
    "duration": 11,
    "start_time": "2022-03-07T10:33:54.272Z"
   },
   {
    "duration": 6,
    "start_time": "2022-03-07T10:33:54.284Z"
   },
   {
    "duration": 16,
    "start_time": "2022-03-07T10:33:54.292Z"
   },
   {
    "duration": 42,
    "start_time": "2022-03-07T10:33:54.310Z"
   },
   {
    "duration": 30,
    "start_time": "2022-03-07T10:33:54.354Z"
   },
   {
    "duration": 10,
    "start_time": "2022-03-07T10:33:54.386Z"
   },
   {
    "duration": 8,
    "start_time": "2022-03-07T10:33:54.398Z"
   },
   {
    "duration": 33,
    "start_time": "2022-03-07T10:33:54.409Z"
   },
   {
    "duration": 16,
    "start_time": "2022-03-07T10:33:54.445Z"
   },
   {
    "duration": 11,
    "start_time": "2022-03-07T10:33:54.463Z"
   },
   {
    "duration": 5,
    "start_time": "2022-03-07T10:33:54.477Z"
   },
   {
    "duration": 16,
    "start_time": "2022-03-07T10:33:54.483Z"
   },
   {
    "duration": 35,
    "start_time": "2022-03-07T10:33:54.500Z"
   },
   {
    "duration": 22,
    "start_time": "2022-03-07T10:33:54.537Z"
   },
   {
    "duration": 13,
    "start_time": "2022-03-07T10:33:54.561Z"
   },
   {
    "duration": 11,
    "start_time": "2022-03-07T10:33:54.576Z"
   },
   {
    "duration": 17,
    "start_time": "2022-03-07T10:33:54.589Z"
   },
   {
    "duration": 34,
    "start_time": "2022-03-07T10:33:54.607Z"
   },
   {
    "duration": 31,
    "start_time": "2022-03-07T10:33:54.643Z"
   },
   {
    "duration": 18,
    "start_time": "2022-03-07T10:41:11.903Z"
   },
   {
    "duration": 19,
    "start_time": "2022-03-07T10:41:36.073Z"
   },
   {
    "duration": 11,
    "start_time": "2022-03-07T10:43:02.189Z"
   },
   {
    "duration": 19,
    "start_time": "2022-03-07T10:43:09.662Z"
   },
   {
    "duration": 19,
    "start_time": "2022-03-07T10:50:33.546Z"
   },
   {
    "duration": 19,
    "start_time": "2022-03-07T10:53:14.193Z"
   },
   {
    "duration": 23,
    "start_time": "2022-03-07T10:54:48.486Z"
   },
   {
    "duration": 6,
    "start_time": "2022-03-07T10:59:02.661Z"
   },
   {
    "duration": 25,
    "start_time": "2022-03-07T10:59:32.936Z"
   },
   {
    "duration": 4,
    "start_time": "2022-03-07T10:59:35.417Z"
   },
   {
    "duration": 4,
    "start_time": "2022-03-07T11:00:51.359Z"
   },
   {
    "duration": 4,
    "start_time": "2022-03-07T11:01:08.324Z"
   },
   {
    "duration": 4,
    "start_time": "2022-03-07T11:01:11.230Z"
   },
   {
    "duration": 8,
    "start_time": "2022-03-07T11:01:24.802Z"
   },
   {
    "duration": 5,
    "start_time": "2022-03-07T11:02:10.655Z"
   },
   {
    "duration": 8,
    "start_time": "2022-03-07T11:03:06.738Z"
   },
   {
    "duration": 9,
    "start_time": "2022-03-07T11:03:51.641Z"
   },
   {
    "duration": 185,
    "start_time": "2022-03-07T11:08:59.755Z"
   },
   {
    "duration": 3,
    "start_time": "2022-03-07T11:09:27.326Z"
   },
   {
    "duration": 3,
    "start_time": "2022-03-07T11:09:30.608Z"
   },
   {
    "duration": 7,
    "start_time": "2022-03-07T11:09:44.623Z"
   },
   {
    "duration": 143,
    "start_time": "2022-03-07T11:13:27.045Z"
   },
   {
    "duration": 9,
    "start_time": "2022-03-07T11:13:35.745Z"
   },
   {
    "duration": 10,
    "start_time": "2022-03-07T11:15:14.954Z"
   },
   {
    "duration": 10,
    "start_time": "2022-03-07T11:16:29.018Z"
   },
   {
    "duration": 139,
    "start_time": "2022-03-07T11:20:17.804Z"
   },
   {
    "duration": 21,
    "start_time": "2022-03-07T11:21:11.090Z"
   },
   {
    "duration": 11,
    "start_time": "2022-03-07T11:21:48.594Z"
   },
   {
    "duration": 20,
    "start_time": "2022-03-07T11:38:26.853Z"
   },
   {
    "duration": 140,
    "start_time": "2022-03-07T11:39:10.594Z"
   },
   {
    "duration": 20,
    "start_time": "2022-03-07T11:39:17.885Z"
   },
   {
    "duration": 15,
    "start_time": "2022-03-07T11:46:10.594Z"
   },
   {
    "duration": 9,
    "start_time": "2022-03-07T11:48:38.376Z"
   },
   {
    "duration": 3070,
    "start_time": "2022-03-07T11:50:51.864Z"
   },
   {
    "duration": 6,
    "start_time": "2022-03-07T11:51:38.117Z"
   },
   {
    "duration": 8,
    "start_time": "2022-03-07T11:52:18.057Z"
   },
   {
    "duration": 42,
    "start_time": "2022-03-07T11:52:50.569Z"
   },
   {
    "duration": 8,
    "start_time": "2022-03-07T11:52:54.130Z"
   },
   {
    "duration": 12,
    "start_time": "2022-03-07T11:53:39.560Z"
   },
   {
    "duration": 14,
    "start_time": "2022-03-07T11:54:14.652Z"
   },
   {
    "duration": 11,
    "start_time": "2022-03-07T11:54:26.393Z"
   },
   {
    "duration": 10,
    "start_time": "2022-03-07T11:54:29.546Z"
   },
   {
    "duration": 9,
    "start_time": "2022-03-07T11:56:05.012Z"
   },
   {
    "duration": 543,
    "start_time": "2022-03-07T11:56:12.008Z"
   },
   {
    "duration": 49,
    "start_time": "2022-03-07T11:56:12.553Z"
   },
   {
    "duration": 19,
    "start_time": "2022-03-07T11:56:12.604Z"
   },
   {
    "duration": 18,
    "start_time": "2022-03-07T11:56:12.625Z"
   },
   {
    "duration": 14,
    "start_time": "2022-03-07T11:56:12.645Z"
   },
   {
    "duration": 9,
    "start_time": "2022-03-07T11:56:12.661Z"
   },
   {
    "duration": 5,
    "start_time": "2022-03-07T11:56:12.671Z"
   },
   {
    "duration": 6,
    "start_time": "2022-03-07T11:56:12.679Z"
   },
   {
    "duration": 4,
    "start_time": "2022-03-07T11:56:12.687Z"
   },
   {
    "duration": 89,
    "start_time": "2022-03-07T11:56:12.692Z"
   },
   {
    "duration": 10,
    "start_time": "2022-03-07T11:56:12.782Z"
   },
   {
    "duration": 13,
    "start_time": "2022-03-07T11:56:12.793Z"
   },
   {
    "duration": 4,
    "start_time": "2022-03-07T11:56:12.807Z"
   },
   {
    "duration": 11,
    "start_time": "2022-03-07T11:56:12.833Z"
   },
   {
    "duration": 35,
    "start_time": "2022-03-07T11:56:12.845Z"
   },
   {
    "duration": 11,
    "start_time": "2022-03-07T11:56:12.882Z"
   },
   {
    "duration": 5,
    "start_time": "2022-03-07T11:56:12.894Z"
   },
   {
    "duration": 36,
    "start_time": "2022-03-07T11:56:12.900Z"
   },
   {
    "duration": 23,
    "start_time": "2022-03-07T11:56:12.938Z"
   },
   {
    "duration": 30,
    "start_time": "2022-03-07T11:56:12.962Z"
   },
   {
    "duration": 10,
    "start_time": "2022-03-07T11:56:12.994Z"
   },
   {
    "duration": 35,
    "start_time": "2022-03-07T11:56:13.005Z"
   },
   {
    "duration": 9,
    "start_time": "2022-03-07T11:56:13.043Z"
   },
   {
    "duration": 10,
    "start_time": "2022-03-07T11:56:13.054Z"
   },
   {
    "duration": 11,
    "start_time": "2022-03-07T11:56:13.065Z"
   },
   {
    "duration": 5,
    "start_time": "2022-03-07T11:56:13.077Z"
   },
   {
    "duration": 10,
    "start_time": "2022-03-07T11:56:13.083Z"
   },
   {
    "duration": 41,
    "start_time": "2022-03-07T11:56:13.094Z"
   },
   {
    "duration": 14,
    "start_time": "2022-03-07T11:56:13.137Z"
   },
   {
    "duration": 9,
    "start_time": "2022-03-07T11:56:13.153Z"
   },
   {
    "duration": 8,
    "start_time": "2022-03-07T11:56:13.164Z"
   },
   {
    "duration": 15,
    "start_time": "2022-03-07T11:56:13.174Z"
   },
   {
    "duration": 13,
    "start_time": "2022-03-07T11:56:13.191Z"
   },
   {
    "duration": 36,
    "start_time": "2022-03-07T11:56:13.206Z"
   },
   {
    "duration": 12,
    "start_time": "2022-03-07T11:56:13.244Z"
   },
   {
    "duration": 8,
    "start_time": "2022-03-07T11:56:13.257Z"
   },
   {
    "duration": 553,
    "start_time": "2022-03-07T11:56:58.419Z"
   },
   {
    "duration": 45,
    "start_time": "2022-03-07T11:56:58.974Z"
   },
   {
    "duration": 24,
    "start_time": "2022-03-07T11:56:59.021Z"
   },
   {
    "duration": 11,
    "start_time": "2022-03-07T11:56:59.047Z"
   },
   {
    "duration": 13,
    "start_time": "2022-03-07T11:56:59.060Z"
   },
   {
    "duration": 8,
    "start_time": "2022-03-07T11:56:59.075Z"
   },
   {
    "duration": 5,
    "start_time": "2022-03-07T11:56:59.084Z"
   },
   {
    "duration": 44,
    "start_time": "2022-03-07T11:56:59.091Z"
   },
   {
    "duration": 3,
    "start_time": "2022-03-07T11:56:59.137Z"
   },
   {
    "duration": 54,
    "start_time": "2022-03-07T11:56:59.141Z"
   },
   {
    "duration": 9,
    "start_time": "2022-03-07T11:56:59.197Z"
   },
   {
    "duration": 26,
    "start_time": "2022-03-07T11:56:59.208Z"
   },
   {
    "duration": 5,
    "start_time": "2022-03-07T11:56:59.235Z"
   },
   {
    "duration": 11,
    "start_time": "2022-03-07T11:56:59.242Z"
   },
   {
    "duration": 35,
    "start_time": "2022-03-07T11:56:59.255Z"
   },
   {
    "duration": 11,
    "start_time": "2022-03-07T11:56:59.291Z"
   },
   {
    "duration": 4,
    "start_time": "2022-03-07T11:56:59.332Z"
   },
   {
    "duration": 16,
    "start_time": "2022-03-07T11:56:59.337Z"
   },
   {
    "duration": 27,
    "start_time": "2022-03-07T11:56:59.355Z"
   },
   {
    "duration": 29,
    "start_time": "2022-03-07T11:56:59.384Z"
   },
   {
    "duration": 27,
    "start_time": "2022-03-07T11:56:59.414Z"
   },
   {
    "duration": 12,
    "start_time": "2022-03-07T11:56:59.443Z"
   },
   {
    "duration": 8,
    "start_time": "2022-03-07T11:56:59.459Z"
   },
   {
    "duration": 9,
    "start_time": "2022-03-07T11:56:59.470Z"
   },
   {
    "duration": 10,
    "start_time": "2022-03-07T11:56:59.481Z"
   },
   {
    "duration": 5,
    "start_time": "2022-03-07T11:56:59.492Z"
   },
   {
    "duration": 8,
    "start_time": "2022-03-07T11:56:59.533Z"
   },
   {
    "duration": 8,
    "start_time": "2022-03-07T11:56:59.543Z"
   },
   {
    "duration": 14,
    "start_time": "2022-03-07T11:56:59.552Z"
   },
   {
    "duration": 10,
    "start_time": "2022-03-07T11:56:59.567Z"
   },
   {
    "duration": 8,
    "start_time": "2022-03-07T11:56:59.579Z"
   },
   {
    "duration": 14,
    "start_time": "2022-03-07T11:56:59.589Z"
   },
   {
    "duration": 12,
    "start_time": "2022-03-07T11:56:59.632Z"
   },
   {
    "duration": 14,
    "start_time": "2022-03-07T11:56:59.646Z"
   },
   {
    "duration": 181,
    "start_time": "2022-03-07T11:56:59.661Z"
   },
   {
    "duration": 9,
    "start_time": "2022-03-07T11:57:18.451Z"
   },
   {
    "duration": 16,
    "start_time": "2022-03-07T11:57:55.356Z"
   },
   {
    "duration": 12,
    "start_time": "2022-03-07T11:59:52.489Z"
   },
   {
    "duration": 7,
    "start_time": "2022-03-07T12:21:07.630Z"
   },
   {
    "duration": 8,
    "start_time": "2022-03-07T12:21:11.003Z"
   },
   {
    "duration": 11,
    "start_time": "2022-03-07T12:21:23.278Z"
   },
   {
    "duration": 129,
    "start_time": "2022-03-07T12:21:53.315Z"
   },
   {
    "duration": 10,
    "start_time": "2022-03-07T12:22:19.347Z"
   },
   {
    "duration": 12,
    "start_time": "2022-03-07T12:22:30.933Z"
   },
   {
    "duration": 11,
    "start_time": "2022-03-07T12:23:23.690Z"
   },
   {
    "duration": 12,
    "start_time": "2022-03-07T12:23:30.286Z"
   },
   {
    "duration": 12,
    "start_time": "2022-03-07T12:23:31.083Z"
   },
   {
    "duration": 10,
    "start_time": "2022-03-07T12:23:51.617Z"
   },
   {
    "duration": 11,
    "start_time": "2022-03-07T12:24:02.601Z"
   },
   {
    "duration": 11,
    "start_time": "2022-03-07T12:24:04.075Z"
   },
   {
    "duration": 11,
    "start_time": "2022-03-07T12:30:07.886Z"
   },
   {
    "duration": 10,
    "start_time": "2022-03-07T12:30:08.907Z"
   },
   {
    "duration": 14,
    "start_time": "2022-03-07T13:01:33.628Z"
   },
   {
    "duration": 548,
    "start_time": "2022-03-07T13:05:15.716Z"
   },
   {
    "duration": 44,
    "start_time": "2022-03-07T13:05:16.267Z"
   },
   {
    "duration": 20,
    "start_time": "2022-03-07T13:05:16.314Z"
   },
   {
    "duration": 13,
    "start_time": "2022-03-07T13:05:16.336Z"
   },
   {
    "duration": 13,
    "start_time": "2022-03-07T13:05:16.350Z"
   },
   {
    "duration": 11,
    "start_time": "2022-03-07T13:05:16.364Z"
   },
   {
    "duration": 5,
    "start_time": "2022-03-07T13:05:16.377Z"
   },
   {
    "duration": 7,
    "start_time": "2022-03-07T13:05:16.384Z"
   },
   {
    "duration": 3,
    "start_time": "2022-03-07T13:05:16.393Z"
   },
   {
    "duration": 52,
    "start_time": "2022-03-07T13:05:16.432Z"
   },
   {
    "duration": 10,
    "start_time": "2022-03-07T13:05:16.486Z"
   },
   {
    "duration": 12,
    "start_time": "2022-03-07T13:05:16.498Z"
   },
   {
    "duration": 21,
    "start_time": "2022-03-07T13:05:16.512Z"
   },
   {
    "duration": 12,
    "start_time": "2022-03-07T13:05:16.535Z"
   },
   {
    "duration": 33,
    "start_time": "2022-03-07T13:05:16.549Z"
   },
   {
    "duration": 11,
    "start_time": "2022-03-07T13:05:16.583Z"
   },
   {
    "duration": 3,
    "start_time": "2022-03-07T13:05:16.595Z"
   },
   {
    "duration": 36,
    "start_time": "2022-03-07T13:05:16.600Z"
   },
   {
    "duration": 23,
    "start_time": "2022-03-07T13:05:16.638Z"
   },
   {
    "duration": 30,
    "start_time": "2022-03-07T13:05:16.663Z"
   },
   {
    "duration": 10,
    "start_time": "2022-03-07T13:05:16.694Z"
   },
   {
    "duration": 34,
    "start_time": "2022-03-07T13:05:16.706Z"
   },
   {
    "duration": 8,
    "start_time": "2022-03-07T13:05:16.742Z"
   },
   {
    "duration": 12,
    "start_time": "2022-03-07T13:05:16.752Z"
   },
   {
    "duration": 10,
    "start_time": "2022-03-07T13:05:16.766Z"
   },
   {
    "duration": 5,
    "start_time": "2022-03-07T13:05:16.778Z"
   },
   {
    "duration": 11,
    "start_time": "2022-03-07T13:05:16.785Z"
   },
   {
    "duration": 36,
    "start_time": "2022-03-07T13:05:16.798Z"
   },
   {
    "duration": 14,
    "start_time": "2022-03-07T13:05:16.835Z"
   },
   {
    "duration": 11,
    "start_time": "2022-03-07T13:05:16.850Z"
   },
   {
    "duration": 10,
    "start_time": "2022-03-07T13:05:16.863Z"
   },
   {
    "duration": 19,
    "start_time": "2022-03-07T13:05:16.874Z"
   },
   {
    "duration": 12,
    "start_time": "2022-03-07T13:05:16.894Z"
   },
   {
    "duration": 15,
    "start_time": "2022-03-07T13:05:16.933Z"
   },
   {
    "duration": 10,
    "start_time": "2022-03-07T13:05:16.949Z"
   },
   {
    "duration": 11,
    "start_time": "2022-03-07T13:05:16.961Z"
   },
   {
    "duration": 9,
    "start_time": "2022-03-07T13:05:16.974Z"
   },
   {
    "duration": 50,
    "start_time": "2022-03-07T13:05:16.984Z"
   },
   {
    "duration": 15,
    "start_time": "2022-03-07T13:20:18.274Z"
   },
   {
    "duration": 13,
    "start_time": "2022-03-07T13:20:59.518Z"
   },
   {
    "duration": 13,
    "start_time": "2022-03-07T13:21:24.976Z"
   },
   {
    "duration": 12,
    "start_time": "2022-03-07T13:21:46.794Z"
   },
   {
    "duration": 9,
    "start_time": "2022-03-07T13:22:57.939Z"
   },
   {
    "duration": 10,
    "start_time": "2022-03-07T13:23:22.374Z"
   },
   {
    "duration": 551,
    "start_time": "2022-03-07T13:27:32.008Z"
   },
   {
    "duration": 43,
    "start_time": "2022-03-07T13:27:32.561Z"
   },
   {
    "duration": 32,
    "start_time": "2022-03-07T13:27:32.606Z"
   },
   {
    "duration": 10,
    "start_time": "2022-03-07T13:27:32.640Z"
   },
   {
    "duration": 13,
    "start_time": "2022-03-07T13:27:32.652Z"
   },
   {
    "duration": 10,
    "start_time": "2022-03-07T13:27:32.666Z"
   },
   {
    "duration": 8,
    "start_time": "2022-03-07T13:27:32.678Z"
   },
   {
    "duration": 8,
    "start_time": "2022-03-07T13:27:32.689Z"
   },
   {
    "duration": 35,
    "start_time": "2022-03-07T13:27:32.699Z"
   },
   {
    "duration": 69,
    "start_time": "2022-03-07T13:27:32.736Z"
   },
   {
    "duration": 9,
    "start_time": "2022-03-07T13:27:32.807Z"
   },
   {
    "duration": 22,
    "start_time": "2022-03-07T13:27:32.817Z"
   },
   {
    "duration": 7,
    "start_time": "2022-03-07T13:27:32.841Z"
   },
   {
    "duration": 14,
    "start_time": "2022-03-07T13:27:32.849Z"
   },
   {
    "duration": 37,
    "start_time": "2022-03-07T13:27:32.864Z"
   },
   {
    "duration": 30,
    "start_time": "2022-03-07T13:27:32.903Z"
   },
   {
    "duration": 3,
    "start_time": "2022-03-07T13:27:32.934Z"
   },
   {
    "duration": 14,
    "start_time": "2022-03-07T13:27:32.939Z"
   },
   {
    "duration": 25,
    "start_time": "2022-03-07T13:27:32.954Z"
   },
   {
    "duration": 29,
    "start_time": "2022-03-07T13:27:32.980Z"
   },
   {
    "duration": 27,
    "start_time": "2022-03-07T13:27:33.011Z"
   },
   {
    "duration": 9,
    "start_time": "2022-03-07T13:27:33.039Z"
   },
   {
    "duration": 7,
    "start_time": "2022-03-07T13:27:33.052Z"
   },
   {
    "duration": 11,
    "start_time": "2022-03-07T13:27:33.061Z"
   },
   {
    "duration": 10,
    "start_time": "2022-03-07T13:27:33.074Z"
   },
   {
    "duration": 5,
    "start_time": "2022-03-07T13:27:33.086Z"
   },
   {
    "duration": 46,
    "start_time": "2022-03-07T13:27:33.093Z"
   },
   {
    "duration": 6,
    "start_time": "2022-03-07T13:27:33.141Z"
   },
   {
    "duration": 14,
    "start_time": "2022-03-07T13:27:33.149Z"
   },
   {
    "duration": 10,
    "start_time": "2022-03-07T13:27:33.164Z"
   },
   {
    "duration": 9,
    "start_time": "2022-03-07T13:27:33.175Z"
   },
   {
    "duration": 48,
    "start_time": "2022-03-07T13:27:33.185Z"
   },
   {
    "duration": 11,
    "start_time": "2022-03-07T13:27:33.235Z"
   },
   {
    "duration": 14,
    "start_time": "2022-03-07T13:27:33.247Z"
   },
   {
    "duration": 17,
    "start_time": "2022-03-07T13:27:33.262Z"
   },
   {
    "duration": 27,
    "start_time": "2022-03-07T13:27:33.281Z"
   },
   {
    "duration": 9,
    "start_time": "2022-03-07T13:27:33.310Z"
   },
   {
    "duration": 14,
    "start_time": "2022-03-07T13:27:33.333Z"
   },
   {
    "duration": 14,
    "start_time": "2022-03-07T13:27:33.349Z"
   },
   {
    "duration": 14,
    "start_time": "2022-03-07T13:28:22.612Z"
   },
   {
    "duration": 171,
    "start_time": "2022-03-08T11:07:27.697Z"
   },
   {
    "duration": 496,
    "start_time": "2022-03-08T11:07:32.198Z"
   },
   {
    "duration": 49,
    "start_time": "2022-03-08T11:07:33.335Z"
   },
   {
    "duration": 21,
    "start_time": "2022-03-08T11:07:34.779Z"
   },
   {
    "duration": 14,
    "start_time": "2022-03-08T11:07:51.350Z"
   },
   {
    "duration": 13,
    "start_time": "2022-03-08T11:08:53.207Z"
   },
   {
    "duration": 8,
    "start_time": "2022-03-08T11:10:11.619Z"
   },
   {
    "duration": 3,
    "start_time": "2022-03-08T11:10:12.255Z"
   },
   {
    "duration": 52,
    "start_time": "2022-03-08T11:10:30.309Z"
   },
   {
    "duration": 11,
    "start_time": "2022-03-08T11:10:31.869Z"
   },
   {
    "duration": 14,
    "start_time": "2022-03-08T11:10:34.600Z"
   },
   {
    "duration": 12,
    "start_time": "2022-03-08T11:12:01.302Z"
   },
   {
    "duration": 35,
    "start_time": "2022-03-08T11:12:04.386Z"
   },
   {
    "duration": 513,
    "start_time": "2022-03-08T11:12:12.062Z"
   },
   {
    "duration": 49,
    "start_time": "2022-03-08T11:12:12.577Z"
   },
   {
    "duration": 21,
    "start_time": "2022-03-08T11:12:12.628Z"
   },
   {
    "duration": 11,
    "start_time": "2022-03-08T11:12:12.651Z"
   },
   {
    "duration": 13,
    "start_time": "2022-03-08T11:12:12.664Z"
   },
   {
    "duration": 9,
    "start_time": "2022-03-08T11:12:12.679Z"
   },
   {
    "duration": 5,
    "start_time": "2022-03-08T11:12:12.689Z"
   },
   {
    "duration": 45,
    "start_time": "2022-03-08T11:12:12.696Z"
   },
   {
    "duration": 3,
    "start_time": "2022-03-08T11:12:12.743Z"
   },
   {
    "duration": 55,
    "start_time": "2022-03-08T11:12:12.747Z"
   },
   {
    "duration": 9,
    "start_time": "2022-03-08T11:12:12.804Z"
   },
   {
    "duration": 31,
    "start_time": "2022-03-08T11:12:12.814Z"
   },
   {
    "duration": 4,
    "start_time": "2022-03-08T11:12:12.846Z"
   },
   {
    "duration": 10,
    "start_time": "2022-03-08T11:12:12.852Z"
   },
   {
    "duration": 33,
    "start_time": "2022-03-08T11:12:12.864Z"
   },
   {
    "duration": 35,
    "start_time": "2022-03-08T11:12:12.899Z"
   },
   {
    "duration": 5,
    "start_time": "2022-03-08T11:12:12.935Z"
   },
   {
    "duration": 13,
    "start_time": "2022-03-08T11:12:12.942Z"
   },
   {
    "duration": 21,
    "start_time": "2022-03-08T11:12:12.957Z"
   },
   {
    "duration": 54,
    "start_time": "2022-03-08T11:12:12.980Z"
   },
   {
    "duration": 11,
    "start_time": "2022-03-08T11:12:13.035Z"
   },
   {
    "duration": 11,
    "start_time": "2022-03-08T11:12:13.048Z"
   },
   {
    "duration": 7,
    "start_time": "2022-03-08T11:12:13.062Z"
   },
   {
    "duration": 10,
    "start_time": "2022-03-08T11:12:13.071Z"
   },
   {
    "duration": 11,
    "start_time": "2022-03-08T11:12:13.083Z"
   },
   {
    "duration": 38,
    "start_time": "2022-03-08T11:12:13.095Z"
   },
   {
    "duration": 8,
    "start_time": "2022-03-08T11:12:13.135Z"
   },
   {
    "duration": 8,
    "start_time": "2022-03-08T11:12:13.145Z"
   },
   {
    "duration": 15,
    "start_time": "2022-03-08T11:12:13.154Z"
   },
   {
    "duration": 13,
    "start_time": "2022-03-08T11:12:13.171Z"
   },
   {
    "duration": 12,
    "start_time": "2022-03-08T11:12:13.186Z"
   },
   {
    "duration": 43,
    "start_time": "2022-03-08T11:12:13.199Z"
   },
   {
    "duration": 14,
    "start_time": "2022-03-08T11:12:13.244Z"
   },
   {
    "duration": 14,
    "start_time": "2022-03-08T11:12:13.260Z"
   },
   {
    "duration": 8,
    "start_time": "2022-03-08T11:12:13.275Z"
   },
   {
    "duration": 9,
    "start_time": "2022-03-08T11:12:13.285Z"
   },
   {
    "duration": 8,
    "start_time": "2022-03-08T11:12:13.296Z"
   },
   {
    "duration": 39,
    "start_time": "2022-03-08T11:12:13.306Z"
   },
   {
    "duration": 14,
    "start_time": "2022-03-08T11:12:13.346Z"
   },
   {
    "duration": 8,
    "start_time": "2022-03-08T11:17:12.885Z"
   },
   {
    "duration": 14,
    "start_time": "2022-03-08T11:20:22.723Z"
   },
   {
    "duration": 22,
    "start_time": "2022-03-08T11:21:17.759Z"
   },
   {
    "duration": 543,
    "start_time": "2022-03-08T11:21:25.146Z"
   },
   {
    "duration": 49,
    "start_time": "2022-03-08T11:21:25.691Z"
   },
   {
    "duration": 22,
    "start_time": "2022-03-08T11:21:25.742Z"
   },
   {
    "duration": 11,
    "start_time": "2022-03-08T11:21:25.765Z"
   },
   {
    "duration": 14,
    "start_time": "2022-03-08T11:21:25.777Z"
   },
   {
    "duration": 9,
    "start_time": "2022-03-08T11:21:25.793Z"
   },
   {
    "duration": 42,
    "start_time": "2022-03-08T11:21:25.804Z"
   },
   {
    "duration": 8,
    "start_time": "2022-03-08T11:21:25.848Z"
   },
   {
    "duration": 3,
    "start_time": "2022-03-08T11:21:25.858Z"
   },
   {
    "duration": 55,
    "start_time": "2022-03-08T11:21:25.863Z"
   },
   {
    "duration": 31,
    "start_time": "2022-03-08T11:21:25.920Z"
   },
   {
    "duration": 13,
    "start_time": "2022-03-08T11:21:25.953Z"
   },
   {
    "duration": 4,
    "start_time": "2022-03-08T11:21:25.967Z"
   },
   {
    "duration": 13,
    "start_time": "2022-03-08T11:21:25.972Z"
   },
   {
    "duration": 57,
    "start_time": "2022-03-08T11:21:25.987Z"
   },
   {
    "duration": 11,
    "start_time": "2022-03-08T11:21:26.046Z"
   },
   {
    "duration": 4,
    "start_time": "2022-03-08T11:21:26.058Z"
   },
   {
    "duration": 12,
    "start_time": "2022-03-08T11:21:26.064Z"
   },
   {
    "duration": 22,
    "start_time": "2022-03-08T11:21:26.077Z"
   },
   {
    "duration": 51,
    "start_time": "2022-03-08T11:21:26.100Z"
   },
   {
    "duration": 10,
    "start_time": "2022-03-08T11:21:26.152Z"
   },
   {
    "duration": 11,
    "start_time": "2022-03-08T11:21:26.164Z"
   },
   {
    "duration": 9,
    "start_time": "2022-03-08T11:21:26.176Z"
   },
   {
    "duration": 11,
    "start_time": "2022-03-08T11:21:26.187Z"
   },
   {
    "duration": 48,
    "start_time": "2022-03-08T11:21:26.199Z"
   },
   {
    "duration": 6,
    "start_time": "2022-03-08T11:21:26.249Z"
   },
   {
    "duration": 10,
    "start_time": "2022-03-08T11:21:26.258Z"
   },
   {
    "duration": 9,
    "start_time": "2022-03-08T11:21:26.270Z"
   },
   {
    "duration": 15,
    "start_time": "2022-03-08T11:21:26.280Z"
   },
   {
    "duration": 13,
    "start_time": "2022-03-08T11:21:26.297Z"
   },
   {
    "duration": 36,
    "start_time": "2022-03-08T11:21:26.312Z"
   },
   {
    "duration": 15,
    "start_time": "2022-03-08T11:21:26.350Z"
   },
   {
    "duration": 13,
    "start_time": "2022-03-08T11:21:26.367Z"
   },
   {
    "duration": 14,
    "start_time": "2022-03-08T11:21:26.382Z"
   },
   {
    "duration": 41,
    "start_time": "2022-03-08T11:21:26.398Z"
   },
   {
    "duration": 14,
    "start_time": "2022-03-08T11:21:26.441Z"
   },
   {
    "duration": 9,
    "start_time": "2022-03-08T11:21:26.457Z"
   },
   {
    "duration": 16,
    "start_time": "2022-03-08T11:21:26.468Z"
   },
   {
    "duration": 13,
    "start_time": "2022-03-08T11:21:26.486Z"
   },
   {
    "duration": 16,
    "start_time": "2022-03-08T11:23:59.218Z"
   },
   {
    "duration": 510,
    "start_time": "2022-03-08T11:24:26.157Z"
   },
   {
    "duration": 45,
    "start_time": "2022-03-08T11:24:26.669Z"
   },
   {
    "duration": 26,
    "start_time": "2022-03-08T11:24:26.718Z"
   },
   {
    "duration": 10,
    "start_time": "2022-03-08T11:24:26.746Z"
   },
   {
    "duration": 13,
    "start_time": "2022-03-08T11:24:26.757Z"
   },
   {
    "duration": 10,
    "start_time": "2022-03-08T11:24:26.772Z"
   },
   {
    "duration": 6,
    "start_time": "2022-03-08T11:24:26.784Z"
   },
   {
    "duration": 8,
    "start_time": "2022-03-08T11:24:26.791Z"
   },
   {
    "duration": 4,
    "start_time": "2022-03-08T11:24:26.833Z"
   },
   {
    "duration": 52,
    "start_time": "2022-03-08T11:24:26.838Z"
   },
   {
    "duration": 9,
    "start_time": "2022-03-08T11:24:26.892Z"
   },
   {
    "duration": 31,
    "start_time": "2022-03-08T11:24:26.903Z"
   },
   {
    "duration": 4,
    "start_time": "2022-03-08T11:24:26.935Z"
   },
   {
    "duration": 13,
    "start_time": "2022-03-08T11:24:26.941Z"
   },
   {
    "duration": 35,
    "start_time": "2022-03-08T11:24:26.955Z"
   },
   {
    "duration": 11,
    "start_time": "2022-03-08T11:24:26.992Z"
   },
   {
    "duration": 4,
    "start_time": "2022-03-08T11:24:27.033Z"
   },
   {
    "duration": 11,
    "start_time": "2022-03-08T11:24:27.039Z"
   },
   {
    "duration": 24,
    "start_time": "2022-03-08T11:24:27.052Z"
   },
   {
    "duration": 55,
    "start_time": "2022-03-08T11:24:27.078Z"
   },
   {
    "duration": 11,
    "start_time": "2022-03-08T11:24:27.135Z"
   },
   {
    "duration": 16,
    "start_time": "2022-03-08T11:24:27.149Z"
   },
   {
    "duration": 11,
    "start_time": "2022-03-08T11:24:27.167Z"
   },
   {
    "duration": 14,
    "start_time": "2022-03-08T11:24:27.180Z"
   },
   {
    "duration": 11,
    "start_time": "2022-03-08T11:24:27.195Z"
   },
   {
    "duration": 25,
    "start_time": "2022-03-08T11:24:27.208Z"
   },
   {
    "duration": 11,
    "start_time": "2022-03-08T11:24:27.235Z"
   },
   {
    "duration": 9,
    "start_time": "2022-03-08T11:24:27.247Z"
   },
   {
    "duration": 15,
    "start_time": "2022-03-08T11:24:27.258Z"
   },
   {
    "duration": 10,
    "start_time": "2022-03-08T11:24:27.274Z"
   },
   {
    "duration": 10,
    "start_time": "2022-03-08T11:24:27.286Z"
   },
   {
    "duration": 49,
    "start_time": "2022-03-08T11:24:27.298Z"
   },
   {
    "duration": 12,
    "start_time": "2022-03-08T11:24:27.349Z"
   },
   {
    "duration": 13,
    "start_time": "2022-03-08T11:24:27.363Z"
   },
   {
    "duration": 9,
    "start_time": "2022-03-08T11:24:27.378Z"
   },
   {
    "duration": 49,
    "start_time": "2022-03-08T11:24:27.389Z"
   },
   {
    "duration": 9,
    "start_time": "2022-03-08T11:24:27.439Z"
   },
   {
    "duration": 15,
    "start_time": "2022-03-08T11:24:27.449Z"
   },
   {
    "duration": 12,
    "start_time": "2022-03-08T11:24:27.466Z"
   },
   {
    "duration": 49,
    "start_time": "2022-03-08T11:31:11.087Z"
   },
   {
    "duration": 46,
    "start_time": "2022-03-08T11:31:40.323Z"
   },
   {
    "duration": 26,
    "start_time": "2022-03-08T11:31:56.483Z"
   },
   {
    "duration": 27,
    "start_time": "2022-03-08T11:32:02.384Z"
   },
   {
    "duration": 29,
    "start_time": "2022-03-08T11:32:19.205Z"
   },
   {
    "duration": 28,
    "start_time": "2022-03-08T11:33:01.227Z"
   },
   {
    "duration": 192,
    "start_time": "2022-03-08T11:33:52.300Z"
   },
   {
    "duration": 11,
    "start_time": "2022-03-08T11:34:06.359Z"
   },
   {
    "duration": 546,
    "start_time": "2022-03-08T11:47:33.607Z"
   },
   {
    "duration": 44,
    "start_time": "2022-03-08T11:47:34.154Z"
   },
   {
    "duration": 21,
    "start_time": "2022-03-08T11:47:34.200Z"
   },
   {
    "duration": 11,
    "start_time": "2022-03-08T11:47:34.233Z"
   },
   {
    "duration": 12,
    "start_time": "2022-03-08T11:47:34.246Z"
   },
   {
    "duration": 8,
    "start_time": "2022-03-08T11:47:34.260Z"
   },
   {
    "duration": 6,
    "start_time": "2022-03-08T11:47:34.269Z"
   },
   {
    "duration": 10,
    "start_time": "2022-03-08T11:47:34.277Z"
   },
   {
    "duration": 3,
    "start_time": "2022-03-08T11:47:34.289Z"
   },
   {
    "duration": 90,
    "start_time": "2022-03-08T11:47:34.293Z"
   },
   {
    "duration": 9,
    "start_time": "2022-03-08T11:47:34.385Z"
   },
   {
    "duration": 12,
    "start_time": "2022-03-08T11:47:34.396Z"
   },
   {
    "duration": 24,
    "start_time": "2022-03-08T11:47:34.409Z"
   },
   {
    "duration": 13,
    "start_time": "2022-03-08T11:47:34.434Z"
   },
   {
    "duration": 33,
    "start_time": "2022-03-08T11:47:34.449Z"
   },
   {
    "duration": 10,
    "start_time": "2022-03-08T11:47:34.483Z"
   },
   {
    "duration": 5,
    "start_time": "2022-03-08T11:47:34.495Z"
   },
   {
    "duration": 33,
    "start_time": "2022-03-08T11:47:34.501Z"
   },
   {
    "duration": 22,
    "start_time": "2022-03-08T11:47:34.536Z"
   },
   {
    "duration": 28,
    "start_time": "2022-03-08T11:47:34.560Z"
   },
   {
    "duration": 10,
    "start_time": "2022-03-08T11:47:34.590Z"
   },
   {
    "duration": 31,
    "start_time": "2022-03-08T11:47:34.602Z"
   },
   {
    "duration": 8,
    "start_time": "2022-03-08T11:47:34.637Z"
   },
   {
    "duration": 10,
    "start_time": "2022-03-08T11:47:34.646Z"
   },
   {
    "duration": 10,
    "start_time": "2022-03-08T11:47:34.658Z"
   },
   {
    "duration": 5,
    "start_time": "2022-03-08T11:47:34.669Z"
   },
   {
    "duration": 11,
    "start_time": "2022-03-08T11:47:34.675Z"
   },
   {
    "duration": 13,
    "start_time": "2022-03-08T11:47:34.687Z"
   },
   {
    "duration": 15,
    "start_time": "2022-03-08T11:47:34.733Z"
   },
   {
    "duration": 11,
    "start_time": "2022-03-08T11:47:34.749Z"
   },
   {
    "duration": 9,
    "start_time": "2022-03-08T11:47:34.761Z"
   },
   {
    "duration": 13,
    "start_time": "2022-03-08T11:47:34.772Z"
   },
   {
    "duration": 13,
    "start_time": "2022-03-08T11:47:34.787Z"
   },
   {
    "duration": 54,
    "start_time": "2022-03-08T11:47:34.802Z"
   },
   {
    "duration": 10,
    "start_time": "2022-03-08T11:47:34.858Z"
   },
   {
    "duration": 9,
    "start_time": "2022-03-08T11:47:34.869Z"
   },
   {
    "duration": 11,
    "start_time": "2022-03-08T11:47:34.879Z"
   },
   {
    "duration": 42,
    "start_time": "2022-03-08T11:47:34.891Z"
   },
   {
    "duration": 15,
    "start_time": "2022-03-08T11:47:34.935Z"
   },
   {
    "duration": 15,
    "start_time": "2022-03-08T11:47:34.952Z"
   },
   {
    "duration": 24,
    "start_time": "2022-03-08T11:52:22.841Z"
   },
   {
    "duration": 558,
    "start_time": "2022-03-08T11:52:43.317Z"
   },
   {
    "duration": 44,
    "start_time": "2022-03-08T11:52:43.877Z"
   },
   {
    "duration": 21,
    "start_time": "2022-03-08T11:52:43.923Z"
   },
   {
    "duration": 12,
    "start_time": "2022-03-08T11:52:43.945Z"
   },
   {
    "duration": 13,
    "start_time": "2022-03-08T11:52:43.959Z"
   },
   {
    "duration": 9,
    "start_time": "2022-03-08T11:52:43.973Z"
   },
   {
    "duration": 6,
    "start_time": "2022-03-08T11:52:43.984Z"
   },
   {
    "duration": 42,
    "start_time": "2022-03-08T11:52:43.992Z"
   },
   {
    "duration": 3,
    "start_time": "2022-03-08T11:52:44.036Z"
   },
   {
    "duration": 57,
    "start_time": "2022-03-08T11:52:44.040Z"
   },
   {
    "duration": 10,
    "start_time": "2022-03-08T11:52:44.098Z"
   },
   {
    "duration": 29,
    "start_time": "2022-03-08T11:52:44.109Z"
   },
   {
    "duration": 4,
    "start_time": "2022-03-08T11:52:44.140Z"
   },
   {
    "duration": 10,
    "start_time": "2022-03-08T11:52:44.145Z"
   },
   {
    "duration": 33,
    "start_time": "2022-03-08T11:52:44.157Z"
   },
   {
    "duration": 11,
    "start_time": "2022-03-08T11:52:44.191Z"
   },
   {
    "duration": 5,
    "start_time": "2022-03-08T11:52:44.204Z"
   },
   {
    "duration": 31,
    "start_time": "2022-03-08T11:52:44.210Z"
   },
   {
    "duration": 23,
    "start_time": "2022-03-08T11:52:44.243Z"
   },
   {
    "duration": 29,
    "start_time": "2022-03-08T11:52:44.267Z"
   },
   {
    "duration": 35,
    "start_time": "2022-03-08T11:52:44.298Z"
   },
   {
    "duration": 10,
    "start_time": "2022-03-08T11:52:44.334Z"
   },
   {
    "duration": 8,
    "start_time": "2022-03-08T11:52:44.346Z"
   },
   {
    "duration": 15,
    "start_time": "2022-03-08T11:52:44.355Z"
   },
   {
    "duration": 11,
    "start_time": "2022-03-08T11:52:44.371Z"
   },
   {
    "duration": 5,
    "start_time": "2022-03-08T11:52:44.383Z"
   },
   {
    "duration": 44,
    "start_time": "2022-03-08T11:52:44.389Z"
   },
   {
    "duration": 6,
    "start_time": "2022-03-08T11:52:44.435Z"
   },
   {
    "duration": 15,
    "start_time": "2022-03-08T11:52:44.443Z"
   },
   {
    "duration": 10,
    "start_time": "2022-03-08T11:52:44.460Z"
   },
   {
    "duration": 8,
    "start_time": "2022-03-08T11:52:44.472Z"
   },
   {
    "duration": 14,
    "start_time": "2022-03-08T11:52:44.482Z"
   },
   {
    "duration": 40,
    "start_time": "2022-03-08T11:52:44.497Z"
   },
   {
    "duration": 25,
    "start_time": "2022-03-08T11:52:44.539Z"
   },
   {
    "duration": 10,
    "start_time": "2022-03-08T11:52:44.566Z"
   },
   {
    "duration": 8,
    "start_time": "2022-03-08T11:52:44.577Z"
   },
   {
    "duration": 9,
    "start_time": "2022-03-08T11:52:44.587Z"
   },
   {
    "duration": 42,
    "start_time": "2022-03-08T11:52:44.597Z"
   },
   {
    "duration": 13,
    "start_time": "2022-03-08T11:52:44.640Z"
   },
   {
    "duration": 14,
    "start_time": "2022-03-08T11:52:44.654Z"
   },
   {
    "duration": 511,
    "start_time": "2022-03-08T11:53:47.602Z"
   },
   {
    "duration": 44,
    "start_time": "2022-03-08T11:53:48.115Z"
   },
   {
    "duration": 21,
    "start_time": "2022-03-08T11:53:48.161Z"
   },
   {
    "duration": 10,
    "start_time": "2022-03-08T11:53:48.184Z"
   },
   {
    "duration": 14,
    "start_time": "2022-03-08T11:53:48.196Z"
   },
   {
    "duration": 30,
    "start_time": "2022-03-08T11:53:48.211Z"
   },
   {
    "duration": 5,
    "start_time": "2022-03-08T11:53:48.243Z"
   },
   {
    "duration": 7,
    "start_time": "2022-03-08T11:53:48.251Z"
   },
   {
    "duration": 6,
    "start_time": "2022-03-08T11:53:48.260Z"
   },
   {
    "duration": 78,
    "start_time": "2022-03-08T11:53:48.268Z"
   },
   {
    "duration": 10,
    "start_time": "2022-03-08T11:53:48.348Z"
   },
   {
    "duration": 15,
    "start_time": "2022-03-08T11:53:48.359Z"
   },
   {
    "duration": 5,
    "start_time": "2022-03-08T11:53:48.375Z"
   },
   {
    "duration": 12,
    "start_time": "2022-03-08T11:53:48.381Z"
   },
   {
    "duration": 53,
    "start_time": "2022-03-08T11:53:48.395Z"
   },
   {
    "duration": 11,
    "start_time": "2022-03-08T11:53:48.450Z"
   },
   {
    "duration": 6,
    "start_time": "2022-03-08T11:53:48.462Z"
   },
   {
    "duration": 12,
    "start_time": "2022-03-08T11:53:48.470Z"
   },
   {
    "duration": 24,
    "start_time": "2022-03-08T11:53:48.483Z"
   },
   {
    "duration": 51,
    "start_time": "2022-03-08T11:53:48.509Z"
   },
   {
    "duration": 10,
    "start_time": "2022-03-08T11:53:48.562Z"
   },
   {
    "duration": 11,
    "start_time": "2022-03-08T11:53:48.574Z"
   },
   {
    "duration": 7,
    "start_time": "2022-03-08T11:53:48.588Z"
   },
   {
    "duration": 39,
    "start_time": "2022-03-08T11:53:48.597Z"
   },
   {
    "duration": 11,
    "start_time": "2022-03-08T11:53:48.637Z"
   },
   {
    "duration": 5,
    "start_time": "2022-03-08T11:53:48.649Z"
   },
   {
    "duration": 9,
    "start_time": "2022-03-08T11:53:48.656Z"
   },
   {
    "duration": 7,
    "start_time": "2022-03-08T11:53:48.667Z"
   },
   {
    "duration": 14,
    "start_time": "2022-03-08T11:53:48.675Z"
   },
   {
    "duration": 44,
    "start_time": "2022-03-08T11:53:48.690Z"
   },
   {
    "duration": 10,
    "start_time": "2022-03-08T11:53:48.736Z"
   },
   {
    "duration": 14,
    "start_time": "2022-03-08T11:53:48.747Z"
   },
   {
    "duration": 13,
    "start_time": "2022-03-08T11:53:48.763Z"
   },
   {
    "duration": 55,
    "start_time": "2022-03-08T11:53:48.778Z"
   },
   {
    "duration": 12,
    "start_time": "2022-03-08T11:53:48.835Z"
   },
   {
    "duration": 9,
    "start_time": "2022-03-08T11:53:48.849Z"
   },
   {
    "duration": 11,
    "start_time": "2022-03-08T11:53:48.859Z"
   },
   {
    "duration": 9,
    "start_time": "2022-03-08T11:53:48.871Z"
   },
   {
    "duration": 15,
    "start_time": "2022-03-08T11:53:48.882Z"
   },
   {
    "duration": 48,
    "start_time": "2022-03-08T11:53:48.898Z"
   },
   {
    "duration": 24,
    "start_time": "2022-03-08T11:56:02.974Z"
   },
   {
    "duration": 23,
    "start_time": "2022-03-08T11:56:31.190Z"
   },
   {
    "duration": 559,
    "start_time": "2022-03-08T11:56:39.429Z"
   },
   {
    "duration": 48,
    "start_time": "2022-03-08T11:56:39.990Z"
   },
   {
    "duration": 20,
    "start_time": "2022-03-08T11:56:40.040Z"
   },
   {
    "duration": 10,
    "start_time": "2022-03-08T11:56:40.062Z"
   },
   {
    "duration": 17,
    "start_time": "2022-03-08T11:56:40.074Z"
   },
   {
    "duration": 10,
    "start_time": "2022-03-08T11:56:40.092Z"
   },
   {
    "duration": 5,
    "start_time": "2022-03-08T11:56:40.133Z"
   },
   {
    "duration": 8,
    "start_time": "2022-03-08T11:56:40.141Z"
   },
   {
    "duration": 3,
    "start_time": "2022-03-08T11:56:40.151Z"
   },
   {
    "duration": 55,
    "start_time": "2022-03-08T11:56:40.155Z"
   },
   {
    "duration": 32,
    "start_time": "2022-03-08T11:56:40.211Z"
   },
   {
    "duration": 14,
    "start_time": "2022-03-08T11:56:40.245Z"
   },
   {
    "duration": 4,
    "start_time": "2022-03-08T11:56:40.261Z"
   },
   {
    "duration": 11,
    "start_time": "2022-03-08T11:56:40.266Z"
   },
   {
    "duration": 68,
    "start_time": "2022-03-08T11:56:40.279Z"
   },
   {
    "duration": 11,
    "start_time": "2022-03-08T11:56:40.348Z"
   },
   {
    "duration": 5,
    "start_time": "2022-03-08T11:56:40.361Z"
   },
   {
    "duration": 12,
    "start_time": "2022-03-08T11:56:40.367Z"
   },
   {
    "duration": 23,
    "start_time": "2022-03-08T11:56:40.381Z"
   },
   {
    "duration": 57,
    "start_time": "2022-03-08T11:56:40.405Z"
   },
   {
    "duration": 11,
    "start_time": "2022-03-08T11:56:40.464Z"
   },
   {
    "duration": 12,
    "start_time": "2022-03-08T11:56:40.477Z"
   },
   {
    "duration": 8,
    "start_time": "2022-03-08T11:56:40.493Z"
   },
   {
    "duration": 12,
    "start_time": "2022-03-08T11:56:40.534Z"
   },
   {
    "duration": 12,
    "start_time": "2022-03-08T11:56:40.548Z"
   },
   {
    "duration": 4,
    "start_time": "2022-03-08T11:56:40.562Z"
   },
   {
    "duration": 9,
    "start_time": "2022-03-08T11:56:40.568Z"
   },
   {
    "duration": 7,
    "start_time": "2022-03-08T11:56:40.579Z"
   },
   {
    "duration": 48,
    "start_time": "2022-03-08T11:56:40.588Z"
   },
   {
    "duration": 12,
    "start_time": "2022-03-08T11:56:40.638Z"
   },
   {
    "duration": 9,
    "start_time": "2022-03-08T11:56:40.651Z"
   },
   {
    "duration": 13,
    "start_time": "2022-03-08T11:56:40.662Z"
   },
   {
    "duration": 11,
    "start_time": "2022-03-08T11:56:40.677Z"
   },
   {
    "duration": 56,
    "start_time": "2022-03-08T11:56:40.690Z"
   },
   {
    "duration": 10,
    "start_time": "2022-03-08T11:56:40.748Z"
   },
   {
    "duration": 10,
    "start_time": "2022-03-08T11:56:40.760Z"
   },
   {
    "duration": 11,
    "start_time": "2022-03-08T11:56:40.771Z"
   },
   {
    "duration": 9,
    "start_time": "2022-03-08T11:56:40.784Z"
   },
   {
    "duration": 47,
    "start_time": "2022-03-08T11:56:40.794Z"
   },
   {
    "duration": 13,
    "start_time": "2022-03-08T11:56:40.842Z"
   },
   {
    "duration": 691,
    "start_time": "2022-03-16T17:36:25.530Z"
   },
   {
    "duration": 56,
    "start_time": "2022-03-16T17:36:26.223Z"
   },
   {
    "duration": 19,
    "start_time": "2022-03-16T17:36:26.281Z"
   },
   {
    "duration": 11,
    "start_time": "2022-03-16T17:36:26.302Z"
   },
   {
    "duration": 30,
    "start_time": "2022-03-16T17:36:26.314Z"
   },
   {
    "duration": 16,
    "start_time": "2022-03-16T17:36:26.346Z"
   },
   {
    "duration": 7,
    "start_time": "2022-03-16T17:36:26.363Z"
   },
   {
    "duration": 8,
    "start_time": "2022-03-16T17:36:26.372Z"
   },
   {
    "duration": 3,
    "start_time": "2022-03-16T17:36:26.383Z"
   },
   {
    "duration": 114,
    "start_time": "2022-03-16T17:36:26.389Z"
   },
   {
    "duration": 10,
    "start_time": "2022-03-16T17:36:26.505Z"
   },
   {
    "duration": 17,
    "start_time": "2022-03-16T17:36:26.517Z"
   },
   {
    "duration": 27,
    "start_time": "2022-03-16T17:36:26.536Z"
   },
   {
    "duration": 10,
    "start_time": "2022-03-16T17:36:26.566Z"
   },
   {
    "duration": 33,
    "start_time": "2022-03-16T17:36:26.578Z"
   },
   {
    "duration": 10,
    "start_time": "2022-03-16T17:36:26.613Z"
   },
   {
    "duration": 6,
    "start_time": "2022-03-16T17:36:26.624Z"
   },
   {
    "duration": 30,
    "start_time": "2022-03-16T17:36:26.639Z"
   },
   {
    "duration": 25,
    "start_time": "2022-03-16T17:36:26.671Z"
   },
   {
    "duration": 33,
    "start_time": "2022-03-16T17:36:26.698Z"
   },
   {
    "duration": 28,
    "start_time": "2022-03-16T17:36:26.732Z"
   },
   {
    "duration": 13,
    "start_time": "2022-03-16T17:36:26.762Z"
   },
   {
    "duration": 9,
    "start_time": "2022-03-16T17:36:26.776Z"
   },
   {
    "duration": 11,
    "start_time": "2022-03-16T17:36:26.787Z"
   },
   {
    "duration": 10,
    "start_time": "2022-03-16T17:36:26.799Z"
   },
   {
    "duration": 28,
    "start_time": "2022-03-16T17:36:26.811Z"
   },
   {
    "duration": 28,
    "start_time": "2022-03-16T17:36:26.843Z"
   },
   {
    "duration": 10,
    "start_time": "2022-03-16T17:36:26.873Z"
   },
   {
    "duration": 16,
    "start_time": "2022-03-16T17:36:26.885Z"
   },
   {
    "duration": 11,
    "start_time": "2022-03-16T17:36:26.902Z"
   },
   {
    "duration": 25,
    "start_time": "2022-03-16T17:36:26.915Z"
   },
   {
    "duration": 32,
    "start_time": "2022-03-16T17:36:26.942Z"
   },
   {
    "duration": 18,
    "start_time": "2022-03-16T17:36:26.976Z"
   },
   {
    "duration": 32,
    "start_time": "2022-03-16T17:36:26.996Z"
   },
   {
    "duration": 23,
    "start_time": "2022-03-16T17:36:27.030Z"
   },
   {
    "duration": 13,
    "start_time": "2022-03-16T17:36:27.054Z"
   },
   {
    "duration": 11,
    "start_time": "2022-03-16T17:36:27.069Z"
   },
   {
    "duration": 13,
    "start_time": "2022-03-16T17:36:27.081Z"
   },
   {
    "duration": 14,
    "start_time": "2022-03-16T17:36:27.095Z"
   },
   {
    "duration": 45,
    "start_time": "2022-03-16T17:36:27.110Z"
   },
   {
    "duration": 17,
    "start_time": "2022-03-16T17:37:00.825Z"
   },
   {
    "duration": 488,
    "start_time": "2022-03-17T06:54:18.894Z"
   },
   {
    "duration": 71,
    "start_time": "2022-03-17T06:54:20.902Z"
   },
   {
    "duration": 33,
    "start_time": "2022-03-17T06:54:22.321Z"
   },
   {
    "duration": 21,
    "start_time": "2022-03-17T06:54:23.832Z"
   },
   {
    "duration": 21,
    "start_time": "2022-03-17T06:54:26.667Z"
   },
   {
    "duration": 16,
    "start_time": "2022-03-17T06:54:27.424Z"
   },
   {
    "duration": 8,
    "start_time": "2022-03-17T06:54:28.253Z"
   },
   {
    "duration": 11,
    "start_time": "2022-03-17T06:54:30.489Z"
   },
   {
    "duration": 5,
    "start_time": "2022-03-17T06:54:31.266Z"
   },
   {
    "duration": 70,
    "start_time": "2022-03-17T06:54:37.356Z"
   },
   {
    "duration": 21,
    "start_time": "2022-03-17T06:54:38.216Z"
   },
   {
    "duration": 27,
    "start_time": "2022-03-17T06:54:39.112Z"
   },
   {
    "duration": 3,
    "start_time": "2022-03-17T06:54:40.274Z"
   },
   {
    "duration": 11,
    "start_time": "2022-03-17T06:54:44.659Z"
   },
   {
    "duration": 14,
    "start_time": "2022-03-17T06:54:45.567Z"
   },
   {
    "duration": 21,
    "start_time": "2022-03-17T06:54:49.074Z"
   },
   {
    "duration": 24,
    "start_time": "2022-03-17T06:57:44.302Z"
   },
   {
    "duration": 484,
    "start_time": "2022-03-17T06:58:21.915Z"
   },
   {
    "duration": 5126,
    "start_time": "2022-03-17T06:58:22.402Z"
   },
   {
    "duration": 2326,
    "start_time": "2022-03-17T06:58:27.530Z"
   },
   {
    "duration": 22,
    "start_time": "2022-03-17T06:58:29.860Z"
   },
   {
    "duration": 25,
    "start_time": "2022-03-17T06:58:29.884Z"
   },
   {
    "duration": 14,
    "start_time": "2022-03-17T06:58:29.911Z"
   },
   {
    "duration": 9,
    "start_time": "2022-03-17T06:58:29.927Z"
   },
   {
    "duration": 49,
    "start_time": "2022-03-17T06:58:29.938Z"
   },
   {
    "duration": 8,
    "start_time": "2022-03-17T06:58:29.989Z"
   },
   {
    "duration": 108,
    "start_time": "2022-03-17T06:58:30.002Z"
   },
   {
    "duration": 19,
    "start_time": "2022-03-17T06:58:30.112Z"
   },
   {
    "duration": 21,
    "start_time": "2022-03-17T06:58:30.133Z"
   },
   {
    "duration": 28,
    "start_time": "2022-03-17T06:58:30.156Z"
   },
   {
    "duration": 19,
    "start_time": "2022-03-17T06:58:30.186Z"
   },
   {
    "duration": 27,
    "start_time": "2022-03-17T06:58:30.207Z"
   },
   {
    "duration": 27,
    "start_time": "2022-03-17T06:58:30.236Z"
   },
   {
    "duration": 21,
    "start_time": "2022-03-17T06:58:30.282Z"
   },
   {
    "duration": 82,
    "start_time": "2022-03-17T06:58:30.305Z"
   },
   {
    "duration": 17,
    "start_time": "2022-03-17T06:58:30.390Z"
   },
   {
    "duration": 15,
    "start_time": "2022-03-17T06:58:30.410Z"
   },
   {
    "duration": 45,
    "start_time": "2022-03-17T06:58:30.427Z"
   },
   {
    "duration": 63,
    "start_time": "2022-03-17T06:58:30.474Z"
   },
   {
    "duration": 56,
    "start_time": "2022-03-17T06:58:30.539Z"
   },
   {
    "duration": 12,
    "start_time": "2022-03-17T06:58:30.598Z"
   },
   {
    "duration": 30,
    "start_time": "2022-03-17T06:58:30.613Z"
   },
   {
    "duration": 30,
    "start_time": "2022-03-17T06:58:30.646Z"
   },
   {
    "duration": 49,
    "start_time": "2022-03-17T06:58:30.681Z"
   },
   {
    "duration": 22,
    "start_time": "2022-03-17T06:58:30.735Z"
   },
   {
    "duration": 10,
    "start_time": "2022-03-17T06:58:30.759Z"
   },
   {
    "duration": 53,
    "start_time": "2022-03-17T06:58:30.772Z"
   },
   {
    "duration": 33,
    "start_time": "2022-03-17T06:58:30.827Z"
   },
   {
    "duration": 26,
    "start_time": "2022-03-17T06:58:30.862Z"
   },
   {
    "duration": 19,
    "start_time": "2022-03-17T06:58:30.891Z"
   },
   {
    "duration": 30,
    "start_time": "2022-03-17T06:58:30.912Z"
   },
   {
    "duration": 38,
    "start_time": "2022-03-17T06:58:30.944Z"
   },
   {
    "duration": 29,
    "start_time": "2022-03-17T06:58:30.984Z"
   },
   {
    "duration": 82,
    "start_time": "2022-03-17T06:58:31.016Z"
   },
   {
    "duration": 17,
    "start_time": "2022-03-17T06:58:31.100Z"
   },
   {
    "duration": 22,
    "start_time": "2022-03-17T06:58:31.119Z"
   },
   {
    "duration": 45,
    "start_time": "2022-03-17T06:58:31.143Z"
   },
   {
    "duration": 16,
    "start_time": "2022-03-17T06:58:31.190Z"
   },
   {
    "duration": 31,
    "start_time": "2022-03-17T06:58:31.208Z"
   },
   {
    "duration": 55,
    "start_time": "2022-03-17T06:58:31.241Z"
   },
   {
    "duration": 461,
    "start_time": "2022-03-17T07:03:05.413Z"
   },
   {
    "duration": 70,
    "start_time": "2022-03-17T07:03:05.877Z"
   },
   {
    "duration": 45,
    "start_time": "2022-03-17T07:03:05.949Z"
   },
   {
    "duration": 23,
    "start_time": "2022-03-17T07:03:05.998Z"
   },
   {
    "duration": 61,
    "start_time": "2022-03-17T07:03:06.024Z"
   },
   {
    "duration": 17,
    "start_time": "2022-03-17T07:03:06.087Z"
   },
   {
    "duration": 9,
    "start_time": "2022-03-17T07:03:06.107Z"
   },
   {
    "duration": 11,
    "start_time": "2022-03-17T07:03:06.118Z"
   },
   {
    "duration": 5,
    "start_time": "2022-03-17T07:03:06.183Z"
   },
   {
    "duration": 93,
    "start_time": "2022-03-17T07:03:06.192Z"
   },
   {
    "duration": 20,
    "start_time": "2022-03-17T07:03:06.287Z"
   },
   {
    "duration": 20,
    "start_time": "2022-03-17T07:03:06.309Z"
   },
   {
    "duration": 6,
    "start_time": "2022-03-17T07:03:06.331Z"
   },
   {
    "duration": 46,
    "start_time": "2022-03-17T07:03:06.339Z"
   },
   {
    "duration": 68,
    "start_time": "2022-03-17T07:03:06.388Z"
   },
   {
    "duration": 43,
    "start_time": "2022-03-17T07:03:06.458Z"
   },
   {
    "duration": 23,
    "start_time": "2022-03-17T07:03:06.504Z"
   },
   {
    "duration": 90,
    "start_time": "2022-03-17T07:03:06.530Z"
   },
   {
    "duration": 19,
    "start_time": "2022-03-17T07:03:06.622Z"
   },
   {
    "duration": 7,
    "start_time": "2022-03-17T07:03:06.644Z"
   },
   {
    "duration": 45,
    "start_time": "2022-03-17T07:03:06.654Z"
   },
   {
    "duration": 32,
    "start_time": "2022-03-17T07:03:06.702Z"
   },
   {
    "duration": 95,
    "start_time": "2022-03-17T07:03:06.737Z"
   },
   {
    "duration": 12,
    "start_time": "2022-03-17T07:03:06.835Z"
   },
   {
    "duration": 42,
    "start_time": "2022-03-17T07:03:06.849Z"
   },
   {
    "duration": 9,
    "start_time": "2022-03-17T07:03:06.894Z"
   },
   {
    "duration": 17,
    "start_time": "2022-03-17T07:03:06.905Z"
   },
   {
    "duration": 57,
    "start_time": "2022-03-17T07:03:06.926Z"
   },
   {
    "duration": 9,
    "start_time": "2022-03-17T07:03:06.985Z"
   },
   {
    "duration": 22,
    "start_time": "2022-03-17T07:03:06.996Z"
   },
   {
    "duration": 12,
    "start_time": "2022-03-17T07:03:07.020Z"
   },
   {
    "duration": 56,
    "start_time": "2022-03-17T07:03:07.035Z"
   },
   {
    "duration": 20,
    "start_time": "2022-03-17T07:03:07.094Z"
   },
   {
    "duration": 14,
    "start_time": "2022-03-17T07:03:07.117Z"
   },
   {
    "duration": 58,
    "start_time": "2022-03-17T07:03:07.134Z"
   },
   {
    "duration": 21,
    "start_time": "2022-03-17T07:03:07.195Z"
   },
   {
    "duration": 75,
    "start_time": "2022-03-17T07:03:07.218Z"
   },
   {
    "duration": 17,
    "start_time": "2022-03-17T07:03:07.296Z"
   },
   {
    "duration": 15,
    "start_time": "2022-03-17T07:03:07.315Z"
   },
   {
    "duration": 53,
    "start_time": "2022-03-17T07:03:07.332Z"
   },
   {
    "duration": 17,
    "start_time": "2022-03-17T07:03:07.387Z"
   },
   {
    "duration": 21,
    "start_time": "2022-03-17T07:03:07.406Z"
   },
   {
    "duration": 66,
    "start_time": "2022-03-17T07:03:07.429Z"
   },
   {
    "duration": 535,
    "start_time": "2022-03-17T07:20:00.054Z"
   },
   {
    "duration": 79,
    "start_time": "2022-03-17T07:20:00.591Z"
   },
   {
    "duration": 42,
    "start_time": "2022-03-17T07:20:00.672Z"
   },
   {
    "duration": 21,
    "start_time": "2022-03-17T07:20:00.717Z"
   },
   {
    "duration": 57,
    "start_time": "2022-03-17T07:20:00.740Z"
   },
   {
    "duration": 18,
    "start_time": "2022-03-17T07:20:00.800Z"
   },
   {
    "duration": 12,
    "start_time": "2022-03-17T07:20:00.820Z"
   },
   {
    "duration": 31,
    "start_time": "2022-03-17T07:20:00.834Z"
   },
   {
    "duration": 6,
    "start_time": "2022-03-17T07:20:00.883Z"
   },
   {
    "duration": 90,
    "start_time": "2022-03-17T07:20:00.893Z"
   },
   {
    "duration": 20,
    "start_time": "2022-03-17T07:20:00.985Z"
   },
   {
    "duration": 21,
    "start_time": "2022-03-17T07:20:01.007Z"
   },
   {
    "duration": 14,
    "start_time": "2022-03-17T07:20:01.031Z"
   },
   {
    "duration": 42,
    "start_time": "2022-03-17T07:20:01.047Z"
   },
   {
    "duration": 13,
    "start_time": "2022-03-17T07:20:01.091Z"
   },
   {
    "duration": 26,
    "start_time": "2022-03-17T07:20:01.107Z"
   },
   {
    "duration": 49,
    "start_time": "2022-03-17T07:20:01.135Z"
   },
   {
    "duration": 52,
    "start_time": "2022-03-17T07:20:01.187Z"
   },
   {
    "duration": 44,
    "start_time": "2022-03-17T07:20:01.241Z"
   },
   {
    "duration": 12,
    "start_time": "2022-03-17T07:20:01.287Z"
   },
   {
    "duration": 21,
    "start_time": "2022-03-17T07:20:01.301Z"
   },
   {
    "duration": 65,
    "start_time": "2022-03-17T07:20:01.324Z"
   },
   {
    "duration": 58,
    "start_time": "2022-03-17T07:20:01.391Z"
   },
   {
    "duration": 35,
    "start_time": "2022-03-17T07:20:01.451Z"
   },
   {
    "duration": 25,
    "start_time": "2022-03-17T07:20:01.488Z"
   },
   {
    "duration": 26,
    "start_time": "2022-03-17T07:20:01.515Z"
   },
   {
    "duration": 32,
    "start_time": "2022-03-17T07:20:01.543Z"
   },
   {
    "duration": 36,
    "start_time": "2022-03-17T07:20:01.584Z"
   },
   {
    "duration": 49,
    "start_time": "2022-03-17T07:20:01.623Z"
   },
   {
    "duration": 50,
    "start_time": "2022-03-17T07:20:01.675Z"
   },
   {
    "duration": 15,
    "start_time": "2022-03-17T07:20:01.727Z"
   },
   {
    "duration": 25,
    "start_time": "2022-03-17T07:20:01.744Z"
   },
   {
    "duration": 30,
    "start_time": "2022-03-17T07:20:01.771Z"
   },
   {
    "duration": 28,
    "start_time": "2022-03-17T07:20:01.803Z"
   },
   {
    "duration": 26,
    "start_time": "2022-03-17T07:20:01.834Z"
   },
   {
    "duration": 28,
    "start_time": "2022-03-17T07:20:01.863Z"
   },
   {
    "duration": 69,
    "start_time": "2022-03-17T07:20:01.894Z"
   },
   {
    "duration": 25,
    "start_time": "2022-03-17T07:20:01.966Z"
   },
   {
    "duration": 34,
    "start_time": "2022-03-17T07:20:01.994Z"
   },
   {
    "duration": 31,
    "start_time": "2022-03-17T07:20:02.031Z"
   },
   {
    "duration": 34,
    "start_time": "2022-03-17T07:20:02.064Z"
   },
   {
    "duration": 38,
    "start_time": "2022-03-17T07:20:02.101Z"
   },
   {
    "duration": 42,
    "start_time": "2022-03-17T07:20:02.141Z"
   },
   {
    "duration": 24,
    "start_time": "2022-03-17T07:22:31.683Z"
   },
   {
    "duration": 23,
    "start_time": "2022-03-17T07:22:41.261Z"
   },
   {
    "duration": 34,
    "start_time": "2022-03-17T07:30:51.594Z"
   },
   {
    "duration": 526,
    "start_time": "2022-03-17T07:32:10.241Z"
   },
   {
    "duration": 78,
    "start_time": "2022-03-17T07:32:10.769Z"
   },
   {
    "duration": 44,
    "start_time": "2022-03-17T07:32:10.850Z"
   },
   {
    "duration": 22,
    "start_time": "2022-03-17T07:32:10.897Z"
   },
   {
    "duration": 21,
    "start_time": "2022-03-17T07:32:10.922Z"
   },
   {
    "duration": 47,
    "start_time": "2022-03-17T07:32:10.945Z"
   },
   {
    "duration": 10,
    "start_time": "2022-03-17T07:32:10.995Z"
   },
   {
    "duration": 15,
    "start_time": "2022-03-17T07:32:11.009Z"
   },
   {
    "duration": 5,
    "start_time": "2022-03-17T07:32:11.026Z"
   },
   {
    "duration": 119,
    "start_time": "2022-03-17T07:32:11.033Z"
   },
   {
    "duration": 45,
    "start_time": "2022-03-17T07:32:11.154Z"
   },
   {
    "duration": 20,
    "start_time": "2022-03-17T07:32:11.201Z"
   },
   {
    "duration": 4,
    "start_time": "2022-03-17T07:32:11.224Z"
   },
   {
    "duration": 54,
    "start_time": "2022-03-17T07:32:11.233Z"
   },
   {
    "duration": 11,
    "start_time": "2022-03-17T07:32:11.290Z"
   },
   {
    "duration": 33,
    "start_time": "2022-03-17T07:32:11.304Z"
   },
   {
    "duration": 22,
    "start_time": "2022-03-17T07:32:11.383Z"
   },
   {
    "duration": 83,
    "start_time": "2022-03-17T07:32:11.407Z"
   },
   {
    "duration": 18,
    "start_time": "2022-03-17T07:32:11.493Z"
   },
   {
    "duration": 6,
    "start_time": "2022-03-17T07:32:11.513Z"
   },
   {
    "duration": 21,
    "start_time": "2022-03-17T07:32:11.522Z"
   },
   {
    "duration": 70,
    "start_time": "2022-03-17T07:32:11.545Z"
   },
   {
    "duration": 88,
    "start_time": "2022-03-17T07:32:11.617Z"
   },
   {
    "duration": 13,
    "start_time": "2022-03-17T07:32:11.707Z"
   },
   {
    "duration": 14,
    "start_time": "2022-03-17T07:32:11.722Z"
   },
   {
    "duration": 50,
    "start_time": "2022-03-17T07:32:11.738Z"
   },
   {
    "duration": 22,
    "start_time": "2022-03-17T07:32:11.790Z"
   },
   {
    "duration": 17,
    "start_time": "2022-03-17T07:32:11.815Z"
   },
   {
    "duration": 53,
    "start_time": "2022-03-17T07:32:11.834Z"
   },
   {
    "duration": 20,
    "start_time": "2022-03-17T07:32:11.889Z"
   },
   {
    "duration": 13,
    "start_time": "2022-03-17T07:32:11.912Z"
   },
   {
    "duration": 63,
    "start_time": "2022-03-17T07:32:11.928Z"
   },
   {
    "duration": 29,
    "start_time": "2022-03-17T07:32:11.994Z"
   },
   {
    "duration": 13,
    "start_time": "2022-03-17T07:32:12.025Z"
   },
   {
    "duration": 58,
    "start_time": "2022-03-17T07:32:12.041Z"
   },
   {
    "duration": 20,
    "start_time": "2022-03-17T07:32:12.102Z"
   },
   {
    "duration": 81,
    "start_time": "2022-03-17T07:32:12.124Z"
   },
   {
    "duration": 17,
    "start_time": "2022-03-17T07:32:12.207Z"
   },
   {
    "duration": 14,
    "start_time": "2022-03-17T07:32:12.226Z"
   },
   {
    "duration": 53,
    "start_time": "2022-03-17T07:32:12.242Z"
   },
   {
    "duration": 14,
    "start_time": "2022-03-17T07:32:12.301Z"
   },
   {
    "duration": 25,
    "start_time": "2022-03-17T07:32:12.318Z"
   },
   {
    "duration": 55,
    "start_time": "2022-03-17T07:32:12.345Z"
   },
   {
    "duration": 23,
    "start_time": "2022-03-17T07:33:17.835Z"
   },
   {
    "duration": 460,
    "start_time": "2022-03-17T07:33:26.522Z"
   },
   {
    "duration": 71,
    "start_time": "2022-03-17T07:33:26.985Z"
   },
   {
    "duration": 45,
    "start_time": "2022-03-17T07:33:27.059Z"
   },
   {
    "duration": 20,
    "start_time": "2022-03-17T07:33:27.108Z"
   },
   {
    "duration": 55,
    "start_time": "2022-03-17T07:33:27.131Z"
   },
   {
    "duration": 16,
    "start_time": "2022-03-17T07:33:27.189Z"
   },
   {
    "duration": 9,
    "start_time": "2022-03-17T07:33:27.207Z"
   },
   {
    "duration": 25,
    "start_time": "2022-03-17T07:33:27.218Z"
   },
   {
    "duration": 36,
    "start_time": "2022-03-17T07:33:27.246Z"
   },
   {
    "duration": 86,
    "start_time": "2022-03-17T07:33:27.286Z"
   },
   {
    "duration": 22,
    "start_time": "2022-03-17T07:33:27.374Z"
   },
   {
    "duration": 37,
    "start_time": "2022-03-17T07:33:27.399Z"
   },
   {
    "duration": 13,
    "start_time": "2022-03-17T07:33:27.438Z"
   },
   {
    "duration": 29,
    "start_time": "2022-03-17T07:33:27.453Z"
   },
   {
    "duration": 24,
    "start_time": "2022-03-17T07:33:27.485Z"
   },
   {
    "duration": 24,
    "start_time": "2022-03-17T07:33:27.512Z"
   },
   {
    "duration": 36,
    "start_time": "2022-03-17T07:33:27.539Z"
   },
   {
    "duration": 52,
    "start_time": "2022-03-17T07:33:27.577Z"
   },
   {
    "duration": 18,
    "start_time": "2022-03-17T07:33:27.631Z"
   },
   {
    "duration": 34,
    "start_time": "2022-03-17T07:33:27.651Z"
   },
   {
    "duration": 22,
    "start_time": "2022-03-17T07:33:27.688Z"
   },
   {
    "duration": 43,
    "start_time": "2022-03-17T07:33:27.712Z"
   },
   {
    "duration": 76,
    "start_time": "2022-03-17T07:33:27.758Z"
   },
   {
    "duration": 12,
    "start_time": "2022-03-17T07:33:27.836Z"
   },
   {
    "duration": 45,
    "start_time": "2022-03-17T07:33:27.851Z"
   },
   {
    "duration": 32,
    "start_time": "2022-03-17T07:33:27.898Z"
   },
   {
    "duration": 39,
    "start_time": "2022-03-17T07:33:27.934Z"
   },
   {
    "duration": 41,
    "start_time": "2022-03-17T07:33:27.979Z"
   },
   {
    "duration": 23,
    "start_time": "2022-03-17T07:33:28.022Z"
   },
   {
    "duration": 35,
    "start_time": "2022-03-17T07:33:28.048Z"
   },
   {
    "duration": 24,
    "start_time": "2022-03-17T07:33:28.086Z"
   },
   {
    "duration": 37,
    "start_time": "2022-03-17T07:33:28.112Z"
   },
   {
    "duration": 34,
    "start_time": "2022-03-17T07:33:28.151Z"
   },
   {
    "duration": 28,
    "start_time": "2022-03-17T07:33:28.187Z"
   },
   {
    "duration": 26,
    "start_time": "2022-03-17T07:33:28.217Z"
   },
   {
    "duration": 40,
    "start_time": "2022-03-17T07:33:28.245Z"
   },
   {
    "duration": 67,
    "start_time": "2022-03-17T07:33:28.287Z"
   },
   {
    "duration": 15,
    "start_time": "2022-03-17T07:33:28.356Z"
   },
   {
    "duration": 12,
    "start_time": "2022-03-17T07:33:28.382Z"
   },
   {
    "duration": 27,
    "start_time": "2022-03-17T07:33:28.397Z"
   },
   {
    "duration": 14,
    "start_time": "2022-03-17T07:33:28.426Z"
   },
   {
    "duration": 56,
    "start_time": "2022-03-17T07:33:28.442Z"
   },
   {
    "duration": 50,
    "start_time": "2022-03-17T07:33:28.500Z"
   },
   {
    "duration": 530,
    "start_time": "2022-03-17T07:46:17.639Z"
   },
   {
    "duration": 90,
    "start_time": "2022-03-17T07:46:18.171Z"
   },
   {
    "duration": 38,
    "start_time": "2022-03-17T07:46:18.263Z"
   },
   {
    "duration": 21,
    "start_time": "2022-03-17T07:46:18.305Z"
   },
   {
    "duration": 72,
    "start_time": "2022-03-17T07:46:18.330Z"
   },
   {
    "duration": 21,
    "start_time": "2022-03-17T07:46:18.406Z"
   },
   {
    "duration": 11,
    "start_time": "2022-03-17T07:46:18.431Z"
   },
   {
    "duration": 46,
    "start_time": "2022-03-17T07:46:18.444Z"
   },
   {
    "duration": 10,
    "start_time": "2022-03-17T07:46:18.493Z"
   },
   {
    "duration": 108,
    "start_time": "2022-03-17T07:46:18.508Z"
   },
   {
    "duration": 24,
    "start_time": "2022-03-17T07:46:18.618Z"
   },
   {
    "duration": 51,
    "start_time": "2022-03-17T07:46:18.645Z"
   },
   {
    "duration": 9,
    "start_time": "2022-03-17T07:46:18.699Z"
   },
   {
    "duration": 13,
    "start_time": "2022-03-17T07:46:18.710Z"
   },
   {
    "duration": 8,
    "start_time": "2022-03-17T07:46:18.726Z"
   },
   {
    "duration": 62,
    "start_time": "2022-03-17T07:46:18.736Z"
   },
   {
    "duration": 5,
    "start_time": "2022-03-17T07:46:18.801Z"
   },
   {
    "duration": 5,
    "start_time": "2022-03-17T07:46:18.809Z"
   },
   {
    "duration": 84,
    "start_time": "2022-03-17T07:46:18.818Z"
   },
   {
    "duration": 18,
    "start_time": "2022-03-17T07:46:18.904Z"
   },
   {
    "duration": 8,
    "start_time": "2022-03-17T07:46:18.926Z"
   },
   {
    "duration": 51,
    "start_time": "2022-03-17T07:46:18.937Z"
   },
   {
    "duration": 37,
    "start_time": "2022-03-17T07:46:18.991Z"
   },
   {
    "duration": 95,
    "start_time": "2022-03-17T07:46:19.031Z"
   },
   {
    "duration": 15,
    "start_time": "2022-03-17T07:46:19.129Z"
   },
   {
    "duration": 42,
    "start_time": "2022-03-17T07:46:19.146Z"
   },
   {
    "duration": 15,
    "start_time": "2022-03-17T07:46:19.191Z"
   },
   {
    "duration": 17,
    "start_time": "2022-03-17T07:46:19.212Z"
   },
   {
    "duration": 59,
    "start_time": "2022-03-17T07:46:19.232Z"
   },
   {
    "duration": 9,
    "start_time": "2022-03-17T07:46:19.294Z"
   },
   {
    "duration": 35,
    "start_time": "2022-03-17T07:46:19.305Z"
   },
   {
    "duration": 14,
    "start_time": "2022-03-17T07:46:19.343Z"
   },
   {
    "duration": 23,
    "start_time": "2022-03-17T07:46:19.383Z"
   },
   {
    "duration": 27,
    "start_time": "2022-03-17T07:46:19.408Z"
   },
   {
    "duration": 16,
    "start_time": "2022-03-17T07:46:19.438Z"
   },
   {
    "duration": 21,
    "start_time": "2022-03-17T07:46:19.483Z"
   },
   {
    "duration": 20,
    "start_time": "2022-03-17T07:46:19.506Z"
   },
   {
    "duration": 118,
    "start_time": "2022-03-17T07:46:19.530Z"
   },
   {
    "duration": 41,
    "start_time": "2022-03-17T07:46:19.652Z"
   },
   {
    "duration": 20,
    "start_time": "2022-03-17T07:46:19.697Z"
   },
   {
    "duration": 19,
    "start_time": "2022-03-17T07:46:19.722Z"
   },
   {
    "duration": 50,
    "start_time": "2022-03-17T07:46:19.743Z"
   },
   {
    "duration": 21,
    "start_time": "2022-03-17T07:46:19.795Z"
   },
   {
    "duration": 71,
    "start_time": "2022-03-17T07:46:19.818Z"
   },
   {
    "duration": 3,
    "start_time": "2022-03-17T07:53:14.122Z"
   },
   {
    "duration": 473,
    "start_time": "2022-03-17T07:56:10.205Z"
   },
   {
    "duration": 72,
    "start_time": "2022-03-17T07:56:10.683Z"
   },
   {
    "duration": 46,
    "start_time": "2022-03-17T07:56:10.757Z"
   },
   {
    "duration": 22,
    "start_time": "2022-03-17T07:56:10.806Z"
   },
   {
    "duration": 53,
    "start_time": "2022-03-17T07:56:10.830Z"
   },
   {
    "duration": 15,
    "start_time": "2022-03-17T07:56:10.886Z"
   },
   {
    "duration": 10,
    "start_time": "2022-03-17T07:56:10.903Z"
   },
   {
    "duration": 67,
    "start_time": "2022-03-17T07:56:10.915Z"
   },
   {
    "duration": 6,
    "start_time": "2022-03-17T07:56:10.985Z"
   },
   {
    "duration": 97,
    "start_time": "2022-03-17T07:56:10.999Z"
   },
   {
    "duration": 24,
    "start_time": "2022-03-17T07:56:11.099Z"
   },
   {
    "duration": 20,
    "start_time": "2022-03-17T07:56:11.125Z"
   },
   {
    "duration": 36,
    "start_time": "2022-03-17T07:56:11.147Z"
   },
   {
    "duration": 12,
    "start_time": "2022-03-17T07:56:11.186Z"
   },
   {
    "duration": 7,
    "start_time": "2022-03-17T07:56:11.200Z"
   },
   {
    "duration": 19,
    "start_time": "2022-03-17T07:56:11.209Z"
   },
   {
    "duration": 4,
    "start_time": "2022-03-17T07:56:11.231Z"
   },
   {
    "duration": 5,
    "start_time": "2022-03-17T07:56:11.283Z"
   },
   {
    "duration": 44,
    "start_time": "2022-03-17T07:56:11.291Z"
   },
   {
    "duration": 48,
    "start_time": "2022-03-17T07:56:11.337Z"
   },
   {
    "duration": 8,
    "start_time": "2022-03-17T07:56:11.387Z"
   },
   {
    "duration": 17,
    "start_time": "2022-03-17T07:56:11.397Z"
   },
   {
    "duration": 75,
    "start_time": "2022-03-17T07:56:11.416Z"
   },
   {
    "duration": 53,
    "start_time": "2022-03-17T07:56:11.494Z"
   },
   {
    "duration": 40,
    "start_time": "2022-03-17T07:56:11.549Z"
   },
   {
    "duration": 3,
    "start_time": "2022-03-17T07:56:11.591Z"
   },
   {
    "duration": 14,
    "start_time": "2022-03-17T07:56:11.597Z"
   },
   {
    "duration": 15,
    "start_time": "2022-03-17T07:56:11.616Z"
   },
   {
    "duration": 62,
    "start_time": "2022-03-17T07:56:11.634Z"
   },
   {
    "duration": 10,
    "start_time": "2022-03-17T07:56:11.699Z"
   },
   {
    "duration": 22,
    "start_time": "2022-03-17T07:56:11.712Z"
   },
   {
    "duration": 49,
    "start_time": "2022-03-17T07:56:11.737Z"
   },
   {
    "duration": 23,
    "start_time": "2022-03-17T07:56:11.788Z"
   },
   {
    "duration": 19,
    "start_time": "2022-03-17T07:56:11.813Z"
   },
   {
    "duration": 50,
    "start_time": "2022-03-17T07:56:11.834Z"
   },
   {
    "duration": 22,
    "start_time": "2022-03-17T07:56:11.886Z"
   },
   {
    "duration": 28,
    "start_time": "2022-03-17T07:56:11.912Z"
   },
   {
    "duration": 82,
    "start_time": "2022-03-17T07:56:11.943Z"
   },
   {
    "duration": 16,
    "start_time": "2022-03-17T07:56:12.028Z"
   },
   {
    "duration": 44,
    "start_time": "2022-03-17T07:56:12.046Z"
   },
   {
    "duration": 20,
    "start_time": "2022-03-17T07:56:12.092Z"
   },
   {
    "duration": 15,
    "start_time": "2022-03-17T07:56:12.114Z"
   },
   {
    "duration": 63,
    "start_time": "2022-03-17T07:56:12.131Z"
   },
   {
    "duration": 21,
    "start_time": "2022-03-17T07:56:12.196Z"
   },
   {
    "duration": 461,
    "start_time": "2022-03-17T08:11:49.728Z"
   },
   {
    "duration": 80,
    "start_time": "2022-03-17T08:11:50.192Z"
   },
   {
    "duration": 38,
    "start_time": "2022-03-17T08:11:50.274Z"
   },
   {
    "duration": 28,
    "start_time": "2022-03-17T08:11:50.314Z"
   },
   {
    "duration": 55,
    "start_time": "2022-03-17T08:11:50.347Z"
   },
   {
    "duration": 32,
    "start_time": "2022-03-17T08:11:50.404Z"
   },
   {
    "duration": 28,
    "start_time": "2022-03-17T08:11:50.438Z"
   },
   {
    "duration": 20,
    "start_time": "2022-03-17T08:11:50.468Z"
   },
   {
    "duration": 19,
    "start_time": "2022-03-17T08:11:50.490Z"
   },
   {
    "duration": 108,
    "start_time": "2022-03-17T08:11:50.511Z"
   },
   {
    "duration": 20,
    "start_time": "2022-03-17T08:11:50.621Z"
   },
   {
    "duration": 43,
    "start_time": "2022-03-17T08:11:50.643Z"
   },
   {
    "duration": 19,
    "start_time": "2022-03-17T08:11:50.689Z"
   },
   {
    "duration": 33,
    "start_time": "2022-03-17T08:11:50.713Z"
   },
   {
    "duration": 10,
    "start_time": "2022-03-17T08:11:50.748Z"
   },
   {
    "duration": 30,
    "start_time": "2022-03-17T08:11:50.760Z"
   },
   {
    "duration": 15,
    "start_time": "2022-03-17T08:11:50.792Z"
   },
   {
    "duration": 20,
    "start_time": "2022-03-17T08:11:50.810Z"
   },
   {
    "duration": 47,
    "start_time": "2022-03-17T08:11:50.832Z"
   },
   {
    "duration": 16,
    "start_time": "2022-03-17T08:11:50.882Z"
   },
   {
    "duration": 14,
    "start_time": "2022-03-17T08:11:50.901Z"
   },
   {
    "duration": 26,
    "start_time": "2022-03-17T08:11:50.917Z"
   },
   {
    "duration": 56,
    "start_time": "2022-03-17T08:11:50.945Z"
   },
   {
    "duration": 51,
    "start_time": "2022-03-17T08:11:51.003Z"
   },
   {
    "duration": 34,
    "start_time": "2022-03-17T08:11:51.056Z"
   },
   {
    "duration": 15,
    "start_time": "2022-03-17T08:11:51.093Z"
   },
   {
    "duration": 42,
    "start_time": "2022-03-17T08:11:51.110Z"
   },
   {
    "duration": 32,
    "start_time": "2022-03-17T08:11:51.155Z"
   },
   {
    "duration": 18,
    "start_time": "2022-03-17T08:11:51.189Z"
   },
   {
    "duration": 36,
    "start_time": "2022-03-17T08:11:51.209Z"
   },
   {
    "duration": 39,
    "start_time": "2022-03-17T08:11:51.248Z"
   },
   {
    "duration": 14,
    "start_time": "2022-03-17T08:11:51.290Z"
   },
   {
    "duration": 27,
    "start_time": "2022-03-17T08:11:51.306Z"
   },
   {
    "duration": 47,
    "start_time": "2022-03-17T08:11:51.336Z"
   },
   {
    "duration": 18,
    "start_time": "2022-03-17T08:11:51.385Z"
   },
   {
    "duration": 49,
    "start_time": "2022-03-17T08:11:51.405Z"
   },
   {
    "duration": 40,
    "start_time": "2022-03-17T08:11:51.457Z"
   },
   {
    "duration": 92,
    "start_time": "2022-03-17T08:11:51.499Z"
   },
   {
    "duration": 22,
    "start_time": "2022-03-17T08:11:51.594Z"
   },
   {
    "duration": 14,
    "start_time": "2022-03-17T08:11:51.618Z"
   },
   {
    "duration": 53,
    "start_time": "2022-03-17T08:11:51.637Z"
   },
   {
    "duration": 16,
    "start_time": "2022-03-17T08:11:51.692Z"
   },
   {
    "duration": 37,
    "start_time": "2022-03-17T08:11:51.710Z"
   },
   {
    "duration": 41,
    "start_time": "2022-03-17T08:11:51.749Z"
   },
   {
    "duration": 516,
    "start_time": "2022-03-17T08:15:57.774Z"
   },
   {
    "duration": 74,
    "start_time": "2022-03-17T08:15:58.292Z"
   },
   {
    "duration": 42,
    "start_time": "2022-03-17T08:15:58.368Z"
   },
   {
    "duration": 20,
    "start_time": "2022-03-17T08:15:58.414Z"
   },
   {
    "duration": 60,
    "start_time": "2022-03-17T08:15:58.437Z"
   },
   {
    "duration": 18,
    "start_time": "2022-03-17T08:15:58.500Z"
   },
   {
    "duration": 9,
    "start_time": "2022-03-17T08:15:58.521Z"
   },
   {
    "duration": 61,
    "start_time": "2022-03-17T08:15:58.532Z"
   },
   {
    "duration": 6,
    "start_time": "2022-03-17T08:15:58.596Z"
   },
   {
    "duration": 117,
    "start_time": "2022-03-17T08:15:58.610Z"
   },
   {
    "duration": 20,
    "start_time": "2022-03-17T08:15:58.730Z"
   },
   {
    "duration": 41,
    "start_time": "2022-03-17T08:15:58.753Z"
   },
   {
    "duration": 6,
    "start_time": "2022-03-17T08:15:58.796Z"
   },
   {
    "duration": 13,
    "start_time": "2022-03-17T08:15:58.804Z"
   },
   {
    "duration": 12,
    "start_time": "2022-03-17T08:15:58.819Z"
   },
   {
    "duration": 56,
    "start_time": "2022-03-17T08:15:58.833Z"
   },
   {
    "duration": 5,
    "start_time": "2022-03-17T08:15:58.891Z"
   },
   {
    "duration": 23,
    "start_time": "2022-03-17T08:15:58.898Z"
   },
   {
    "duration": 62,
    "start_time": "2022-03-17T08:15:58.923Z"
   },
   {
    "duration": 21,
    "start_time": "2022-03-17T08:15:58.987Z"
   },
   {
    "duration": 24,
    "start_time": "2022-03-17T08:15:59.011Z"
   },
   {
    "duration": 37,
    "start_time": "2022-03-17T08:15:59.038Z"
   },
   {
    "duration": 46,
    "start_time": "2022-03-17T08:15:59.078Z"
   },
   {
    "duration": 79,
    "start_time": "2022-03-17T08:15:59.127Z"
   },
   {
    "duration": 14,
    "start_time": "2022-03-17T08:15:59.208Z"
   },
   {
    "duration": 19,
    "start_time": "2022-03-17T08:15:59.225Z"
   },
   {
    "duration": 29,
    "start_time": "2022-03-17T08:15:59.246Z"
   },
   {
    "duration": 16,
    "start_time": "2022-03-17T08:15:59.286Z"
   },
   {
    "duration": 20,
    "start_time": "2022-03-17T08:15:59.305Z"
   },
   {
    "duration": 8,
    "start_time": "2022-03-17T08:15:59.327Z"
   },
   {
    "duration": 63,
    "start_time": "2022-03-17T08:15:59.338Z"
   },
   {
    "duration": 13,
    "start_time": "2022-03-17T08:15:59.403Z"
   },
   {
    "duration": 24,
    "start_time": "2022-03-17T08:15:59.418Z"
   },
   {
    "duration": 48,
    "start_time": "2022-03-17T08:15:59.444Z"
   },
   {
    "duration": 17,
    "start_time": "2022-03-17T08:15:59.494Z"
   },
   {
    "duration": 25,
    "start_time": "2022-03-17T08:15:59.514Z"
   },
   {
    "duration": 60,
    "start_time": "2022-03-17T08:15:59.542Z"
   },
   {
    "duration": 81,
    "start_time": "2022-03-17T08:15:59.604Z"
   },
   {
    "duration": 18,
    "start_time": "2022-03-17T08:15:59.687Z"
   },
   {
    "duration": 14,
    "start_time": "2022-03-17T08:15:59.708Z"
   },
   {
    "duration": 58,
    "start_time": "2022-03-17T08:15:59.724Z"
   },
   {
    "duration": 16,
    "start_time": "2022-03-17T08:15:59.784Z"
   },
   {
    "duration": 24,
    "start_time": "2022-03-17T08:15:59.802Z"
   },
   {
    "duration": 57,
    "start_time": "2022-03-17T08:15:59.828Z"
   },
   {
    "duration": 527,
    "start_time": "2022-03-17T08:19:53.536Z"
   },
   {
    "duration": 116,
    "start_time": "2022-03-17T08:19:54.066Z"
   },
   {
    "duration": 34,
    "start_time": "2022-03-17T08:19:54.184Z"
   },
   {
    "duration": 23,
    "start_time": "2022-03-17T08:19:54.221Z"
   },
   {
    "duration": 55,
    "start_time": "2022-03-17T08:19:54.247Z"
   },
   {
    "duration": 13,
    "start_time": "2022-03-17T08:19:54.305Z"
   },
   {
    "duration": 10,
    "start_time": "2022-03-17T08:19:54.320Z"
   },
   {
    "duration": 59,
    "start_time": "2022-03-17T08:19:54.332Z"
   },
   {
    "duration": 8,
    "start_time": "2022-03-17T08:19:54.394Z"
   },
   {
    "duration": 108,
    "start_time": "2022-03-17T08:19:54.407Z"
   },
   {
    "duration": 21,
    "start_time": "2022-03-17T08:19:54.517Z"
   },
   {
    "duration": 42,
    "start_time": "2022-03-17T08:19:54.540Z"
   },
   {
    "duration": 3,
    "start_time": "2022-03-17T08:19:54.585Z"
   },
   {
    "duration": 15,
    "start_time": "2022-03-17T08:19:54.590Z"
   },
   {
    "duration": 9,
    "start_time": "2022-03-17T08:19:54.608Z"
   },
   {
    "duration": 23,
    "start_time": "2022-03-17T08:19:54.619Z"
   },
   {
    "duration": 41,
    "start_time": "2022-03-17T08:19:54.645Z"
   },
   {
    "duration": 10,
    "start_time": "2022-03-17T08:19:54.688Z"
   },
   {
    "duration": 44,
    "start_time": "2022-03-17T08:19:54.700Z"
   },
   {
    "duration": 46,
    "start_time": "2022-03-17T08:19:54.747Z"
   },
   {
    "duration": 9,
    "start_time": "2022-03-17T08:19:54.795Z"
   },
   {
    "duration": 25,
    "start_time": "2022-03-17T08:19:54.806Z"
   },
   {
    "duration": 67,
    "start_time": "2022-03-17T08:19:54.833Z"
   },
   {
    "duration": 56,
    "start_time": "2022-03-17T08:19:54.903Z"
   },
   {
    "duration": 29,
    "start_time": "2022-03-17T08:19:54.961Z"
   },
   {
    "duration": 5,
    "start_time": "2022-03-17T08:19:54.992Z"
   },
   {
    "duration": 14,
    "start_time": "2022-03-17T08:19:54.999Z"
   },
   {
    "duration": 16,
    "start_time": "2022-03-17T08:19:55.019Z"
   },
   {
    "duration": 19,
    "start_time": "2022-03-17T08:19:55.083Z"
   },
   {
    "duration": 8,
    "start_time": "2022-03-17T08:19:55.105Z"
   },
   {
    "duration": 22,
    "start_time": "2022-03-17T08:19:55.115Z"
   },
   {
    "duration": 51,
    "start_time": "2022-03-17T08:19:55.140Z"
   },
   {
    "duration": 22,
    "start_time": "2022-03-17T08:19:55.194Z"
   },
   {
    "duration": 22,
    "start_time": "2022-03-17T08:19:55.219Z"
   },
   {
    "duration": 45,
    "start_time": "2022-03-17T08:19:55.244Z"
   },
   {
    "duration": 22,
    "start_time": "2022-03-17T08:19:55.292Z"
   },
   {
    "duration": 21,
    "start_time": "2022-03-17T08:19:55.317Z"
   },
   {
    "duration": 46,
    "start_time": "2022-03-17T08:19:55.382Z"
   },
   {
    "duration": 15,
    "start_time": "2022-03-17T08:19:55.430Z"
   },
   {
    "duration": 46,
    "start_time": "2022-03-17T08:19:55.448Z"
   },
   {
    "duration": 19,
    "start_time": "2022-03-17T08:19:55.496Z"
   },
   {
    "duration": 16,
    "start_time": "2022-03-17T08:19:55.517Z"
   },
   {
    "duration": 58,
    "start_time": "2022-03-17T08:19:55.542Z"
   },
   {
    "duration": 23,
    "start_time": "2022-03-17T08:19:55.603Z"
   }
  ],
  "kernelspec": {
   "display_name": "Python 3 (ipykernel)",
   "language": "python",
   "name": "python3"
  },
  "language_info": {
   "codemirror_mode": {
    "name": "ipython",
    "version": 3
   },
   "file_extension": ".py",
   "mimetype": "text/x-python",
   "name": "python",
   "nbconvert_exporter": "python",
   "pygments_lexer": "ipython3",
   "version": "3.9.7"
  },
  "toc": {
   "base_numbering": 1,
   "nav_menu": {},
   "number_sections": true,
   "sideBar": true,
   "skip_h1_title": true,
   "title_cell": "Table of Contents",
   "title_sidebar": "Contents",
   "toc_cell": false,
   "toc_position": {},
   "toc_section_display": true,
   "toc_window_display": false
  }
 },
 "nbformat": 4,
 "nbformat_minor": 5
}
